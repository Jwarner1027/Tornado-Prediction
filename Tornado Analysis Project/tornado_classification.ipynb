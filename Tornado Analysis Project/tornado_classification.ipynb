{
 "cells": [
  {
   "cell_type": "code",
   "execution_count": 1,
   "metadata": {},
   "outputs": [
    {
     "data": {
      "text/html": [
       "<div>\n",
       "<style scoped>\n",
       "    .dataframe tbody tr th:only-of-type {\n",
       "        vertical-align: middle;\n",
       "    }\n",
       "\n",
       "    .dataframe tbody tr th {\n",
       "        vertical-align: top;\n",
       "    }\n",
       "\n",
       "    .dataframe thead th {\n",
       "        text-align: right;\n",
       "    }\n",
       "</style>\n",
       "<table border=\"1\" class=\"dataframe\">\n",
       "  <thead>\n",
       "    <tr style=\"text-align: right;\">\n",
       "      <th></th>\n",
       "      <th>BEGIN_YEARMONTH</th>\n",
       "      <th>BEGIN_DAY</th>\n",
       "      <th>BEGIN_TIME</th>\n",
       "      <th>END_YEARMONTH</th>\n",
       "      <th>END_DAY</th>\n",
       "      <th>END_TIME</th>\n",
       "      <th>EPISODE_ID</th>\n",
       "      <th>EVENT_ID</th>\n",
       "      <th>STATE</th>\n",
       "      <th>STATE_FIPS</th>\n",
       "      <th>...</th>\n",
       "      <th>END_RANGE</th>\n",
       "      <th>END_AZIMUTH</th>\n",
       "      <th>END_LOCATION</th>\n",
       "      <th>BEGIN_LAT</th>\n",
       "      <th>BEGIN_LON</th>\n",
       "      <th>END_LAT</th>\n",
       "      <th>END_LON</th>\n",
       "      <th>EPISODE_NARRATIVE</th>\n",
       "      <th>EVENT_NARRATIVE</th>\n",
       "      <th>DATA_SOURCE</th>\n",
       "    </tr>\n",
       "  </thead>\n",
       "  <tbody>\n",
       "    <tr>\n",
       "      <th>0</th>\n",
       "      <td>201905</td>\n",
       "      <td>9</td>\n",
       "      <td>1554</td>\n",
       "      <td>201905</td>\n",
       "      <td>9</td>\n",
       "      <td>1830</td>\n",
       "      <td>137295</td>\n",
       "      <td>824116</td>\n",
       "      <td>TEXAS</td>\n",
       "      <td>48</td>\n",
       "      <td>...</td>\n",
       "      <td>7.0</td>\n",
       "      <td>NNE</td>\n",
       "      <td>SAN GERONIMO</td>\n",
       "      <td>29.7898</td>\n",
       "      <td>-98.6406</td>\n",
       "      <td>29.7158</td>\n",
       "      <td>-98.7744</td>\n",
       "      <td>Thunderstorms developed along a cold front as ...</td>\n",
       "      <td>Thunderstorms produced heavy rain that led to ...</td>\n",
       "      <td>CSV</td>\n",
       "    </tr>\n",
       "    <tr>\n",
       "      <th>1</th>\n",
       "      <td>201908</td>\n",
       "      <td>1</td>\n",
       "      <td>0</td>\n",
       "      <td>201908</td>\n",
       "      <td>7</td>\n",
       "      <td>1400</td>\n",
       "      <td>141502</td>\n",
       "      <td>849617</td>\n",
       "      <td>SOUTH DAKOTA</td>\n",
       "      <td>46</td>\n",
       "      <td>...</td>\n",
       "      <td>3.0</td>\n",
       "      <td>W</td>\n",
       "      <td>BRUCE</td>\n",
       "      <td>44.5400</td>\n",
       "      <td>-96.9600</td>\n",
       "      <td>44.4300</td>\n",
       "      <td>-96.9400</td>\n",
       "      <td>Minor flooding slowly dwindled during early Au...</td>\n",
       "      <td>A continuation of flooding from July, the Big ...</td>\n",
       "      <td>CSV</td>\n",
       "    </tr>\n",
       "    <tr>\n",
       "      <th>2</th>\n",
       "      <td>201909</td>\n",
       "      <td>25</td>\n",
       "      <td>1823</td>\n",
       "      <td>201909</td>\n",
       "      <td>25</td>\n",
       "      <td>1825</td>\n",
       "      <td>141998</td>\n",
       "      <td>852808</td>\n",
       "      <td>ARIZONA</td>\n",
       "      <td>4</td>\n",
       "      <td>...</td>\n",
       "      <td>24.0</td>\n",
       "      <td>S</td>\n",
       "      <td>OCOTILLO</td>\n",
       "      <td>32.8700</td>\n",
       "      <td>-111.8800</td>\n",
       "      <td>32.8788</td>\n",
       "      <td>-111.8750</td>\n",
       "      <td>Scattered thunderstorms developed over the cen...</td>\n",
       "      <td>Scattered thunderstorms developed across the c...</td>\n",
       "      <td>CSV</td>\n",
       "    </tr>\n",
       "    <tr>\n",
       "      <th>3</th>\n",
       "      <td>201902</td>\n",
       "      <td>19</td>\n",
       "      <td>2226</td>\n",
       "      <td>201902</td>\n",
       "      <td>19</td>\n",
       "      <td>2350</td>\n",
       "      <td>134941</td>\n",
       "      <td>808922</td>\n",
       "      <td>ARKANSAS</td>\n",
       "      <td>5</td>\n",
       "      <td>...</td>\n",
       "      <td>NaN</td>\n",
       "      <td>NaN</td>\n",
       "      <td>NaN</td>\n",
       "      <td>NaN</td>\n",
       "      <td>NaN</td>\n",
       "      <td>NaN</td>\n",
       "      <td>NaN</td>\n",
       "      <td>Rain was heavy at times on the 19th, and there...</td>\n",
       "      <td>One-quarter inch of freezing rain was measured...</td>\n",
       "      <td>CSV</td>\n",
       "    </tr>\n",
       "    <tr>\n",
       "      <th>4</th>\n",
       "      <td>201902</td>\n",
       "      <td>19</td>\n",
       "      <td>2255</td>\n",
       "      <td>201902</td>\n",
       "      <td>19</td>\n",
       "      <td>2355</td>\n",
       "      <td>134941</td>\n",
       "      <td>808923</td>\n",
       "      <td>ARKANSAS</td>\n",
       "      <td>5</td>\n",
       "      <td>...</td>\n",
       "      <td>NaN</td>\n",
       "      <td>NaN</td>\n",
       "      <td>NaN</td>\n",
       "      <td>NaN</td>\n",
       "      <td>NaN</td>\n",
       "      <td>NaN</td>\n",
       "      <td>NaN</td>\n",
       "      <td>Rain was heavy at times on the 19th, and there...</td>\n",
       "      <td>One-quarter inch of freezing rain was measured...</td>\n",
       "      <td>CSV</td>\n",
       "    </tr>\n",
       "  </tbody>\n",
       "</table>\n",
       "<p>5 rows × 51 columns</p>\n",
       "</div>"
      ],
      "text/plain": [
       "   BEGIN_YEARMONTH  BEGIN_DAY  BEGIN_TIME  END_YEARMONTH  END_DAY  END_TIME  \\\n",
       "0           201905          9        1554         201905        9      1830   \n",
       "1           201908          1           0         201908        7      1400   \n",
       "2           201909         25        1823         201909       25      1825   \n",
       "3           201902         19        2226         201902       19      2350   \n",
       "4           201902         19        2255         201902       19      2355   \n",
       "\n",
       "   EPISODE_ID  EVENT_ID         STATE  STATE_FIPS  ...  END_RANGE END_AZIMUTH  \\\n",
       "0      137295    824116         TEXAS          48  ...        7.0         NNE   \n",
       "1      141502    849617  SOUTH DAKOTA          46  ...        3.0           W   \n",
       "2      141998    852808       ARIZONA           4  ...       24.0           S   \n",
       "3      134941    808922      ARKANSAS           5  ...        NaN         NaN   \n",
       "4      134941    808923      ARKANSAS           5  ...        NaN         NaN   \n",
       "\n",
       "   END_LOCATION BEGIN_LAT  BEGIN_LON  END_LAT   END_LON  \\\n",
       "0  SAN GERONIMO   29.7898   -98.6406  29.7158  -98.7744   \n",
       "1         BRUCE   44.5400   -96.9600  44.4300  -96.9400   \n",
       "2      OCOTILLO   32.8700  -111.8800  32.8788 -111.8750   \n",
       "3           NaN       NaN        NaN      NaN       NaN   \n",
       "4           NaN       NaN        NaN      NaN       NaN   \n",
       "\n",
       "                                   EPISODE_NARRATIVE  \\\n",
       "0  Thunderstorms developed along a cold front as ...   \n",
       "1  Minor flooding slowly dwindled during early Au...   \n",
       "2  Scattered thunderstorms developed over the cen...   \n",
       "3  Rain was heavy at times on the 19th, and there...   \n",
       "4  Rain was heavy at times on the 19th, and there...   \n",
       "\n",
       "                                     EVENT_NARRATIVE DATA_SOURCE  \n",
       "0  Thunderstorms produced heavy rain that led to ...         CSV  \n",
       "1  A continuation of flooding from July, the Big ...         CSV  \n",
       "2  Scattered thunderstorms developed across the c...         CSV  \n",
       "3  One-quarter inch of freezing rain was measured...         CSV  \n",
       "4  One-quarter inch of freezing rain was measured...         CSV  \n",
       "\n",
       "[5 rows x 51 columns]"
      ]
     },
     "execution_count": 1,
     "metadata": {},
     "output_type": "execute_result"
    }
   ],
   "source": [
    "# Import dependencies #\n",
    "\n",
    "import altair as alt\n",
    "import pandas as pd\n",
    "import os\n",
    "import numpy as np\n",
    "\n",
    "### import data ###\n",
    "# empty list to store data in \n",
    "storm_data = []\n",
    "\n",
    "# path to folder\n",
    "recent_storm_data = '..\\Tornado Analysis Project\\Past_5yr_Storm_data'\n",
    "\n",
    "# recent files\n",
    "for filename in os.listdir(recent_storm_data): # loop through files in folder\n",
    "    filepath = os.path.join(recent_storm_data, filename)\n",
    "    data = pd.read_csv(filepath, low_memory=False) # read in as CSV\n",
    "    storm_data.append(data) # add data to the list\n",
    "\n",
    "\n",
    "# combine the data frames\n",
    "all_storm_data = pd.concat(storm_data, ignore_index=True)\n",
    "\n",
    "# sample the data\n",
    "all_storm_data.head()"
   ]
  },
  {
   "cell_type": "code",
   "execution_count": 2,
   "metadata": {},
   "outputs": [
    {
     "data": {
      "text/plain": [
       "Index(['BEGIN_YEARMONTH', 'BEGIN_DAY', 'BEGIN_TIME', 'END_YEARMONTH',\n",
       "       'END_DAY', 'END_TIME', 'EPISODE_ID', 'EVENT_ID', 'STATE', 'STATE_FIPS',\n",
       "       'YEAR', 'MONTH_NAME', 'EVENT_TYPE', 'CZ_TYPE', 'CZ_FIPS', 'CZ_NAME',\n",
       "       'WFO', 'BEGIN_DATE_TIME', 'CZ_TIMEZONE', 'END_DATE_TIME',\n",
       "       'INJURIES_DIRECT', 'INJURIES_INDIRECT', 'DEATHS_DIRECT',\n",
       "       'DEATHS_INDIRECT', 'DAMAGE_PROPERTY', 'DAMAGE_CROPS', 'SOURCE',\n",
       "       'MAGNITUDE', 'MAGNITUDE_TYPE', 'FLOOD_CAUSE', 'CATEGORY', 'TOR_F_SCALE',\n",
       "       'TOR_LENGTH', 'TOR_WIDTH', 'TOR_OTHER_WFO', 'TOR_OTHER_CZ_STATE',\n",
       "       'TOR_OTHER_CZ_FIPS', 'TOR_OTHER_CZ_NAME', 'BEGIN_RANGE',\n",
       "       'BEGIN_AZIMUTH', 'BEGIN_LOCATION', 'END_RANGE', 'END_AZIMUTH',\n",
       "       'END_LOCATION', 'BEGIN_LAT', 'BEGIN_LON', 'END_LAT', 'END_LON',\n",
       "       'EPISODE_NARRATIVE', 'EVENT_NARRATIVE', 'DATA_SOURCE'],\n",
       "      dtype='object')"
      ]
     },
     "execution_count": 2,
     "metadata": {},
     "output_type": "execute_result"
    }
   ],
   "source": [
    "all_storm_data.columns"
   ]
  },
  {
   "cell_type": "code",
   "execution_count": 3,
   "metadata": {},
   "outputs": [
    {
     "data": {
      "text/plain": [
       "BEGIN_YEARMONTH       7426\n",
       "BEGIN_DAY             7426\n",
       "BEGIN_TIME            7426\n",
       "END_YEARMONTH         7426\n",
       "END_DAY               7426\n",
       "END_TIME              7426\n",
       "EPISODE_ID            7426\n",
       "EVENT_ID              7426\n",
       "STATE                 7426\n",
       "STATE_FIPS            7426\n",
       "YEAR                  7426\n",
       "MONTH_NAME            7426\n",
       "EVENT_TYPE            7426\n",
       "CZ_TYPE               7426\n",
       "CZ_FIPS               7426\n",
       "CZ_NAME               7426\n",
       "WFO                   7426\n",
       "BEGIN_DATE_TIME       7426\n",
       "CZ_TIMEZONE           7426\n",
       "END_DATE_TIME         7426\n",
       "INJURIES_DIRECT       7426\n",
       "INJURIES_INDIRECT     7426\n",
       "DEATHS_DIRECT         7426\n",
       "DEATHS_INDIRECT       7426\n",
       "DAMAGE_PROPERTY       6003\n",
       "DAMAGE_CROPS          6018\n",
       "SOURCE                7426\n",
       "MAGNITUDE                0\n",
       "MAGNITUDE_TYPE           0\n",
       "FLOOD_CAUSE              0\n",
       "CATEGORY                 0\n",
       "TOR_F_SCALE           7426\n",
       "TOR_LENGTH            7426\n",
       "TOR_WIDTH             7426\n",
       "TOR_OTHER_WFO         1023\n",
       "TOR_OTHER_CZ_STATE    1023\n",
       "TOR_OTHER_CZ_FIPS     1023\n",
       "TOR_OTHER_CZ_NAME     1023\n",
       "BEGIN_RANGE           7417\n",
       "BEGIN_AZIMUTH         7417\n",
       "BEGIN_LOCATION        7417\n",
       "END_RANGE             7417\n",
       "END_AZIMUTH           7417\n",
       "END_LOCATION          7417\n",
       "BEGIN_LAT             7417\n",
       "BEGIN_LON             7417\n",
       "END_LAT               7417\n",
       "END_LON               7417\n",
       "EPISODE_NARRATIVE     7426\n",
       "EVENT_NARRATIVE       7426\n",
       "DATA_SOURCE           7426\n",
       "dtype: int64"
      ]
     },
     "execution_count": 3,
     "metadata": {},
     "output_type": "execute_result"
    }
   ],
   "source": [
    "# filter for the rows with tornado data\n",
    "tornado_df = all_storm_data[all_storm_data['EVENT_TYPE'] == 'Tornado']\n",
    "tornado_df.count()"
   ]
  },
  {
   "cell_type": "code",
   "execution_count": 4,
   "metadata": {},
   "outputs": [
    {
     "data": {
      "text/plain": [
       "Index(['YEAR', 'MONTH_NAME', 'BEGIN_DAY', 'STATE', 'BEGIN_DATE_TIME',\n",
       "       'END_DATE_TIME', 'INJURIES_DIRECT', 'DEATHS_DIRECT', 'DAMAGE_PROPERTY',\n",
       "       'DAMAGE_CROPS', 'TOR_F_SCALE', 'TOR_LENGTH', 'TOR_WIDTH', 'BEGIN_RANGE',\n",
       "       'BEGIN_LAT', 'BEGIN_LON'],\n",
       "      dtype='object')"
      ]
     },
     "execution_count": 4,
     "metadata": {},
     "output_type": "execute_result"
    }
   ],
   "source": [
    "# create new data frame without unneccesary columns\n",
    "columns_to_keep = ['YEAR', 'MONTH_NAME', 'BEGIN_DAY', 'STATE', 'BEGIN_DATE_TIME',\n",
    "                    'END_DATE_TIME', 'INJURIES_DIRECT', 'DEATHS_DIRECT', 'DAMAGE_PROPERTY',  'DAMAGE_CROPS', 'TOR_F_SCALE',\n",
    "                    'TOR_LENGTH', 'TOR_WIDTH', 'BEGIN_RANGE', 'BEGIN_LAT', 'BEGIN_LON']\n",
    "\n",
    "tornado_df = tornado_df[columns_to_keep]\n",
    "\n",
    "tornado_df.columns"
   ]
  },
  {
   "cell_type": "code",
   "execution_count": 5,
   "metadata": {},
   "outputs": [
    {
     "data": {
      "text/plain": [
       "YEAR                 int64\n",
       "MONTH_NAME          object\n",
       "BEGIN_DAY            int64\n",
       "STATE               object\n",
       "BEGIN_DATE_TIME     object\n",
       "END_DATE_TIME       object\n",
       "INJURIES_DIRECT      int64\n",
       "DEATHS_DIRECT        int64\n",
       "DAMAGE_PROPERTY     object\n",
       "DAMAGE_CROPS        object\n",
       "TOR_F_SCALE         object\n",
       "TOR_LENGTH         float64\n",
       "TOR_WIDTH          float64\n",
       "BEGIN_RANGE        float64\n",
       "BEGIN_LAT          float64\n",
       "BEGIN_LON          float64\n",
       "dtype: object"
      ]
     },
     "execution_count": 5,
     "metadata": {},
     "output_type": "execute_result"
    }
   ],
   "source": [
    "# view data types to see if any need to be changed\n",
    "tornado_df.dtypes"
   ]
  },
  {
   "cell_type": "code",
   "execution_count": 6,
   "metadata": {},
   "outputs": [
    {
     "data": {
      "text/plain": [
       "7426"
      ]
     },
     "execution_count": 6,
     "metadata": {},
     "output_type": "execute_result"
    }
   ],
   "source": [
    "len(tornado_df)"
   ]
  },
  {
   "cell_type": "code",
   "execution_count": 7,
   "metadata": {},
   "outputs": [],
   "source": [
    "### Preprocessing ###"
   ]
  },
  {
   "cell_type": "code",
   "execution_count": 8,
   "metadata": {},
   "outputs": [],
   "source": [
    "tornado_df['BEGIN_DATE_TIME'] = tornado_df['BEGIN_DATE_TIME'].astype('datetime64[ns]')\n",
    "tornado_df['END_DATE_TIME'] = tornado_df['END_DATE_TIME'].astype('datetime64[ns]')"
   ]
  },
  {
   "cell_type": "code",
   "execution_count": 9,
   "metadata": {},
   "outputs": [
    {
     "data": {
      "text/plain": [
       "YEAR                        int64\n",
       "MONTH_NAME                 object\n",
       "BEGIN_DAY                   int64\n",
       "STATE                      object\n",
       "BEGIN_DATE_TIME    datetime64[ns]\n",
       "END_DATE_TIME      datetime64[ns]\n",
       "INJURIES_DIRECT             int64\n",
       "DEATHS_DIRECT               int64\n",
       "DAMAGE_PROPERTY            object\n",
       "DAMAGE_CROPS               object\n",
       "TOR_F_SCALE                object\n",
       "TOR_LENGTH                float64\n",
       "TOR_WIDTH                 float64\n",
       "BEGIN_RANGE               float64\n",
       "BEGIN_LAT                 float64\n",
       "BEGIN_LON                 float64\n",
       "dtype: object"
      ]
     },
     "execution_count": 9,
     "metadata": {},
     "output_type": "execute_result"
    }
   ],
   "source": [
    "tornado_df.dtypes"
   ]
  },
  {
   "cell_type": "code",
   "execution_count": 10,
   "metadata": {},
   "outputs": [
    {
     "data": {
      "text/plain": [
       "YEAR                  0\n",
       "MONTH_NAME            0\n",
       "BEGIN_DAY             0\n",
       "STATE                 0\n",
       "BEGIN_DATE_TIME       0\n",
       "END_DATE_TIME         0\n",
       "INJURIES_DIRECT       0\n",
       "DEATHS_DIRECT         0\n",
       "DAMAGE_PROPERTY    1423\n",
       "DAMAGE_CROPS       1408\n",
       "TOR_F_SCALE           0\n",
       "TOR_LENGTH            0\n",
       "TOR_WIDTH             0\n",
       "BEGIN_RANGE           9\n",
       "BEGIN_LAT             9\n",
       "BEGIN_LON             9\n",
       "dtype: int64"
      ]
     },
     "execution_count": 10,
     "metadata": {},
     "output_type": "execute_result"
    }
   ],
   "source": [
    "# check NA count\n",
    "tornado_df.isna().sum()"
   ]
  },
  {
   "cell_type": "code",
   "execution_count": 11,
   "metadata": {},
   "outputs": [],
   "source": [
    "# only 9 entries null for lat and lon, so they can be dropped\n",
    "tornado_df = tornado_df.dropna(subset = ['BEGIN_LAT', 'BEGIN_LON'])\n",
    "\n",
    "# only null values left are in the damage columns, they can be filled with 0 because possible that they simply did no damage\n",
    "tornado_df = tornado_df.fillna(0)"
   ]
  },
  {
   "cell_type": "markdown",
   "metadata": {},
   "source": [
    "### EDA"
   ]
  },
  {
   "cell_type": "code",
   "execution_count": 12,
   "metadata": {},
   "outputs": [
    {
     "data": {
      "text/html": [
       "<div>\n",
       "<style scoped>\n",
       "    .dataframe tbody tr th:only-of-type {\n",
       "        vertical-align: middle;\n",
       "    }\n",
       "\n",
       "    .dataframe tbody tr th {\n",
       "        vertical-align: top;\n",
       "    }\n",
       "\n",
       "    .dataframe thead th {\n",
       "        text-align: right;\n",
       "    }\n",
       "</style>\n",
       "<table border=\"1\" class=\"dataframe\">\n",
       "  <thead>\n",
       "    <tr style=\"text-align: right;\">\n",
       "      <th></th>\n",
       "      <th>YEAR</th>\n",
       "      <th>MONTH_NAME</th>\n",
       "      <th>BEGIN_DAY</th>\n",
       "      <th>STATE</th>\n",
       "      <th>BEGIN_DATE_TIME</th>\n",
       "      <th>END_DATE_TIME</th>\n",
       "      <th>INJURIES_DIRECT</th>\n",
       "      <th>DEATHS_DIRECT</th>\n",
       "      <th>DAMAGE_PROPERTY</th>\n",
       "      <th>DAMAGE_CROPS</th>\n",
       "      <th>TOR_F_SCALE</th>\n",
       "      <th>TOR_LENGTH</th>\n",
       "      <th>TOR_WIDTH</th>\n",
       "      <th>BEGIN_RANGE</th>\n",
       "      <th>BEGIN_LAT</th>\n",
       "      <th>BEGIN_LON</th>\n",
       "      <th>Region</th>\n",
       "    </tr>\n",
       "  </thead>\n",
       "  <tbody>\n",
       "    <tr>\n",
       "      <th>2</th>\n",
       "      <td>2019</td>\n",
       "      <td>September</td>\n",
       "      <td>25</td>\n",
       "      <td>ARIZONA</td>\n",
       "      <td>2019-09-25 18:23:00</td>\n",
       "      <td>2019-09-25 18:25:00</td>\n",
       "      <td>0</td>\n",
       "      <td>0</td>\n",
       "      <td>0.00K</td>\n",
       "      <td>0.00K</td>\n",
       "      <td>EF0</td>\n",
       "      <td>0.67</td>\n",
       "      <td>50.0</td>\n",
       "      <td>24.0</td>\n",
       "      <td>32.8700</td>\n",
       "      <td>-111.8800</td>\n",
       "      <td>SOUTHWEST</td>\n",
       "    </tr>\n",
       "    <tr>\n",
       "      <th>5</th>\n",
       "      <td>2019</td>\n",
       "      <td>May</td>\n",
       "      <td>17</td>\n",
       "      <td>OKLAHOMA</td>\n",
       "      <td>2019-05-17 18:32:00</td>\n",
       "      <td>2019-05-17 18:39:00</td>\n",
       "      <td>0</td>\n",
       "      <td>0</td>\n",
       "      <td>0.00K</td>\n",
       "      <td>0.00K</td>\n",
       "      <td>EFU</td>\n",
       "      <td>2.88</td>\n",
       "      <td>50.0</td>\n",
       "      <td>5.0</td>\n",
       "      <td>36.9622</td>\n",
       "      <td>-100.5635</td>\n",
       "      <td>SOUTH</td>\n",
       "    </tr>\n",
       "    <tr>\n",
       "      <th>25</th>\n",
       "      <td>2019</td>\n",
       "      <td>August</td>\n",
       "      <td>2</td>\n",
       "      <td>IDAHO</td>\n",
       "      <td>2019-08-02 12:55:00</td>\n",
       "      <td>2019-08-02 13:05:00</td>\n",
       "      <td>0</td>\n",
       "      <td>0</td>\n",
       "      <td>0.00K</td>\n",
       "      <td>0.00K</td>\n",
       "      <td>EF0</td>\n",
       "      <td>1.00</td>\n",
       "      <td>10.0</td>\n",
       "      <td>12.0</td>\n",
       "      <td>42.6165</td>\n",
       "      <td>-113.5521</td>\n",
       "      <td>NORTHWEST</td>\n",
       "    </tr>\n",
       "    <tr>\n",
       "      <th>206</th>\n",
       "      <td>2019</td>\n",
       "      <td>April</td>\n",
       "      <td>24</td>\n",
       "      <td>LOUISIANA</td>\n",
       "      <td>2019-04-24 23:11:00</td>\n",
       "      <td>2019-04-24 23:28:00</td>\n",
       "      <td>1</td>\n",
       "      <td>0</td>\n",
       "      <td>30.00K</td>\n",
       "      <td>0.00K</td>\n",
       "      <td>EF1</td>\n",
       "      <td>10.00</td>\n",
       "      <td>900.0</td>\n",
       "      <td>3.0</td>\n",
       "      <td>31.8455</td>\n",
       "      <td>-93.6039</td>\n",
       "      <td>SOUTH</td>\n",
       "    </tr>\n",
       "    <tr>\n",
       "      <th>243</th>\n",
       "      <td>2019</td>\n",
       "      <td>April</td>\n",
       "      <td>25</td>\n",
       "      <td>LOUISIANA</td>\n",
       "      <td>2019-04-25 00:25:00</td>\n",
       "      <td>2019-04-25 00:26:00</td>\n",
       "      <td>0</td>\n",
       "      <td>0</td>\n",
       "      <td>25.00K</td>\n",
       "      <td>0.00K</td>\n",
       "      <td>EF1</td>\n",
       "      <td>1.03</td>\n",
       "      <td>200.0</td>\n",
       "      <td>1.0</td>\n",
       "      <td>32.3550</td>\n",
       "      <td>-92.9253</td>\n",
       "      <td>SOUTH</td>\n",
       "    </tr>\n",
       "    <tr>\n",
       "      <th>340</th>\n",
       "      <td>2019</td>\n",
       "      <td>April</td>\n",
       "      <td>25</td>\n",
       "      <td>LOUISIANA</td>\n",
       "      <td>2019-04-25 00:12:00</td>\n",
       "      <td>2019-04-25 00:15:00</td>\n",
       "      <td>0</td>\n",
       "      <td>0</td>\n",
       "      <td>25.00K</td>\n",
       "      <td>0.00K</td>\n",
       "      <td>EF1</td>\n",
       "      <td>2.52</td>\n",
       "      <td>150.0</td>\n",
       "      <td>1.0</td>\n",
       "      <td>32.2606</td>\n",
       "      <td>-93.0064</td>\n",
       "      <td>SOUTH</td>\n",
       "    </tr>\n",
       "    <tr>\n",
       "      <th>498</th>\n",
       "      <td>2019</td>\n",
       "      <td>April</td>\n",
       "      <td>25</td>\n",
       "      <td>LOUISIANA</td>\n",
       "      <td>2019-04-25 01:59:00</td>\n",
       "      <td>2019-04-25 02:14:00</td>\n",
       "      <td>0</td>\n",
       "      <td>0</td>\n",
       "      <td>350.00K</td>\n",
       "      <td>0.00K</td>\n",
       "      <td>EF0</td>\n",
       "      <td>8.77</td>\n",
       "      <td>700.0</td>\n",
       "      <td>2.0</td>\n",
       "      <td>31.6716</td>\n",
       "      <td>-92.2606</td>\n",
       "      <td>SOUTH</td>\n",
       "    </tr>\n",
       "    <tr>\n",
       "      <th>1433</th>\n",
       "      <td>2019</td>\n",
       "      <td>December</td>\n",
       "      <td>29</td>\n",
       "      <td>ALABAMA</td>\n",
       "      <td>2019-12-29 18:50:00</td>\n",
       "      <td>2019-12-29 18:57:00</td>\n",
       "      <td>0</td>\n",
       "      <td>0</td>\n",
       "      <td>0</td>\n",
       "      <td>0</td>\n",
       "      <td>EF0</td>\n",
       "      <td>5.07</td>\n",
       "      <td>50.0</td>\n",
       "      <td>2.0</td>\n",
       "      <td>34.7541</td>\n",
       "      <td>-87.0777</td>\n",
       "      <td>SOUTHEAST</td>\n",
       "    </tr>\n",
       "    <tr>\n",
       "      <th>1448</th>\n",
       "      <td>2019</td>\n",
       "      <td>May</td>\n",
       "      <td>19</td>\n",
       "      <td>LOUISIANA</td>\n",
       "      <td>2019-05-19 01:02:00</td>\n",
       "      <td>2019-05-19 01:05:00</td>\n",
       "      <td>0</td>\n",
       "      <td>0</td>\n",
       "      <td>0.00K</td>\n",
       "      <td>0.00K</td>\n",
       "      <td>EF0</td>\n",
       "      <td>1.19</td>\n",
       "      <td>80.0</td>\n",
       "      <td>5.0</td>\n",
       "      <td>31.3732</td>\n",
       "      <td>-92.9990</td>\n",
       "      <td>SOUTH</td>\n",
       "    </tr>\n",
       "    <tr>\n",
       "      <th>1737</th>\n",
       "      <td>2019</td>\n",
       "      <td>June</td>\n",
       "      <td>11</td>\n",
       "      <td>MINNESOTA</td>\n",
       "      <td>2019-06-11 15:19:00</td>\n",
       "      <td>2019-06-11 15:20:00</td>\n",
       "      <td>0</td>\n",
       "      <td>0</td>\n",
       "      <td>0.00K</td>\n",
       "      <td>0.00K</td>\n",
       "      <td>EF0</td>\n",
       "      <td>0.08</td>\n",
       "      <td>10.0</td>\n",
       "      <td>0.0</td>\n",
       "      <td>44.0028</td>\n",
       "      <td>-96.3268</td>\n",
       "      <td>UPPER MIDWEST</td>\n",
       "    </tr>\n",
       "    <tr>\n",
       "      <th>2069</th>\n",
       "      <td>2019</td>\n",
       "      <td>May</td>\n",
       "      <td>21</td>\n",
       "      <td>NEBRASKA</td>\n",
       "      <td>2019-05-21 18:43:00</td>\n",
       "      <td>2019-05-21 18:45:00</td>\n",
       "      <td>0</td>\n",
       "      <td>0</td>\n",
       "      <td>0.00K</td>\n",
       "      <td>0.00K</td>\n",
       "      <td>EFU</td>\n",
       "      <td>1.68</td>\n",
       "      <td>50.0</td>\n",
       "      <td>4.0</td>\n",
       "      <td>40.0656</td>\n",
       "      <td>-95.8283</td>\n",
       "      <td>NORTHERN ROCKIES AND PLAINS</td>\n",
       "    </tr>\n",
       "    <tr>\n",
       "      <th>2098</th>\n",
       "      <td>2019</td>\n",
       "      <td>May</td>\n",
       "      <td>4</td>\n",
       "      <td>GEORGIA</td>\n",
       "      <td>2019-05-04 15:53:00</td>\n",
       "      <td>2019-05-04 15:57:00</td>\n",
       "      <td>1</td>\n",
       "      <td>0</td>\n",
       "      <td>0</td>\n",
       "      <td>0.00K</td>\n",
       "      <td>EF1</td>\n",
       "      <td>2.20</td>\n",
       "      <td>170.0</td>\n",
       "      <td>3.0</td>\n",
       "      <td>32.0197</td>\n",
       "      <td>-81.0184</td>\n",
       "      <td>SOUTHEAST</td>\n",
       "    </tr>\n",
       "    <tr>\n",
       "      <th>2101</th>\n",
       "      <td>2019</td>\n",
       "      <td>May</td>\n",
       "      <td>21</td>\n",
       "      <td>NEBRASKA</td>\n",
       "      <td>2019-05-21 18:55:00</td>\n",
       "      <td>2019-05-21 18:56:00</td>\n",
       "      <td>0</td>\n",
       "      <td>0</td>\n",
       "      <td>0.00K</td>\n",
       "      <td>0.00K</td>\n",
       "      <td>EF0</td>\n",
       "      <td>0.80</td>\n",
       "      <td>50.0</td>\n",
       "      <td>5.0</td>\n",
       "      <td>40.2649</td>\n",
       "      <td>-95.7739</td>\n",
       "      <td>NORTHERN ROCKIES AND PLAINS</td>\n",
       "    </tr>\n",
       "    <tr>\n",
       "      <th>2212</th>\n",
       "      <td>2019</td>\n",
       "      <td>March</td>\n",
       "      <td>9</td>\n",
       "      <td>MISSISSIPPI</td>\n",
       "      <td>2019-03-09 14:31:00</td>\n",
       "      <td>2019-03-09 14:32:00</td>\n",
       "      <td>0</td>\n",
       "      <td>0</td>\n",
       "      <td>0.00K</td>\n",
       "      <td>0.00K</td>\n",
       "      <td>EF0</td>\n",
       "      <td>0.03</td>\n",
       "      <td>50.0</td>\n",
       "      <td>3.0</td>\n",
       "      <td>34.8423</td>\n",
       "      <td>-88.9802</td>\n",
       "      <td>SOUTH</td>\n",
       "    </tr>\n",
       "    <tr>\n",
       "      <th>2213</th>\n",
       "      <td>2019</td>\n",
       "      <td>March</td>\n",
       "      <td>9</td>\n",
       "      <td>TENNESSEE</td>\n",
       "      <td>2019-03-09 15:26:00</td>\n",
       "      <td>2019-03-09 15:28:00</td>\n",
       "      <td>0</td>\n",
       "      <td>0</td>\n",
       "      <td>0.00K</td>\n",
       "      <td>0.00K</td>\n",
       "      <td>EF0</td>\n",
       "      <td>0.32</td>\n",
       "      <td>50.0</td>\n",
       "      <td>1.0</td>\n",
       "      <td>35.0808</td>\n",
       "      <td>-88.2473</td>\n",
       "      <td>OHIO VALLEY</td>\n",
       "    </tr>\n",
       "  </tbody>\n",
       "</table>\n",
       "</div>"
      ],
      "text/plain": [
       "      YEAR MONTH_NAME  BEGIN_DAY        STATE     BEGIN_DATE_TIME  \\\n",
       "2     2019  September         25      ARIZONA 2019-09-25 18:23:00   \n",
       "5     2019        May         17     OKLAHOMA 2019-05-17 18:32:00   \n",
       "25    2019     August          2        IDAHO 2019-08-02 12:55:00   \n",
       "206   2019      April         24    LOUISIANA 2019-04-24 23:11:00   \n",
       "243   2019      April         25    LOUISIANA 2019-04-25 00:25:00   \n",
       "340   2019      April         25    LOUISIANA 2019-04-25 00:12:00   \n",
       "498   2019      April         25    LOUISIANA 2019-04-25 01:59:00   \n",
       "1433  2019   December         29      ALABAMA 2019-12-29 18:50:00   \n",
       "1448  2019        May         19    LOUISIANA 2019-05-19 01:02:00   \n",
       "1737  2019       June         11    MINNESOTA 2019-06-11 15:19:00   \n",
       "2069  2019        May         21     NEBRASKA 2019-05-21 18:43:00   \n",
       "2098  2019        May          4      GEORGIA 2019-05-04 15:53:00   \n",
       "2101  2019        May         21     NEBRASKA 2019-05-21 18:55:00   \n",
       "2212  2019      March          9  MISSISSIPPI 2019-03-09 14:31:00   \n",
       "2213  2019      March          9    TENNESSEE 2019-03-09 15:26:00   \n",
       "\n",
       "           END_DATE_TIME  INJURIES_DIRECT  DEATHS_DIRECT DAMAGE_PROPERTY  \\\n",
       "2    2019-09-25 18:25:00                0              0           0.00K   \n",
       "5    2019-05-17 18:39:00                0              0           0.00K   \n",
       "25   2019-08-02 13:05:00                0              0           0.00K   \n",
       "206  2019-04-24 23:28:00                1              0          30.00K   \n",
       "243  2019-04-25 00:26:00                0              0          25.00K   \n",
       "340  2019-04-25 00:15:00                0              0          25.00K   \n",
       "498  2019-04-25 02:14:00                0              0         350.00K   \n",
       "1433 2019-12-29 18:57:00                0              0               0   \n",
       "1448 2019-05-19 01:05:00                0              0           0.00K   \n",
       "1737 2019-06-11 15:20:00                0              0           0.00K   \n",
       "2069 2019-05-21 18:45:00                0              0           0.00K   \n",
       "2098 2019-05-04 15:57:00                1              0               0   \n",
       "2101 2019-05-21 18:56:00                0              0           0.00K   \n",
       "2212 2019-03-09 14:32:00                0              0           0.00K   \n",
       "2213 2019-03-09 15:28:00                0              0           0.00K   \n",
       "\n",
       "     DAMAGE_CROPS TOR_F_SCALE  TOR_LENGTH  TOR_WIDTH  BEGIN_RANGE  BEGIN_LAT  \\\n",
       "2           0.00K         EF0        0.67       50.0         24.0    32.8700   \n",
       "5           0.00K         EFU        2.88       50.0          5.0    36.9622   \n",
       "25          0.00K         EF0        1.00       10.0         12.0    42.6165   \n",
       "206         0.00K         EF1       10.00      900.0          3.0    31.8455   \n",
       "243         0.00K         EF1        1.03      200.0          1.0    32.3550   \n",
       "340         0.00K         EF1        2.52      150.0          1.0    32.2606   \n",
       "498         0.00K         EF0        8.77      700.0          2.0    31.6716   \n",
       "1433            0         EF0        5.07       50.0          2.0    34.7541   \n",
       "1448        0.00K         EF0        1.19       80.0          5.0    31.3732   \n",
       "1737        0.00K         EF0        0.08       10.0          0.0    44.0028   \n",
       "2069        0.00K         EFU        1.68       50.0          4.0    40.0656   \n",
       "2098        0.00K         EF1        2.20      170.0          3.0    32.0197   \n",
       "2101        0.00K         EF0        0.80       50.0          5.0    40.2649   \n",
       "2212        0.00K         EF0        0.03       50.0          3.0    34.8423   \n",
       "2213        0.00K         EF0        0.32       50.0          1.0    35.0808   \n",
       "\n",
       "      BEGIN_LON                       Region  \n",
       "2     -111.8800                    SOUTHWEST  \n",
       "5     -100.5635                        SOUTH  \n",
       "25    -113.5521                    NORTHWEST  \n",
       "206    -93.6039                        SOUTH  \n",
       "243    -92.9253                        SOUTH  \n",
       "340    -93.0064                        SOUTH  \n",
       "498    -92.2606                        SOUTH  \n",
       "1433   -87.0777                    SOUTHEAST  \n",
       "1448   -92.9990                        SOUTH  \n",
       "1737   -96.3268                UPPER MIDWEST  \n",
       "2069   -95.8283  NORTHERN ROCKIES AND PLAINS  \n",
       "2098   -81.0184                    SOUTHEAST  \n",
       "2101   -95.7739  NORTHERN ROCKIES AND PLAINS  \n",
       "2212   -88.9802                        SOUTH  \n",
       "2213   -88.2473                  OHIO VALLEY  "
      ]
     },
     "execution_count": 12,
     "metadata": {},
     "output_type": "execute_result"
    }
   ],
   "source": [
    "### calculate and identify total occurrences for each state or broader regions ###\n",
    "### proportions for sampling purposes ###\n",
    "\n",
    "### new column for broader region ###\n",
    "REGIONS = {\n",
    "    \"NORTHEAST\": [\"CONNECTICUT\", \"DELAWARE\", \"MAINE\", \"MARYLAND\", \"MASSACHUSETTS\", \"NEW HAMPSHIRE\", \"NEW JERSEY\", \"NEW YORK\", \"PENNSYLVANIA\", \"RHODE ISLAND\", \"VERMONT\"],\n",
    "    \"UPPER MIDWEST\": [\"IOWA\", \"MICHIGAN\", \"MINNESOTA\", \"WISCONSIN\"],\n",
    "    \"OHIO VALLEY\": [\"ILLINOIS\", \"INDIANA\", \"KENTUCKY\", \"MISSOURI\", \"OHIO\", \"TENNESSEE\", \"WEST VIRGINIA\"],\n",
    "    \"SOUTHEAST\": [\"ALABAMA\", \"FLORIDA\", \"GEORGIA\", \"NORTH CAROLINA\", \"SOUTH CAROLINA\", \"VIRGINIA\"],\n",
    "    \"NORTHERN ROCKIES AND PLAINS\": [\"MONTANA\", \"NEBRASKA\", \"NORTH DAKOTA\", \"SOUTH DAKOTA\", \"WYOMING\"],\n",
    "    \"SOUTH\": [\"ARKANSAS\", \"KANSAS\", \"LOUISIANA\", \"MISSISSIPPI\", \"OKLAHOMA\", \"TEXAS\"],\n",
    "    \"SOUTHWEST\": [\"ARIZONA\", \"COLORADO\", \"NEW MEXICO\", \"UTAH\"],\n",
    "    \"NORTHWEST\": [\"IDAHO\", \"OREGON\", \"WASHINGTON\"],\n",
    "    \"WEST\": [\"CALIFORNIA\", \"NEVADA\"]\n",
    "}\n",
    "\n",
    "state_to_region = {state: region for region, states in REGIONS.items() for state in states}\n",
    "\n",
    "tornado_df['Region'] = tornado_df['STATE'].map(state_to_region)\n",
    "\n",
    "tornado_df.head(15)\n"
   ]
  },
  {
   "cell_type": "code",
   "execution_count": 13,
   "metadata": {},
   "outputs": [
    {
     "data": {
      "text/html": [
       "<div>\n",
       "<style scoped>\n",
       "    .dataframe tbody tr th:only-of-type {\n",
       "        vertical-align: middle;\n",
       "    }\n",
       "\n",
       "    .dataframe tbody tr th {\n",
       "        vertical-align: top;\n",
       "    }\n",
       "\n",
       "    .dataframe thead th {\n",
       "        text-align: right;\n",
       "    }\n",
       "</style>\n",
       "<table border=\"1\" class=\"dataframe\">\n",
       "  <thead>\n",
       "    <tr style=\"text-align: right;\">\n",
       "      <th></th>\n",
       "      <th>YEAR</th>\n",
       "      <th>MONTH_NAME</th>\n",
       "      <th>BEGIN_DAY</th>\n",
       "      <th>STATE</th>\n",
       "      <th>BEGIN_DATE_TIME</th>\n",
       "      <th>END_DATE_TIME</th>\n",
       "      <th>INJURIES_DIRECT</th>\n",
       "      <th>DEATHS_DIRECT</th>\n",
       "      <th>DAMAGE_PROPERTY</th>\n",
       "      <th>DAMAGE_CROPS</th>\n",
       "      <th>TOR_F_SCALE</th>\n",
       "      <th>TOR_LENGTH</th>\n",
       "      <th>TOR_WIDTH</th>\n",
       "      <th>BEGIN_RANGE</th>\n",
       "      <th>BEGIN_LAT</th>\n",
       "      <th>BEGIN_LON</th>\n",
       "      <th>Region</th>\n",
       "    </tr>\n",
       "  </thead>\n",
       "  <tbody>\n",
       "    <tr>\n",
       "      <th>0</th>\n",
       "      <td>2019</td>\n",
       "      <td>April</td>\n",
       "      <td>6</td>\n",
       "      <td>TEXAS</td>\n",
       "      <td>2019-04-06 13:10:00</td>\n",
       "      <td>2019-04-06 13:12:00</td>\n",
       "      <td>0</td>\n",
       "      <td>0</td>\n",
       "      <td>10.00K</td>\n",
       "      <td>0.00K</td>\n",
       "      <td>EF0</td>\n",
       "      <td>0.31</td>\n",
       "      <td>150.0</td>\n",
       "      <td>1.0</td>\n",
       "      <td>30.6936</td>\n",
       "      <td>-97.1968</td>\n",
       "      <td>SOUTH</td>\n",
       "    </tr>\n",
       "    <tr>\n",
       "      <th>1</th>\n",
       "      <td>2019</td>\n",
       "      <td>April</td>\n",
       "      <td>7</td>\n",
       "      <td>LOUISIANA</td>\n",
       "      <td>2019-04-07 19:19:00</td>\n",
       "      <td>2019-04-07 19:22:00</td>\n",
       "      <td>0</td>\n",
       "      <td>0</td>\n",
       "      <td>0</td>\n",
       "      <td>0.00K</td>\n",
       "      <td>EF0</td>\n",
       "      <td>2.58</td>\n",
       "      <td>50.0</td>\n",
       "      <td>1.0</td>\n",
       "      <td>29.9528</td>\n",
       "      <td>-90.2369</td>\n",
       "      <td>SOUTH</td>\n",
       "    </tr>\n",
       "    <tr>\n",
       "      <th>2</th>\n",
       "      <td>2019</td>\n",
       "      <td>April</td>\n",
       "      <td>7</td>\n",
       "      <td>MISSISSIPPI</td>\n",
       "      <td>2019-04-07 17:02:00</td>\n",
       "      <td>2019-04-07 17:04:00</td>\n",
       "      <td>0</td>\n",
       "      <td>0</td>\n",
       "      <td>0</td>\n",
       "      <td>0.00K</td>\n",
       "      <td>EF1</td>\n",
       "      <td>1.72</td>\n",
       "      <td>125.0</td>\n",
       "      <td>6.0</td>\n",
       "      <td>31.0184</td>\n",
       "      <td>-91.0712</td>\n",
       "      <td>SOUTH</td>\n",
       "    </tr>\n",
       "    <tr>\n",
       "      <th>3</th>\n",
       "      <td>2019</td>\n",
       "      <td>April</td>\n",
       "      <td>7</td>\n",
       "      <td>TEXAS</td>\n",
       "      <td>2019-04-07 06:24:00</td>\n",
       "      <td>2019-04-07 06:25:00</td>\n",
       "      <td>0</td>\n",
       "      <td>0</td>\n",
       "      <td>1.25M</td>\n",
       "      <td>0.00K</td>\n",
       "      <td>EF0</td>\n",
       "      <td>0.58</td>\n",
       "      <td>30.0</td>\n",
       "      <td>0.0</td>\n",
       "      <td>28.3691</td>\n",
       "      <td>-97.6643</td>\n",
       "      <td>SOUTH</td>\n",
       "    </tr>\n",
       "    <tr>\n",
       "      <th>4</th>\n",
       "      <td>2019</td>\n",
       "      <td>April</td>\n",
       "      <td>8</td>\n",
       "      <td>ALABAMA</td>\n",
       "      <td>2019-04-08 06:10:00</td>\n",
       "      <td>2019-04-08 06:29:00</td>\n",
       "      <td>1</td>\n",
       "      <td>0</td>\n",
       "      <td>0</td>\n",
       "      <td>0</td>\n",
       "      <td>EF1</td>\n",
       "      <td>6.10</td>\n",
       "      <td>219.0</td>\n",
       "      <td>1.0</td>\n",
       "      <td>34.2274</td>\n",
       "      <td>-86.3294</td>\n",
       "      <td>SOUTHEAST</td>\n",
       "    </tr>\n",
       "    <tr>\n",
       "      <th>5</th>\n",
       "      <td>2019</td>\n",
       "      <td>April</td>\n",
       "      <td>12</td>\n",
       "      <td>KENTUCKY</td>\n",
       "      <td>2019-04-12 05:45:00</td>\n",
       "      <td>2019-04-12 05:54:00</td>\n",
       "      <td>0</td>\n",
       "      <td>0</td>\n",
       "      <td>100.00K</td>\n",
       "      <td>0.00K</td>\n",
       "      <td>EF1</td>\n",
       "      <td>8.30</td>\n",
       "      <td>300.0</td>\n",
       "      <td>1.0</td>\n",
       "      <td>38.3237</td>\n",
       "      <td>-85.5185</td>\n",
       "      <td>OHIO VALLEY</td>\n",
       "    </tr>\n",
       "    <tr>\n",
       "      <th>6</th>\n",
       "      <td>2019</td>\n",
       "      <td>April</td>\n",
       "      <td>12</td>\n",
       "      <td>NORTH CAROLINA</td>\n",
       "      <td>2019-04-12 17:40:00</td>\n",
       "      <td>2019-04-12 17:44:00</td>\n",
       "      <td>0</td>\n",
       "      <td>0</td>\n",
       "      <td>10.00K</td>\n",
       "      <td>0.00K</td>\n",
       "      <td>EF0</td>\n",
       "      <td>4.90</td>\n",
       "      <td>100.0</td>\n",
       "      <td>2.0</td>\n",
       "      <td>35.4500</td>\n",
       "      <td>-78.9500</td>\n",
       "      <td>SOUTHEAST</td>\n",
       "    </tr>\n",
       "    <tr>\n",
       "      <th>7</th>\n",
       "      <td>2019</td>\n",
       "      <td>April</td>\n",
       "      <td>12</td>\n",
       "      <td>OHIO</td>\n",
       "      <td>2019-04-12 07:32:00</td>\n",
       "      <td>2019-04-12 07:33:00</td>\n",
       "      <td>0</td>\n",
       "      <td>0</td>\n",
       "      <td>15.00K</td>\n",
       "      <td>0.00K</td>\n",
       "      <td>EF0</td>\n",
       "      <td>0.75</td>\n",
       "      <td>25.0</td>\n",
       "      <td>2.0</td>\n",
       "      <td>39.8601</td>\n",
       "      <td>-83.6669</td>\n",
       "      <td>OHIO VALLEY</td>\n",
       "    </tr>\n",
       "    <tr>\n",
       "      <th>8</th>\n",
       "      <td>2019</td>\n",
       "      <td>April</td>\n",
       "      <td>13</td>\n",
       "      <td>ALABAMA</td>\n",
       "      <td>2019-04-13 23:14:00</td>\n",
       "      <td>2019-04-13 23:26:00</td>\n",
       "      <td>0</td>\n",
       "      <td>0</td>\n",
       "      <td>0</td>\n",
       "      <td>0</td>\n",
       "      <td>EF1</td>\n",
       "      <td>6.31</td>\n",
       "      <td>80.0</td>\n",
       "      <td>1.0</td>\n",
       "      <td>34.4617</td>\n",
       "      <td>-88.0607</td>\n",
       "      <td>SOUTHEAST</td>\n",
       "    </tr>\n",
       "    <tr>\n",
       "      <th>9</th>\n",
       "      <td>2019</td>\n",
       "      <td>April</td>\n",
       "      <td>13</td>\n",
       "      <td>LOUISIANA</td>\n",
       "      <td>2019-04-13 15:44:00</td>\n",
       "      <td>2019-04-13 15:50:00</td>\n",
       "      <td>0</td>\n",
       "      <td>0</td>\n",
       "      <td>0.00K</td>\n",
       "      <td>0.00K</td>\n",
       "      <td>EF0</td>\n",
       "      <td>2.81</td>\n",
       "      <td>50.0</td>\n",
       "      <td>3.0</td>\n",
       "      <td>32.2916</td>\n",
       "      <td>-91.0522</td>\n",
       "      <td>SOUTH</td>\n",
       "    </tr>\n",
       "  </tbody>\n",
       "</table>\n",
       "</div>"
      ],
      "text/plain": [
       "   YEAR MONTH_NAME  BEGIN_DAY           STATE     BEGIN_DATE_TIME  \\\n",
       "0  2019      April          6           TEXAS 2019-04-06 13:10:00   \n",
       "1  2019      April          7       LOUISIANA 2019-04-07 19:19:00   \n",
       "2  2019      April          7     MISSISSIPPI 2019-04-07 17:02:00   \n",
       "3  2019      April          7           TEXAS 2019-04-07 06:24:00   \n",
       "4  2019      April          8         ALABAMA 2019-04-08 06:10:00   \n",
       "5  2019      April         12        KENTUCKY 2019-04-12 05:45:00   \n",
       "6  2019      April         12  NORTH CAROLINA 2019-04-12 17:40:00   \n",
       "7  2019      April         12            OHIO 2019-04-12 07:32:00   \n",
       "8  2019      April         13         ALABAMA 2019-04-13 23:14:00   \n",
       "9  2019      April         13       LOUISIANA 2019-04-13 15:44:00   \n",
       "\n",
       "        END_DATE_TIME  INJURIES_DIRECT  DEATHS_DIRECT DAMAGE_PROPERTY  \\\n",
       "0 2019-04-06 13:12:00                0              0          10.00K   \n",
       "1 2019-04-07 19:22:00                0              0               0   \n",
       "2 2019-04-07 17:04:00                0              0               0   \n",
       "3 2019-04-07 06:25:00                0              0           1.25M   \n",
       "4 2019-04-08 06:29:00                1              0               0   \n",
       "5 2019-04-12 05:54:00                0              0         100.00K   \n",
       "6 2019-04-12 17:44:00                0              0          10.00K   \n",
       "7 2019-04-12 07:33:00                0              0          15.00K   \n",
       "8 2019-04-13 23:26:00                0              0               0   \n",
       "9 2019-04-13 15:50:00                0              0           0.00K   \n",
       "\n",
       "  DAMAGE_CROPS TOR_F_SCALE  TOR_LENGTH  TOR_WIDTH  BEGIN_RANGE  BEGIN_LAT  \\\n",
       "0        0.00K         EF0        0.31      150.0          1.0    30.6936   \n",
       "1        0.00K         EF0        2.58       50.0          1.0    29.9528   \n",
       "2        0.00K         EF1        1.72      125.0          6.0    31.0184   \n",
       "3        0.00K         EF0        0.58       30.0          0.0    28.3691   \n",
       "4            0         EF1        6.10      219.0          1.0    34.2274   \n",
       "5        0.00K         EF1        8.30      300.0          1.0    38.3237   \n",
       "6        0.00K         EF0        4.90      100.0          2.0    35.4500   \n",
       "7        0.00K         EF0        0.75       25.0          2.0    39.8601   \n",
       "8            0         EF1        6.31       80.0          1.0    34.4617   \n",
       "9        0.00K         EF0        2.81       50.0          3.0    32.2916   \n",
       "\n",
       "   BEGIN_LON       Region  \n",
       "0   -97.1968        SOUTH  \n",
       "1   -90.2369        SOUTH  \n",
       "2   -91.0712        SOUTH  \n",
       "3   -97.6643        SOUTH  \n",
       "4   -86.3294    SOUTHEAST  \n",
       "5   -85.5185  OHIO VALLEY  \n",
       "6   -78.9500    SOUTHEAST  \n",
       "7   -83.6669  OHIO VALLEY  \n",
       "8   -88.0607    SOUTHEAST  \n",
       "9   -91.0522        SOUTH  "
      ]
     },
     "execution_count": 13,
     "metadata": {},
     "output_type": "execute_result"
    }
   ],
   "source": [
    "tornado_df = tornado_df.groupby(['YEAR', 'MONTH_NAME', 'BEGIN_DAY', 'STATE'], as_index = False).first()\n",
    "\n",
    "tornado_df.head(10)"
   ]
  },
  {
   "cell_type": "code",
   "execution_count": 14,
   "metadata": {},
   "outputs": [
    {
     "data": {
      "text/html": [
       "<div>\n",
       "<style scoped>\n",
       "    .dataframe tbody tr th:only-of-type {\n",
       "        vertical-align: middle;\n",
       "    }\n",
       "\n",
       "    .dataframe tbody tr th {\n",
       "        vertical-align: top;\n",
       "    }\n",
       "\n",
       "    .dataframe thead th {\n",
       "        text-align: right;\n",
       "    }\n",
       "</style>\n",
       "<table border=\"1\" class=\"dataframe\">\n",
       "  <thead>\n",
       "    <tr style=\"text-align: right;\">\n",
       "      <th></th>\n",
       "      <th>YEAR</th>\n",
       "      <th>MONTH_NAME</th>\n",
       "      <th>BEGIN_DAY</th>\n",
       "      <th>STATE</th>\n",
       "      <th>BEGIN_DATE_TIME</th>\n",
       "      <th>END_DATE_TIME</th>\n",
       "      <th>INJURIES_DIRECT</th>\n",
       "      <th>DEATHS_DIRECT</th>\n",
       "      <th>DAMAGE_PROPERTY</th>\n",
       "      <th>DAMAGE_CROPS</th>\n",
       "      <th>TOR_F_SCALE</th>\n",
       "      <th>TOR_LENGTH</th>\n",
       "      <th>TOR_WIDTH</th>\n",
       "      <th>BEGIN_RANGE</th>\n",
       "      <th>BEGIN_LAT</th>\n",
       "      <th>BEGIN_LON</th>\n",
       "      <th>Region</th>\n",
       "    </tr>\n",
       "  </thead>\n",
       "  <tbody>\n",
       "    <tr>\n",
       "      <th>0</th>\n",
       "      <td>2019</td>\n",
       "      <td>April</td>\n",
       "      <td>6</td>\n",
       "      <td>TEXAS</td>\n",
       "      <td>2019-04-06 13:10:00</td>\n",
       "      <td>2019-04-06 13:12:00</td>\n",
       "      <td>0</td>\n",
       "      <td>0</td>\n",
       "      <td>10.00K</td>\n",
       "      <td>0.00K</td>\n",
       "      <td>EF0</td>\n",
       "      <td>0.31</td>\n",
       "      <td>150.0</td>\n",
       "      <td>1.0</td>\n",
       "      <td>30.6936</td>\n",
       "      <td>-97.1968</td>\n",
       "      <td>SOUTH</td>\n",
       "    </tr>\n",
       "    <tr>\n",
       "      <th>1</th>\n",
       "      <td>2019</td>\n",
       "      <td>April</td>\n",
       "      <td>7</td>\n",
       "      <td>LOUISIANA</td>\n",
       "      <td>2019-04-07 19:19:00</td>\n",
       "      <td>2019-04-07 19:22:00</td>\n",
       "      <td>0</td>\n",
       "      <td>0</td>\n",
       "      <td>0</td>\n",
       "      <td>0.00K</td>\n",
       "      <td>EF0</td>\n",
       "      <td>2.58</td>\n",
       "      <td>50.0</td>\n",
       "      <td>1.0</td>\n",
       "      <td>29.9528</td>\n",
       "      <td>-90.2369</td>\n",
       "      <td>SOUTH</td>\n",
       "    </tr>\n",
       "    <tr>\n",
       "      <th>2</th>\n",
       "      <td>2019</td>\n",
       "      <td>April</td>\n",
       "      <td>7</td>\n",
       "      <td>MISSISSIPPI</td>\n",
       "      <td>2019-04-07 17:02:00</td>\n",
       "      <td>2019-04-07 17:04:00</td>\n",
       "      <td>0</td>\n",
       "      <td>0</td>\n",
       "      <td>0</td>\n",
       "      <td>0.00K</td>\n",
       "      <td>EF1</td>\n",
       "      <td>1.72</td>\n",
       "      <td>125.0</td>\n",
       "      <td>6.0</td>\n",
       "      <td>31.0184</td>\n",
       "      <td>-91.0712</td>\n",
       "      <td>SOUTH</td>\n",
       "    </tr>\n",
       "    <tr>\n",
       "      <th>3</th>\n",
       "      <td>2019</td>\n",
       "      <td>April</td>\n",
       "      <td>7</td>\n",
       "      <td>TEXAS</td>\n",
       "      <td>2019-04-07 06:24:00</td>\n",
       "      <td>2019-04-07 06:25:00</td>\n",
       "      <td>0</td>\n",
       "      <td>0</td>\n",
       "      <td>1.25M</td>\n",
       "      <td>0.00K</td>\n",
       "      <td>EF0</td>\n",
       "      <td>0.58</td>\n",
       "      <td>30.0</td>\n",
       "      <td>0.0</td>\n",
       "      <td>28.3691</td>\n",
       "      <td>-97.6643</td>\n",
       "      <td>SOUTH</td>\n",
       "    </tr>\n",
       "    <tr>\n",
       "      <th>4</th>\n",
       "      <td>2019</td>\n",
       "      <td>April</td>\n",
       "      <td>8</td>\n",
       "      <td>ALABAMA</td>\n",
       "      <td>2019-04-08 06:10:00</td>\n",
       "      <td>2019-04-08 06:29:00</td>\n",
       "      <td>1</td>\n",
       "      <td>0</td>\n",
       "      <td>0</td>\n",
       "      <td>0</td>\n",
       "      <td>EF1</td>\n",
       "      <td>6.10</td>\n",
       "      <td>219.0</td>\n",
       "      <td>1.0</td>\n",
       "      <td>34.2274</td>\n",
       "      <td>-86.3294</td>\n",
       "      <td>SOUTHEAST</td>\n",
       "    </tr>\n",
       "  </tbody>\n",
       "</table>\n",
       "</div>"
      ],
      "text/plain": [
       "   YEAR MONTH_NAME  BEGIN_DAY        STATE     BEGIN_DATE_TIME  \\\n",
       "0  2019      April          6        TEXAS 2019-04-06 13:10:00   \n",
       "1  2019      April          7    LOUISIANA 2019-04-07 19:19:00   \n",
       "2  2019      April          7  MISSISSIPPI 2019-04-07 17:02:00   \n",
       "3  2019      April          7        TEXAS 2019-04-07 06:24:00   \n",
       "4  2019      April          8      ALABAMA 2019-04-08 06:10:00   \n",
       "\n",
       "        END_DATE_TIME  INJURIES_DIRECT  DEATHS_DIRECT DAMAGE_PROPERTY  \\\n",
       "0 2019-04-06 13:12:00                0              0          10.00K   \n",
       "1 2019-04-07 19:22:00                0              0               0   \n",
       "2 2019-04-07 17:04:00                0              0               0   \n",
       "3 2019-04-07 06:25:00                0              0           1.25M   \n",
       "4 2019-04-08 06:29:00                1              0               0   \n",
       "\n",
       "  DAMAGE_CROPS TOR_F_SCALE  TOR_LENGTH  TOR_WIDTH  BEGIN_RANGE  BEGIN_LAT  \\\n",
       "0        0.00K         EF0        0.31      150.0          1.0    30.6936   \n",
       "1        0.00K         EF0        2.58       50.0          1.0    29.9528   \n",
       "2        0.00K         EF1        1.72      125.0          6.0    31.0184   \n",
       "3        0.00K         EF0        0.58       30.0          0.0    28.3691   \n",
       "4            0         EF1        6.10      219.0          1.0    34.2274   \n",
       "\n",
       "   BEGIN_LON     Region  \n",
       "0   -97.1968      SOUTH  \n",
       "1   -90.2369      SOUTH  \n",
       "2   -91.0712      SOUTH  \n",
       "3   -97.6643      SOUTH  \n",
       "4   -86.3294  SOUTHEAST  "
      ]
     },
     "execution_count": 14,
     "metadata": {},
     "output_type": "execute_result"
    }
   ],
   "source": [
    "tornado_df.head()"
   ]
  },
  {
   "cell_type": "markdown",
   "metadata": {},
   "source": [
    "Climate Regions as dictated by NCEI (https://www.ncei.noaa.gov/access/monitoring/reference-maps/us-climate-regions)"
   ]
  },
  {
   "cell_type": "code",
   "execution_count": 15,
   "metadata": {},
   "outputs": [
    {
     "data": {
      "application/vnd.plotly.v1+json": {
       "config": {
        "plotlyServerURL": "https://plot.ly"
       },
       "data": [
        {
         "marker": {
          "color": "skyblue"
         },
         "type": "bar",
         "x": [
          "SOUTH",
          "SOUTHEAST",
          "OHIO VALLEY",
          "UPPER MIDWEST",
          "NORTHERN ROCKIES AND PLAINS",
          "NORTHEAST",
          "SOUTHWEST",
          "WEST",
          "NORTHWEST"
         ],
         "y": [
          567,
          411,
          374,
          205,
          189,
          152,
          148,
          35,
          32
         ]
        }
       ],
       "layout": {
        "template": {
         "data": {
          "bar": [
           {
            "error_x": {
             "color": "#2a3f5f"
            },
            "error_y": {
             "color": "#2a3f5f"
            },
            "marker": {
             "line": {
              "color": "#E5ECF6",
              "width": 0.5
             },
             "pattern": {
              "fillmode": "overlay",
              "size": 10,
              "solidity": 0.2
             }
            },
            "type": "bar"
           }
          ],
          "barpolar": [
           {
            "marker": {
             "line": {
              "color": "#E5ECF6",
              "width": 0.5
             },
             "pattern": {
              "fillmode": "overlay",
              "size": 10,
              "solidity": 0.2
             }
            },
            "type": "barpolar"
           }
          ],
          "carpet": [
           {
            "aaxis": {
             "endlinecolor": "#2a3f5f",
             "gridcolor": "white",
             "linecolor": "white",
             "minorgridcolor": "white",
             "startlinecolor": "#2a3f5f"
            },
            "baxis": {
             "endlinecolor": "#2a3f5f",
             "gridcolor": "white",
             "linecolor": "white",
             "minorgridcolor": "white",
             "startlinecolor": "#2a3f5f"
            },
            "type": "carpet"
           }
          ],
          "choropleth": [
           {
            "colorbar": {
             "outlinewidth": 0,
             "ticks": ""
            },
            "type": "choropleth"
           }
          ],
          "contour": [
           {
            "colorbar": {
             "outlinewidth": 0,
             "ticks": ""
            },
            "colorscale": [
             [
              0,
              "#0d0887"
             ],
             [
              0.1111111111111111,
              "#46039f"
             ],
             [
              0.2222222222222222,
              "#7201a8"
             ],
             [
              0.3333333333333333,
              "#9c179e"
             ],
             [
              0.4444444444444444,
              "#bd3786"
             ],
             [
              0.5555555555555556,
              "#d8576b"
             ],
             [
              0.6666666666666666,
              "#ed7953"
             ],
             [
              0.7777777777777778,
              "#fb9f3a"
             ],
             [
              0.8888888888888888,
              "#fdca26"
             ],
             [
              1,
              "#f0f921"
             ]
            ],
            "type": "contour"
           }
          ],
          "contourcarpet": [
           {
            "colorbar": {
             "outlinewidth": 0,
             "ticks": ""
            },
            "type": "contourcarpet"
           }
          ],
          "heatmap": [
           {
            "colorbar": {
             "outlinewidth": 0,
             "ticks": ""
            },
            "colorscale": [
             [
              0,
              "#0d0887"
             ],
             [
              0.1111111111111111,
              "#46039f"
             ],
             [
              0.2222222222222222,
              "#7201a8"
             ],
             [
              0.3333333333333333,
              "#9c179e"
             ],
             [
              0.4444444444444444,
              "#bd3786"
             ],
             [
              0.5555555555555556,
              "#d8576b"
             ],
             [
              0.6666666666666666,
              "#ed7953"
             ],
             [
              0.7777777777777778,
              "#fb9f3a"
             ],
             [
              0.8888888888888888,
              "#fdca26"
             ],
             [
              1,
              "#f0f921"
             ]
            ],
            "type": "heatmap"
           }
          ],
          "heatmapgl": [
           {
            "colorbar": {
             "outlinewidth": 0,
             "ticks": ""
            },
            "colorscale": [
             [
              0,
              "#0d0887"
             ],
             [
              0.1111111111111111,
              "#46039f"
             ],
             [
              0.2222222222222222,
              "#7201a8"
             ],
             [
              0.3333333333333333,
              "#9c179e"
             ],
             [
              0.4444444444444444,
              "#bd3786"
             ],
             [
              0.5555555555555556,
              "#d8576b"
             ],
             [
              0.6666666666666666,
              "#ed7953"
             ],
             [
              0.7777777777777778,
              "#fb9f3a"
             ],
             [
              0.8888888888888888,
              "#fdca26"
             ],
             [
              1,
              "#f0f921"
             ]
            ],
            "type": "heatmapgl"
           }
          ],
          "histogram": [
           {
            "marker": {
             "pattern": {
              "fillmode": "overlay",
              "size": 10,
              "solidity": 0.2
             }
            },
            "type": "histogram"
           }
          ],
          "histogram2d": [
           {
            "colorbar": {
             "outlinewidth": 0,
             "ticks": ""
            },
            "colorscale": [
             [
              0,
              "#0d0887"
             ],
             [
              0.1111111111111111,
              "#46039f"
             ],
             [
              0.2222222222222222,
              "#7201a8"
             ],
             [
              0.3333333333333333,
              "#9c179e"
             ],
             [
              0.4444444444444444,
              "#bd3786"
             ],
             [
              0.5555555555555556,
              "#d8576b"
             ],
             [
              0.6666666666666666,
              "#ed7953"
             ],
             [
              0.7777777777777778,
              "#fb9f3a"
             ],
             [
              0.8888888888888888,
              "#fdca26"
             ],
             [
              1,
              "#f0f921"
             ]
            ],
            "type": "histogram2d"
           }
          ],
          "histogram2dcontour": [
           {
            "colorbar": {
             "outlinewidth": 0,
             "ticks": ""
            },
            "colorscale": [
             [
              0,
              "#0d0887"
             ],
             [
              0.1111111111111111,
              "#46039f"
             ],
             [
              0.2222222222222222,
              "#7201a8"
             ],
             [
              0.3333333333333333,
              "#9c179e"
             ],
             [
              0.4444444444444444,
              "#bd3786"
             ],
             [
              0.5555555555555556,
              "#d8576b"
             ],
             [
              0.6666666666666666,
              "#ed7953"
             ],
             [
              0.7777777777777778,
              "#fb9f3a"
             ],
             [
              0.8888888888888888,
              "#fdca26"
             ],
             [
              1,
              "#f0f921"
             ]
            ],
            "type": "histogram2dcontour"
           }
          ],
          "mesh3d": [
           {
            "colorbar": {
             "outlinewidth": 0,
             "ticks": ""
            },
            "type": "mesh3d"
           }
          ],
          "parcoords": [
           {
            "line": {
             "colorbar": {
              "outlinewidth": 0,
              "ticks": ""
             }
            },
            "type": "parcoords"
           }
          ],
          "pie": [
           {
            "automargin": true,
            "type": "pie"
           }
          ],
          "scatter": [
           {
            "fillpattern": {
             "fillmode": "overlay",
             "size": 10,
             "solidity": 0.2
            },
            "type": "scatter"
           }
          ],
          "scatter3d": [
           {
            "line": {
             "colorbar": {
              "outlinewidth": 0,
              "ticks": ""
             }
            },
            "marker": {
             "colorbar": {
              "outlinewidth": 0,
              "ticks": ""
             }
            },
            "type": "scatter3d"
           }
          ],
          "scattercarpet": [
           {
            "marker": {
             "colorbar": {
              "outlinewidth": 0,
              "ticks": ""
             }
            },
            "type": "scattercarpet"
           }
          ],
          "scattergeo": [
           {
            "marker": {
             "colorbar": {
              "outlinewidth": 0,
              "ticks": ""
             }
            },
            "type": "scattergeo"
           }
          ],
          "scattergl": [
           {
            "marker": {
             "colorbar": {
              "outlinewidth": 0,
              "ticks": ""
             }
            },
            "type": "scattergl"
           }
          ],
          "scattermapbox": [
           {
            "marker": {
             "colorbar": {
              "outlinewidth": 0,
              "ticks": ""
             }
            },
            "type": "scattermapbox"
           }
          ],
          "scatterpolar": [
           {
            "marker": {
             "colorbar": {
              "outlinewidth": 0,
              "ticks": ""
             }
            },
            "type": "scatterpolar"
           }
          ],
          "scatterpolargl": [
           {
            "marker": {
             "colorbar": {
              "outlinewidth": 0,
              "ticks": ""
             }
            },
            "type": "scatterpolargl"
           }
          ],
          "scatterternary": [
           {
            "marker": {
             "colorbar": {
              "outlinewidth": 0,
              "ticks": ""
             }
            },
            "type": "scatterternary"
           }
          ],
          "surface": [
           {
            "colorbar": {
             "outlinewidth": 0,
             "ticks": ""
            },
            "colorscale": [
             [
              0,
              "#0d0887"
             ],
             [
              0.1111111111111111,
              "#46039f"
             ],
             [
              0.2222222222222222,
              "#7201a8"
             ],
             [
              0.3333333333333333,
              "#9c179e"
             ],
             [
              0.4444444444444444,
              "#bd3786"
             ],
             [
              0.5555555555555556,
              "#d8576b"
             ],
             [
              0.6666666666666666,
              "#ed7953"
             ],
             [
              0.7777777777777778,
              "#fb9f3a"
             ],
             [
              0.8888888888888888,
              "#fdca26"
             ],
             [
              1,
              "#f0f921"
             ]
            ],
            "type": "surface"
           }
          ],
          "table": [
           {
            "cells": {
             "fill": {
              "color": "#EBF0F8"
             },
             "line": {
              "color": "white"
             }
            },
            "header": {
             "fill": {
              "color": "#C8D4E3"
             },
             "line": {
              "color": "white"
             }
            },
            "type": "table"
           }
          ]
         },
         "layout": {
          "annotationdefaults": {
           "arrowcolor": "#2a3f5f",
           "arrowhead": 0,
           "arrowwidth": 1
          },
          "autotypenumbers": "strict",
          "coloraxis": {
           "colorbar": {
            "outlinewidth": 0,
            "ticks": ""
           }
          },
          "colorscale": {
           "diverging": [
            [
             0,
             "#8e0152"
            ],
            [
             0.1,
             "#c51b7d"
            ],
            [
             0.2,
             "#de77ae"
            ],
            [
             0.3,
             "#f1b6da"
            ],
            [
             0.4,
             "#fde0ef"
            ],
            [
             0.5,
             "#f7f7f7"
            ],
            [
             0.6,
             "#e6f5d0"
            ],
            [
             0.7,
             "#b8e186"
            ],
            [
             0.8,
             "#7fbc41"
            ],
            [
             0.9,
             "#4d9221"
            ],
            [
             1,
             "#276419"
            ]
           ],
           "sequential": [
            [
             0,
             "#0d0887"
            ],
            [
             0.1111111111111111,
             "#46039f"
            ],
            [
             0.2222222222222222,
             "#7201a8"
            ],
            [
             0.3333333333333333,
             "#9c179e"
            ],
            [
             0.4444444444444444,
             "#bd3786"
            ],
            [
             0.5555555555555556,
             "#d8576b"
            ],
            [
             0.6666666666666666,
             "#ed7953"
            ],
            [
             0.7777777777777778,
             "#fb9f3a"
            ],
            [
             0.8888888888888888,
             "#fdca26"
            ],
            [
             1,
             "#f0f921"
            ]
           ],
           "sequentialminus": [
            [
             0,
             "#0d0887"
            ],
            [
             0.1111111111111111,
             "#46039f"
            ],
            [
             0.2222222222222222,
             "#7201a8"
            ],
            [
             0.3333333333333333,
             "#9c179e"
            ],
            [
             0.4444444444444444,
             "#bd3786"
            ],
            [
             0.5555555555555556,
             "#d8576b"
            ],
            [
             0.6666666666666666,
             "#ed7953"
            ],
            [
             0.7777777777777778,
             "#fb9f3a"
            ],
            [
             0.8888888888888888,
             "#fdca26"
            ],
            [
             1,
             "#f0f921"
            ]
           ]
          },
          "colorway": [
           "#636efa",
           "#EF553B",
           "#00cc96",
           "#ab63fa",
           "#FFA15A",
           "#19d3f3",
           "#FF6692",
           "#B6E880",
           "#FF97FF",
           "#FECB52"
          ],
          "font": {
           "color": "#2a3f5f"
          },
          "geo": {
           "bgcolor": "white",
           "lakecolor": "white",
           "landcolor": "#E5ECF6",
           "showlakes": true,
           "showland": true,
           "subunitcolor": "white"
          },
          "hoverlabel": {
           "align": "left"
          },
          "hovermode": "closest",
          "mapbox": {
           "style": "light"
          },
          "paper_bgcolor": "white",
          "plot_bgcolor": "#E5ECF6",
          "polar": {
           "angularaxis": {
            "gridcolor": "white",
            "linecolor": "white",
            "ticks": ""
           },
           "bgcolor": "#E5ECF6",
           "radialaxis": {
            "gridcolor": "white",
            "linecolor": "white",
            "ticks": ""
           }
          },
          "scene": {
           "xaxis": {
            "backgroundcolor": "#E5ECF6",
            "gridcolor": "white",
            "gridwidth": 2,
            "linecolor": "white",
            "showbackground": true,
            "ticks": "",
            "zerolinecolor": "white"
           },
           "yaxis": {
            "backgroundcolor": "#E5ECF6",
            "gridcolor": "white",
            "gridwidth": 2,
            "linecolor": "white",
            "showbackground": true,
            "ticks": "",
            "zerolinecolor": "white"
           },
           "zaxis": {
            "backgroundcolor": "#E5ECF6",
            "gridcolor": "white",
            "gridwidth": 2,
            "linecolor": "white",
            "showbackground": true,
            "ticks": "",
            "zerolinecolor": "white"
           }
          },
          "shapedefaults": {
           "line": {
            "color": "#2a3f5f"
           }
          },
          "ternary": {
           "aaxis": {
            "gridcolor": "white",
            "linecolor": "white",
            "ticks": ""
           },
           "baxis": {
            "gridcolor": "white",
            "linecolor": "white",
            "ticks": ""
           },
           "bgcolor": "#E5ECF6",
           "caxis": {
            "gridcolor": "white",
            "linecolor": "white",
            "ticks": ""
           }
          },
          "title": {
           "x": 0.05
          },
          "xaxis": {
           "automargin": true,
           "gridcolor": "white",
           "linecolor": "white",
           "ticks": "",
           "title": {
            "standoff": 15
           },
           "zerolinecolor": "white",
           "zerolinewidth": 2
          },
          "yaxis": {
           "automargin": true,
           "gridcolor": "white",
           "linecolor": "white",
           "ticks": "",
           "title": {
            "standoff": 15
           },
           "zerolinecolor": "white",
           "zerolinewidth": 2
          }
         }
        },
        "title": {
         "text": "Number of Events Per Region",
         "x": 0.5,
         "xanchor": "center"
        },
        "xaxis": {
         "tickangle": -45,
         "title": {
          "text": "Region"
         }
        },
        "yaxis": {
         "title": {
          "text": "Number of Events"
         }
        }
       }
      }
     },
     "metadata": {},
     "output_type": "display_data"
    }
   ],
   "source": [
    "import plotly.graph_objects as go\n",
    "\n",
    "region_counts = tornado_df['Region'].value_counts()\n",
    "\n",
    "fig = go.Figure(data=[go.Bar(\n",
    "    x=region_counts.index,\n",
    "    y=region_counts.values,  \n",
    "    marker_color='skyblue'   \n",
    ")])\n",
    "\n",
    "# Update layout with title and axis labels\n",
    "fig.update_layout(\n",
    "    title={\n",
    "        'text': \"Number of Events Per Region\",\n",
    "        'x': 0.5,         \n",
    "        'xanchor': 'center'\n",
    "    },\n",
    "    xaxis_title='Region',\n",
    "    yaxis_title='Number of Events',\n",
    "    xaxis_tickangle=-45 \n",
    ")\n",
    "\n",
    "# Show the plot\n",
    "fig.show()"
   ]
  },
  {
   "cell_type": "code",
   "execution_count": 16,
   "metadata": {},
   "outputs": [
    {
     "name": "stderr",
     "output_type": "stream",
     "text": [
      "c:\\Users\\Jwarn\\anaconda3\\anaconda\\lib\\site-packages\\plotly\\graph_objs\\_deprecations.py:378: DeprecationWarning:\n",
      "\n",
      "plotly.graph_objs.Line is deprecated.\n",
      "Please replace it with one of the following more specific types\n",
      "  - plotly.graph_objs.scatter.Line\n",
      "  - plotly.graph_objs.layout.shape.Line\n",
      "  - etc.\n",
      "\n",
      "\n"
     ]
    },
    {
     "data": {
      "application/vnd.plotly.v1+json": {
       "config": {
        "plotlyServerURL": "https://plot.ly"
       },
       "data": [
        {
         "line": {
          "color": "thistle"
         },
         "mode": "lines+markers",
         "name": "RGBA Color",
         "type": "scatter",
         "x": [
          "January",
          "February",
          "March",
          "April",
          "May",
          "June",
          "July",
          "August",
          "September",
          "October",
          "November",
          "December"
         ],
         "y": [
          85,
          58,
          193,
          238,
          408,
          315,
          244,
          243,
          104,
          104,
          51,
          78
         ]
        }
       ],
       "layout": {
        "template": {
         "data": {
          "bar": [
           {
            "error_x": {
             "color": "#2a3f5f"
            },
            "error_y": {
             "color": "#2a3f5f"
            },
            "marker": {
             "line": {
              "color": "#E5ECF6",
              "width": 0.5
             },
             "pattern": {
              "fillmode": "overlay",
              "size": 10,
              "solidity": 0.2
             }
            },
            "type": "bar"
           }
          ],
          "barpolar": [
           {
            "marker": {
             "line": {
              "color": "#E5ECF6",
              "width": 0.5
             },
             "pattern": {
              "fillmode": "overlay",
              "size": 10,
              "solidity": 0.2
             }
            },
            "type": "barpolar"
           }
          ],
          "carpet": [
           {
            "aaxis": {
             "endlinecolor": "#2a3f5f",
             "gridcolor": "white",
             "linecolor": "white",
             "minorgridcolor": "white",
             "startlinecolor": "#2a3f5f"
            },
            "baxis": {
             "endlinecolor": "#2a3f5f",
             "gridcolor": "white",
             "linecolor": "white",
             "minorgridcolor": "white",
             "startlinecolor": "#2a3f5f"
            },
            "type": "carpet"
           }
          ],
          "choropleth": [
           {
            "colorbar": {
             "outlinewidth": 0,
             "ticks": ""
            },
            "type": "choropleth"
           }
          ],
          "contour": [
           {
            "colorbar": {
             "outlinewidth": 0,
             "ticks": ""
            },
            "colorscale": [
             [
              0,
              "#0d0887"
             ],
             [
              0.1111111111111111,
              "#46039f"
             ],
             [
              0.2222222222222222,
              "#7201a8"
             ],
             [
              0.3333333333333333,
              "#9c179e"
             ],
             [
              0.4444444444444444,
              "#bd3786"
             ],
             [
              0.5555555555555556,
              "#d8576b"
             ],
             [
              0.6666666666666666,
              "#ed7953"
             ],
             [
              0.7777777777777778,
              "#fb9f3a"
             ],
             [
              0.8888888888888888,
              "#fdca26"
             ],
             [
              1,
              "#f0f921"
             ]
            ],
            "type": "contour"
           }
          ],
          "contourcarpet": [
           {
            "colorbar": {
             "outlinewidth": 0,
             "ticks": ""
            },
            "type": "contourcarpet"
           }
          ],
          "heatmap": [
           {
            "colorbar": {
             "outlinewidth": 0,
             "ticks": ""
            },
            "colorscale": [
             [
              0,
              "#0d0887"
             ],
             [
              0.1111111111111111,
              "#46039f"
             ],
             [
              0.2222222222222222,
              "#7201a8"
             ],
             [
              0.3333333333333333,
              "#9c179e"
             ],
             [
              0.4444444444444444,
              "#bd3786"
             ],
             [
              0.5555555555555556,
              "#d8576b"
             ],
             [
              0.6666666666666666,
              "#ed7953"
             ],
             [
              0.7777777777777778,
              "#fb9f3a"
             ],
             [
              0.8888888888888888,
              "#fdca26"
             ],
             [
              1,
              "#f0f921"
             ]
            ],
            "type": "heatmap"
           }
          ],
          "heatmapgl": [
           {
            "colorbar": {
             "outlinewidth": 0,
             "ticks": ""
            },
            "colorscale": [
             [
              0,
              "#0d0887"
             ],
             [
              0.1111111111111111,
              "#46039f"
             ],
             [
              0.2222222222222222,
              "#7201a8"
             ],
             [
              0.3333333333333333,
              "#9c179e"
             ],
             [
              0.4444444444444444,
              "#bd3786"
             ],
             [
              0.5555555555555556,
              "#d8576b"
             ],
             [
              0.6666666666666666,
              "#ed7953"
             ],
             [
              0.7777777777777778,
              "#fb9f3a"
             ],
             [
              0.8888888888888888,
              "#fdca26"
             ],
             [
              1,
              "#f0f921"
             ]
            ],
            "type": "heatmapgl"
           }
          ],
          "histogram": [
           {
            "marker": {
             "pattern": {
              "fillmode": "overlay",
              "size": 10,
              "solidity": 0.2
             }
            },
            "type": "histogram"
           }
          ],
          "histogram2d": [
           {
            "colorbar": {
             "outlinewidth": 0,
             "ticks": ""
            },
            "colorscale": [
             [
              0,
              "#0d0887"
             ],
             [
              0.1111111111111111,
              "#46039f"
             ],
             [
              0.2222222222222222,
              "#7201a8"
             ],
             [
              0.3333333333333333,
              "#9c179e"
             ],
             [
              0.4444444444444444,
              "#bd3786"
             ],
             [
              0.5555555555555556,
              "#d8576b"
             ],
             [
              0.6666666666666666,
              "#ed7953"
             ],
             [
              0.7777777777777778,
              "#fb9f3a"
             ],
             [
              0.8888888888888888,
              "#fdca26"
             ],
             [
              1,
              "#f0f921"
             ]
            ],
            "type": "histogram2d"
           }
          ],
          "histogram2dcontour": [
           {
            "colorbar": {
             "outlinewidth": 0,
             "ticks": ""
            },
            "colorscale": [
             [
              0,
              "#0d0887"
             ],
             [
              0.1111111111111111,
              "#46039f"
             ],
             [
              0.2222222222222222,
              "#7201a8"
             ],
             [
              0.3333333333333333,
              "#9c179e"
             ],
             [
              0.4444444444444444,
              "#bd3786"
             ],
             [
              0.5555555555555556,
              "#d8576b"
             ],
             [
              0.6666666666666666,
              "#ed7953"
             ],
             [
              0.7777777777777778,
              "#fb9f3a"
             ],
             [
              0.8888888888888888,
              "#fdca26"
             ],
             [
              1,
              "#f0f921"
             ]
            ],
            "type": "histogram2dcontour"
           }
          ],
          "mesh3d": [
           {
            "colorbar": {
             "outlinewidth": 0,
             "ticks": ""
            },
            "type": "mesh3d"
           }
          ],
          "parcoords": [
           {
            "line": {
             "colorbar": {
              "outlinewidth": 0,
              "ticks": ""
             }
            },
            "type": "parcoords"
           }
          ],
          "pie": [
           {
            "automargin": true,
            "type": "pie"
           }
          ],
          "scatter": [
           {
            "fillpattern": {
             "fillmode": "overlay",
             "size": 10,
             "solidity": 0.2
            },
            "type": "scatter"
           }
          ],
          "scatter3d": [
           {
            "line": {
             "colorbar": {
              "outlinewidth": 0,
              "ticks": ""
             }
            },
            "marker": {
             "colorbar": {
              "outlinewidth": 0,
              "ticks": ""
             }
            },
            "type": "scatter3d"
           }
          ],
          "scattercarpet": [
           {
            "marker": {
             "colorbar": {
              "outlinewidth": 0,
              "ticks": ""
             }
            },
            "type": "scattercarpet"
           }
          ],
          "scattergeo": [
           {
            "marker": {
             "colorbar": {
              "outlinewidth": 0,
              "ticks": ""
             }
            },
            "type": "scattergeo"
           }
          ],
          "scattergl": [
           {
            "marker": {
             "colorbar": {
              "outlinewidth": 0,
              "ticks": ""
             }
            },
            "type": "scattergl"
           }
          ],
          "scattermapbox": [
           {
            "marker": {
             "colorbar": {
              "outlinewidth": 0,
              "ticks": ""
             }
            },
            "type": "scattermapbox"
           }
          ],
          "scatterpolar": [
           {
            "marker": {
             "colorbar": {
              "outlinewidth": 0,
              "ticks": ""
             }
            },
            "type": "scatterpolar"
           }
          ],
          "scatterpolargl": [
           {
            "marker": {
             "colorbar": {
              "outlinewidth": 0,
              "ticks": ""
             }
            },
            "type": "scatterpolargl"
           }
          ],
          "scatterternary": [
           {
            "marker": {
             "colorbar": {
              "outlinewidth": 0,
              "ticks": ""
             }
            },
            "type": "scatterternary"
           }
          ],
          "surface": [
           {
            "colorbar": {
             "outlinewidth": 0,
             "ticks": ""
            },
            "colorscale": [
             [
              0,
              "#0d0887"
             ],
             [
              0.1111111111111111,
              "#46039f"
             ],
             [
              0.2222222222222222,
              "#7201a8"
             ],
             [
              0.3333333333333333,
              "#9c179e"
             ],
             [
              0.4444444444444444,
              "#bd3786"
             ],
             [
              0.5555555555555556,
              "#d8576b"
             ],
             [
              0.6666666666666666,
              "#ed7953"
             ],
             [
              0.7777777777777778,
              "#fb9f3a"
             ],
             [
              0.8888888888888888,
              "#fdca26"
             ],
             [
              1,
              "#f0f921"
             ]
            ],
            "type": "surface"
           }
          ],
          "table": [
           {
            "cells": {
             "fill": {
              "color": "#EBF0F8"
             },
             "line": {
              "color": "white"
             }
            },
            "header": {
             "fill": {
              "color": "#C8D4E3"
             },
             "line": {
              "color": "white"
             }
            },
            "type": "table"
           }
          ]
         },
         "layout": {
          "annotationdefaults": {
           "arrowcolor": "#2a3f5f",
           "arrowhead": 0,
           "arrowwidth": 1
          },
          "autotypenumbers": "strict",
          "coloraxis": {
           "colorbar": {
            "outlinewidth": 0,
            "ticks": ""
           }
          },
          "colorscale": {
           "diverging": [
            [
             0,
             "#8e0152"
            ],
            [
             0.1,
             "#c51b7d"
            ],
            [
             0.2,
             "#de77ae"
            ],
            [
             0.3,
             "#f1b6da"
            ],
            [
             0.4,
             "#fde0ef"
            ],
            [
             0.5,
             "#f7f7f7"
            ],
            [
             0.6,
             "#e6f5d0"
            ],
            [
             0.7,
             "#b8e186"
            ],
            [
             0.8,
             "#7fbc41"
            ],
            [
             0.9,
             "#4d9221"
            ],
            [
             1,
             "#276419"
            ]
           ],
           "sequential": [
            [
             0,
             "#0d0887"
            ],
            [
             0.1111111111111111,
             "#46039f"
            ],
            [
             0.2222222222222222,
             "#7201a8"
            ],
            [
             0.3333333333333333,
             "#9c179e"
            ],
            [
             0.4444444444444444,
             "#bd3786"
            ],
            [
             0.5555555555555556,
             "#d8576b"
            ],
            [
             0.6666666666666666,
             "#ed7953"
            ],
            [
             0.7777777777777778,
             "#fb9f3a"
            ],
            [
             0.8888888888888888,
             "#fdca26"
            ],
            [
             1,
             "#f0f921"
            ]
           ],
           "sequentialminus": [
            [
             0,
             "#0d0887"
            ],
            [
             0.1111111111111111,
             "#46039f"
            ],
            [
             0.2222222222222222,
             "#7201a8"
            ],
            [
             0.3333333333333333,
             "#9c179e"
            ],
            [
             0.4444444444444444,
             "#bd3786"
            ],
            [
             0.5555555555555556,
             "#d8576b"
            ],
            [
             0.6666666666666666,
             "#ed7953"
            ],
            [
             0.7777777777777778,
             "#fb9f3a"
            ],
            [
             0.8888888888888888,
             "#fdca26"
            ],
            [
             1,
             "#f0f921"
            ]
           ]
          },
          "colorway": [
           "#636efa",
           "#EF553B",
           "#00cc96",
           "#ab63fa",
           "#FFA15A",
           "#19d3f3",
           "#FF6692",
           "#B6E880",
           "#FF97FF",
           "#FECB52"
          ],
          "font": {
           "color": "#2a3f5f"
          },
          "geo": {
           "bgcolor": "white",
           "lakecolor": "white",
           "landcolor": "#E5ECF6",
           "showlakes": true,
           "showland": true,
           "subunitcolor": "white"
          },
          "hoverlabel": {
           "align": "left"
          },
          "hovermode": "closest",
          "mapbox": {
           "style": "light"
          },
          "paper_bgcolor": "white",
          "plot_bgcolor": "#E5ECF6",
          "polar": {
           "angularaxis": {
            "gridcolor": "white",
            "linecolor": "white",
            "ticks": ""
           },
           "bgcolor": "#E5ECF6",
           "radialaxis": {
            "gridcolor": "white",
            "linecolor": "white",
            "ticks": ""
           }
          },
          "scene": {
           "xaxis": {
            "backgroundcolor": "#E5ECF6",
            "gridcolor": "white",
            "gridwidth": 2,
            "linecolor": "white",
            "showbackground": true,
            "ticks": "",
            "zerolinecolor": "white"
           },
           "yaxis": {
            "backgroundcolor": "#E5ECF6",
            "gridcolor": "white",
            "gridwidth": 2,
            "linecolor": "white",
            "showbackground": true,
            "ticks": "",
            "zerolinecolor": "white"
           },
           "zaxis": {
            "backgroundcolor": "#E5ECF6",
            "gridcolor": "white",
            "gridwidth": 2,
            "linecolor": "white",
            "showbackground": true,
            "ticks": "",
            "zerolinecolor": "white"
           }
          },
          "shapedefaults": {
           "line": {
            "color": "#2a3f5f"
           }
          },
          "ternary": {
           "aaxis": {
            "gridcolor": "white",
            "linecolor": "white",
            "ticks": ""
           },
           "baxis": {
            "gridcolor": "white",
            "linecolor": "white",
            "ticks": ""
           },
           "bgcolor": "#E5ECF6",
           "caxis": {
            "gridcolor": "white",
            "linecolor": "white",
            "ticks": ""
           }
          },
          "title": {
           "x": 0.05
          },
          "xaxis": {
           "automargin": true,
           "gridcolor": "white",
           "linecolor": "white",
           "ticks": "",
           "title": {
            "standoff": 15
           },
           "zerolinecolor": "white",
           "zerolinewidth": 2
          },
          "yaxis": {
           "automargin": true,
           "gridcolor": "white",
           "linecolor": "white",
           "ticks": "",
           "title": {
            "standoff": 15
           },
           "zerolinecolor": "white",
           "zerolinewidth": 2
          }
         }
        },
        "title": {
         "text": "Monthly Occurrences",
         "x": 0.5,
         "xanchor": "center"
        },
        "xaxis": {
         "title": {
          "text": "Month"
         }
        },
        "yaxis": {
         "title": {
          "text": "Count"
         }
        }
       }
      }
     },
     "metadata": {},
     "output_type": "display_data"
    }
   ],
   "source": [
    "### Group tornado events by month  and calculate count totals per season ###\n",
    "### proportion as well for sampling ###\n",
    "month_order = ['January', 'February', 'March', 'April', 'May', 'June', 'July', 'August', 'September', 'October', 'November', 'December']\n",
    "tornado_df['MONTH_NAME'] = pd.Categorical(tornado_df['MONTH_NAME'], categories=month_order, ordered=True)\n",
    "\n",
    "monthly_occurrences = tornado_df['MONTH_NAME'].value_counts()\n",
    "\n",
    "sorted_value_counts = monthly_occurrences.sort_index()\n",
    "\n",
    "fig = go.Figure(data = [go.Line(\n",
    "    x = sorted_value_counts.index,\n",
    "    y = sorted_value_counts.values,\n",
    "    mode = 'lines+markers',\n",
    "    line = dict(color = 'thistle'), name = 'RGBA Color'\n",
    ")]    \n",
    ")\n",
    "\n",
    "fig.update_layout(\n",
    "    title={\n",
    "        'text': \"Monthly Occurrences\",\n",
    "        'x': 0.5,         \n",
    "        'xanchor': 'center'\n",
    "    },\n",
    "    xaxis_title = 'Month',\n",
    "    yaxis_title = 'Count'\n",
    "\n",
    ")\n",
    "\n",
    "fig.show()"
   ]
  },
  {
   "cell_type": "code",
   "execution_count": 17,
   "metadata": {},
   "outputs": [
    {
     "data": {
      "application/vnd.plotly.v1+json": {
       "config": {
        "plotlyServerURL": "https://plot.ly"
       },
       "data": [
        {
         "domain": {
          "x": [
           0,
           1
          ],
          "y": [
           0,
           1
          ]
         },
         "hovertemplate": "%{label}: %{value}<extra></extra>",
         "labels": [
          "SOUTH",
          "SOUTHEAST",
          "OHIO VALLEY",
          "UPPER MIDWEST",
          "NORTHERN ROCKIES AND PLAINS",
          "NORTHEAST",
          "SOUTHWEST",
          "WEST",
          "NORTHWEST"
         ],
         "legendgroup": "",
         "name": "",
         "showlegend": true,
         "textposition": "inside",
         "type": "pie",
         "values": [
          567,
          411,
          374,
          205,
          189,
          152,
          148,
          35,
          32
         ]
        }
       ],
       "layout": {
        "height": 500,
        "legend": {
         "tracegroupgap": 0
        },
        "margin": {
         "b": 100,
         "l": 75,
         "r": 100,
         "t": 100
        },
        "piecolorway": [
         "rgb(0,68,27)",
         "rgb(0,109,44)",
         "rgb(35,139,69)",
         "rgb(65,171,93)",
         "rgb(116,196,118)",
         "rgb(161,217,155)",
         "rgb(199,233,192)",
         "rgb(229,245,224)",
         "rgb(247,252,245)"
        ],
        "template": {
         "data": {
          "bar": [
           {
            "error_x": {
             "color": "#2a3f5f"
            },
            "error_y": {
             "color": "#2a3f5f"
            },
            "marker": {
             "line": {
              "color": "#E5ECF6",
              "width": 0.5
             },
             "pattern": {
              "fillmode": "overlay",
              "size": 10,
              "solidity": 0.2
             }
            },
            "type": "bar"
           }
          ],
          "barpolar": [
           {
            "marker": {
             "line": {
              "color": "#E5ECF6",
              "width": 0.5
             },
             "pattern": {
              "fillmode": "overlay",
              "size": 10,
              "solidity": 0.2
             }
            },
            "type": "barpolar"
           }
          ],
          "carpet": [
           {
            "aaxis": {
             "endlinecolor": "#2a3f5f",
             "gridcolor": "white",
             "linecolor": "white",
             "minorgridcolor": "white",
             "startlinecolor": "#2a3f5f"
            },
            "baxis": {
             "endlinecolor": "#2a3f5f",
             "gridcolor": "white",
             "linecolor": "white",
             "minorgridcolor": "white",
             "startlinecolor": "#2a3f5f"
            },
            "type": "carpet"
           }
          ],
          "choropleth": [
           {
            "colorbar": {
             "outlinewidth": 0,
             "ticks": ""
            },
            "type": "choropleth"
           }
          ],
          "contour": [
           {
            "colorbar": {
             "outlinewidth": 0,
             "ticks": ""
            },
            "colorscale": [
             [
              0,
              "#0d0887"
             ],
             [
              0.1111111111111111,
              "#46039f"
             ],
             [
              0.2222222222222222,
              "#7201a8"
             ],
             [
              0.3333333333333333,
              "#9c179e"
             ],
             [
              0.4444444444444444,
              "#bd3786"
             ],
             [
              0.5555555555555556,
              "#d8576b"
             ],
             [
              0.6666666666666666,
              "#ed7953"
             ],
             [
              0.7777777777777778,
              "#fb9f3a"
             ],
             [
              0.8888888888888888,
              "#fdca26"
             ],
             [
              1,
              "#f0f921"
             ]
            ],
            "type": "contour"
           }
          ],
          "contourcarpet": [
           {
            "colorbar": {
             "outlinewidth": 0,
             "ticks": ""
            },
            "type": "contourcarpet"
           }
          ],
          "heatmap": [
           {
            "colorbar": {
             "outlinewidth": 0,
             "ticks": ""
            },
            "colorscale": [
             [
              0,
              "#0d0887"
             ],
             [
              0.1111111111111111,
              "#46039f"
             ],
             [
              0.2222222222222222,
              "#7201a8"
             ],
             [
              0.3333333333333333,
              "#9c179e"
             ],
             [
              0.4444444444444444,
              "#bd3786"
             ],
             [
              0.5555555555555556,
              "#d8576b"
             ],
             [
              0.6666666666666666,
              "#ed7953"
             ],
             [
              0.7777777777777778,
              "#fb9f3a"
             ],
             [
              0.8888888888888888,
              "#fdca26"
             ],
             [
              1,
              "#f0f921"
             ]
            ],
            "type": "heatmap"
           }
          ],
          "heatmapgl": [
           {
            "colorbar": {
             "outlinewidth": 0,
             "ticks": ""
            },
            "colorscale": [
             [
              0,
              "#0d0887"
             ],
             [
              0.1111111111111111,
              "#46039f"
             ],
             [
              0.2222222222222222,
              "#7201a8"
             ],
             [
              0.3333333333333333,
              "#9c179e"
             ],
             [
              0.4444444444444444,
              "#bd3786"
             ],
             [
              0.5555555555555556,
              "#d8576b"
             ],
             [
              0.6666666666666666,
              "#ed7953"
             ],
             [
              0.7777777777777778,
              "#fb9f3a"
             ],
             [
              0.8888888888888888,
              "#fdca26"
             ],
             [
              1,
              "#f0f921"
             ]
            ],
            "type": "heatmapgl"
           }
          ],
          "histogram": [
           {
            "marker": {
             "pattern": {
              "fillmode": "overlay",
              "size": 10,
              "solidity": 0.2
             }
            },
            "type": "histogram"
           }
          ],
          "histogram2d": [
           {
            "colorbar": {
             "outlinewidth": 0,
             "ticks": ""
            },
            "colorscale": [
             [
              0,
              "#0d0887"
             ],
             [
              0.1111111111111111,
              "#46039f"
             ],
             [
              0.2222222222222222,
              "#7201a8"
             ],
             [
              0.3333333333333333,
              "#9c179e"
             ],
             [
              0.4444444444444444,
              "#bd3786"
             ],
             [
              0.5555555555555556,
              "#d8576b"
             ],
             [
              0.6666666666666666,
              "#ed7953"
             ],
             [
              0.7777777777777778,
              "#fb9f3a"
             ],
             [
              0.8888888888888888,
              "#fdca26"
             ],
             [
              1,
              "#f0f921"
             ]
            ],
            "type": "histogram2d"
           }
          ],
          "histogram2dcontour": [
           {
            "colorbar": {
             "outlinewidth": 0,
             "ticks": ""
            },
            "colorscale": [
             [
              0,
              "#0d0887"
             ],
             [
              0.1111111111111111,
              "#46039f"
             ],
             [
              0.2222222222222222,
              "#7201a8"
             ],
             [
              0.3333333333333333,
              "#9c179e"
             ],
             [
              0.4444444444444444,
              "#bd3786"
             ],
             [
              0.5555555555555556,
              "#d8576b"
             ],
             [
              0.6666666666666666,
              "#ed7953"
             ],
             [
              0.7777777777777778,
              "#fb9f3a"
             ],
             [
              0.8888888888888888,
              "#fdca26"
             ],
             [
              1,
              "#f0f921"
             ]
            ],
            "type": "histogram2dcontour"
           }
          ],
          "mesh3d": [
           {
            "colorbar": {
             "outlinewidth": 0,
             "ticks": ""
            },
            "type": "mesh3d"
           }
          ],
          "parcoords": [
           {
            "line": {
             "colorbar": {
              "outlinewidth": 0,
              "ticks": ""
             }
            },
            "type": "parcoords"
           }
          ],
          "pie": [
           {
            "automargin": true,
            "type": "pie"
           }
          ],
          "scatter": [
           {
            "fillpattern": {
             "fillmode": "overlay",
             "size": 10,
             "solidity": 0.2
            },
            "type": "scatter"
           }
          ],
          "scatter3d": [
           {
            "line": {
             "colorbar": {
              "outlinewidth": 0,
              "ticks": ""
             }
            },
            "marker": {
             "colorbar": {
              "outlinewidth": 0,
              "ticks": ""
             }
            },
            "type": "scatter3d"
           }
          ],
          "scattercarpet": [
           {
            "marker": {
             "colorbar": {
              "outlinewidth": 0,
              "ticks": ""
             }
            },
            "type": "scattercarpet"
           }
          ],
          "scattergeo": [
           {
            "marker": {
             "colorbar": {
              "outlinewidth": 0,
              "ticks": ""
             }
            },
            "type": "scattergeo"
           }
          ],
          "scattergl": [
           {
            "marker": {
             "colorbar": {
              "outlinewidth": 0,
              "ticks": ""
             }
            },
            "type": "scattergl"
           }
          ],
          "scattermapbox": [
           {
            "marker": {
             "colorbar": {
              "outlinewidth": 0,
              "ticks": ""
             }
            },
            "type": "scattermapbox"
           }
          ],
          "scatterpolar": [
           {
            "marker": {
             "colorbar": {
              "outlinewidth": 0,
              "ticks": ""
             }
            },
            "type": "scatterpolar"
           }
          ],
          "scatterpolargl": [
           {
            "marker": {
             "colorbar": {
              "outlinewidth": 0,
              "ticks": ""
             }
            },
            "type": "scatterpolargl"
           }
          ],
          "scatterternary": [
           {
            "marker": {
             "colorbar": {
              "outlinewidth": 0,
              "ticks": ""
             }
            },
            "type": "scatterternary"
           }
          ],
          "surface": [
           {
            "colorbar": {
             "outlinewidth": 0,
             "ticks": ""
            },
            "colorscale": [
             [
              0,
              "#0d0887"
             ],
             [
              0.1111111111111111,
              "#46039f"
             ],
             [
              0.2222222222222222,
              "#7201a8"
             ],
             [
              0.3333333333333333,
              "#9c179e"
             ],
             [
              0.4444444444444444,
              "#bd3786"
             ],
             [
              0.5555555555555556,
              "#d8576b"
             ],
             [
              0.6666666666666666,
              "#ed7953"
             ],
             [
              0.7777777777777778,
              "#fb9f3a"
             ],
             [
              0.8888888888888888,
              "#fdca26"
             ],
             [
              1,
              "#f0f921"
             ]
            ],
            "type": "surface"
           }
          ],
          "table": [
           {
            "cells": {
             "fill": {
              "color": "#EBF0F8"
             },
             "line": {
              "color": "white"
             }
            },
            "header": {
             "fill": {
              "color": "#C8D4E3"
             },
             "line": {
              "color": "white"
             }
            },
            "type": "table"
           }
          ]
         },
         "layout": {
          "annotationdefaults": {
           "arrowcolor": "#2a3f5f",
           "arrowhead": 0,
           "arrowwidth": 1
          },
          "autotypenumbers": "strict",
          "coloraxis": {
           "colorbar": {
            "outlinewidth": 0,
            "ticks": ""
           }
          },
          "colorscale": {
           "diverging": [
            [
             0,
             "#8e0152"
            ],
            [
             0.1,
             "#c51b7d"
            ],
            [
             0.2,
             "#de77ae"
            ],
            [
             0.3,
             "#f1b6da"
            ],
            [
             0.4,
             "#fde0ef"
            ],
            [
             0.5,
             "#f7f7f7"
            ],
            [
             0.6,
             "#e6f5d0"
            ],
            [
             0.7,
             "#b8e186"
            ],
            [
             0.8,
             "#7fbc41"
            ],
            [
             0.9,
             "#4d9221"
            ],
            [
             1,
             "#276419"
            ]
           ],
           "sequential": [
            [
             0,
             "#0d0887"
            ],
            [
             0.1111111111111111,
             "#46039f"
            ],
            [
             0.2222222222222222,
             "#7201a8"
            ],
            [
             0.3333333333333333,
             "#9c179e"
            ],
            [
             0.4444444444444444,
             "#bd3786"
            ],
            [
             0.5555555555555556,
             "#d8576b"
            ],
            [
             0.6666666666666666,
             "#ed7953"
            ],
            [
             0.7777777777777778,
             "#fb9f3a"
            ],
            [
             0.8888888888888888,
             "#fdca26"
            ],
            [
             1,
             "#f0f921"
            ]
           ],
           "sequentialminus": [
            [
             0,
             "#0d0887"
            ],
            [
             0.1111111111111111,
             "#46039f"
            ],
            [
             0.2222222222222222,
             "#7201a8"
            ],
            [
             0.3333333333333333,
             "#9c179e"
            ],
            [
             0.4444444444444444,
             "#bd3786"
            ],
            [
             0.5555555555555556,
             "#d8576b"
            ],
            [
             0.6666666666666666,
             "#ed7953"
            ],
            [
             0.7777777777777778,
             "#fb9f3a"
            ],
            [
             0.8888888888888888,
             "#fdca26"
            ],
            [
             1,
             "#f0f921"
            ]
           ]
          },
          "colorway": [
           "#636efa",
           "#EF553B",
           "#00cc96",
           "#ab63fa",
           "#FFA15A",
           "#19d3f3",
           "#FF6692",
           "#B6E880",
           "#FF97FF",
           "#FECB52"
          ],
          "font": {
           "color": "#2a3f5f"
          },
          "geo": {
           "bgcolor": "white",
           "lakecolor": "white",
           "landcolor": "#E5ECF6",
           "showlakes": true,
           "showland": true,
           "subunitcolor": "white"
          },
          "hoverlabel": {
           "align": "left"
          },
          "hovermode": "closest",
          "mapbox": {
           "style": "light"
          },
          "paper_bgcolor": "white",
          "plot_bgcolor": "#E5ECF6",
          "polar": {
           "angularaxis": {
            "gridcolor": "white",
            "linecolor": "white",
            "ticks": ""
           },
           "bgcolor": "#E5ECF6",
           "radialaxis": {
            "gridcolor": "white",
            "linecolor": "white",
            "ticks": ""
           }
          },
          "scene": {
           "xaxis": {
            "backgroundcolor": "#E5ECF6",
            "gridcolor": "white",
            "gridwidth": 2,
            "linecolor": "white",
            "showbackground": true,
            "ticks": "",
            "zerolinecolor": "white"
           },
           "yaxis": {
            "backgroundcolor": "#E5ECF6",
            "gridcolor": "white",
            "gridwidth": 2,
            "linecolor": "white",
            "showbackground": true,
            "ticks": "",
            "zerolinecolor": "white"
           },
           "zaxis": {
            "backgroundcolor": "#E5ECF6",
            "gridcolor": "white",
            "gridwidth": 2,
            "linecolor": "white",
            "showbackground": true,
            "ticks": "",
            "zerolinecolor": "white"
           }
          },
          "shapedefaults": {
           "line": {
            "color": "#2a3f5f"
           }
          },
          "ternary": {
           "aaxis": {
            "gridcolor": "white",
            "linecolor": "white",
            "ticks": ""
           },
           "baxis": {
            "gridcolor": "white",
            "linecolor": "white",
            "ticks": ""
           },
           "bgcolor": "#E5ECF6",
           "caxis": {
            "gridcolor": "white",
            "linecolor": "white",
            "ticks": ""
           }
          },
          "title": {
           "x": 0.05
          },
          "xaxis": {
           "automargin": true,
           "gridcolor": "white",
           "linecolor": "white",
           "ticks": "",
           "title": {
            "standoff": 15
           },
           "zerolinecolor": "white",
           "zerolinewidth": 2
          },
          "yaxis": {
           "automargin": true,
           "gridcolor": "white",
           "linecolor": "white",
           "ticks": "",
           "title": {
            "standoff": 15
           },
           "zerolinecolor": "white",
           "zerolinewidth": 2
          }
         }
        },
        "title": {
         "text": "Events Per Region",
         "x": 0.5,
         "xanchor": "center"
        },
        "uniformtext": {
         "minsize": 12,
         "mode": "hide"
        },
        "width": 750
       }
      }
     },
     "metadata": {},
     "output_type": "display_data"
    },
    {
     "data": {
      "application/vnd.plotly.v1+json": {
       "config": {
        "plotlyServerURL": "https://plot.ly"
       },
       "data": [
        {
         "domain": {
          "x": [
           0,
           1
          ],
          "y": [
           0,
           1
          ]
         },
         "hovertemplate": "%{label}: %{value}<extra></extra>",
         "labels": [
          "May",
          "June",
          "July",
          "August",
          "April",
          "March",
          "September",
          "October",
          "January",
          "December",
          "February",
          "November"
         ],
         "legendgroup": "",
         "name": "",
         "showlegend": true,
         "textposition": "inside",
         "type": "pie",
         "values": [
          408,
          315,
          244,
          243,
          238,
          193,
          104,
          104,
          85,
          78,
          58,
          51
         ]
        }
       ],
       "layout": {
        "height": 500,
        "legend": {
         "tracegroupgap": 0
        },
        "margin": {
         "b": 100,
         "l": 75,
         "r": 255,
         "t": 100
        },
        "piecolorway": [
         "rgb(8,48,107)",
         "rgb(8,81,156)",
         "rgb(33,113,181)",
         "rgb(66,146,198)",
         "rgb(107,174,214)",
         "rgb(158,202,225)",
         "rgb(198,219,239)",
         "rgb(222,235,247)",
         "rgb(247,251,255)"
        ],
        "template": {
         "data": {
          "bar": [
           {
            "error_x": {
             "color": "#2a3f5f"
            },
            "error_y": {
             "color": "#2a3f5f"
            },
            "marker": {
             "line": {
              "color": "#E5ECF6",
              "width": 0.5
             },
             "pattern": {
              "fillmode": "overlay",
              "size": 10,
              "solidity": 0.2
             }
            },
            "type": "bar"
           }
          ],
          "barpolar": [
           {
            "marker": {
             "line": {
              "color": "#E5ECF6",
              "width": 0.5
             },
             "pattern": {
              "fillmode": "overlay",
              "size": 10,
              "solidity": 0.2
             }
            },
            "type": "barpolar"
           }
          ],
          "carpet": [
           {
            "aaxis": {
             "endlinecolor": "#2a3f5f",
             "gridcolor": "white",
             "linecolor": "white",
             "minorgridcolor": "white",
             "startlinecolor": "#2a3f5f"
            },
            "baxis": {
             "endlinecolor": "#2a3f5f",
             "gridcolor": "white",
             "linecolor": "white",
             "minorgridcolor": "white",
             "startlinecolor": "#2a3f5f"
            },
            "type": "carpet"
           }
          ],
          "choropleth": [
           {
            "colorbar": {
             "outlinewidth": 0,
             "ticks": ""
            },
            "type": "choropleth"
           }
          ],
          "contour": [
           {
            "colorbar": {
             "outlinewidth": 0,
             "ticks": ""
            },
            "colorscale": [
             [
              0,
              "#0d0887"
             ],
             [
              0.1111111111111111,
              "#46039f"
             ],
             [
              0.2222222222222222,
              "#7201a8"
             ],
             [
              0.3333333333333333,
              "#9c179e"
             ],
             [
              0.4444444444444444,
              "#bd3786"
             ],
             [
              0.5555555555555556,
              "#d8576b"
             ],
             [
              0.6666666666666666,
              "#ed7953"
             ],
             [
              0.7777777777777778,
              "#fb9f3a"
             ],
             [
              0.8888888888888888,
              "#fdca26"
             ],
             [
              1,
              "#f0f921"
             ]
            ],
            "type": "contour"
           }
          ],
          "contourcarpet": [
           {
            "colorbar": {
             "outlinewidth": 0,
             "ticks": ""
            },
            "type": "contourcarpet"
           }
          ],
          "heatmap": [
           {
            "colorbar": {
             "outlinewidth": 0,
             "ticks": ""
            },
            "colorscale": [
             [
              0,
              "#0d0887"
             ],
             [
              0.1111111111111111,
              "#46039f"
             ],
             [
              0.2222222222222222,
              "#7201a8"
             ],
             [
              0.3333333333333333,
              "#9c179e"
             ],
             [
              0.4444444444444444,
              "#bd3786"
             ],
             [
              0.5555555555555556,
              "#d8576b"
             ],
             [
              0.6666666666666666,
              "#ed7953"
             ],
             [
              0.7777777777777778,
              "#fb9f3a"
             ],
             [
              0.8888888888888888,
              "#fdca26"
             ],
             [
              1,
              "#f0f921"
             ]
            ],
            "type": "heatmap"
           }
          ],
          "heatmapgl": [
           {
            "colorbar": {
             "outlinewidth": 0,
             "ticks": ""
            },
            "colorscale": [
             [
              0,
              "#0d0887"
             ],
             [
              0.1111111111111111,
              "#46039f"
             ],
             [
              0.2222222222222222,
              "#7201a8"
             ],
             [
              0.3333333333333333,
              "#9c179e"
             ],
             [
              0.4444444444444444,
              "#bd3786"
             ],
             [
              0.5555555555555556,
              "#d8576b"
             ],
             [
              0.6666666666666666,
              "#ed7953"
             ],
             [
              0.7777777777777778,
              "#fb9f3a"
             ],
             [
              0.8888888888888888,
              "#fdca26"
             ],
             [
              1,
              "#f0f921"
             ]
            ],
            "type": "heatmapgl"
           }
          ],
          "histogram": [
           {
            "marker": {
             "pattern": {
              "fillmode": "overlay",
              "size": 10,
              "solidity": 0.2
             }
            },
            "type": "histogram"
           }
          ],
          "histogram2d": [
           {
            "colorbar": {
             "outlinewidth": 0,
             "ticks": ""
            },
            "colorscale": [
             [
              0,
              "#0d0887"
             ],
             [
              0.1111111111111111,
              "#46039f"
             ],
             [
              0.2222222222222222,
              "#7201a8"
             ],
             [
              0.3333333333333333,
              "#9c179e"
             ],
             [
              0.4444444444444444,
              "#bd3786"
             ],
             [
              0.5555555555555556,
              "#d8576b"
             ],
             [
              0.6666666666666666,
              "#ed7953"
             ],
             [
              0.7777777777777778,
              "#fb9f3a"
             ],
             [
              0.8888888888888888,
              "#fdca26"
             ],
             [
              1,
              "#f0f921"
             ]
            ],
            "type": "histogram2d"
           }
          ],
          "histogram2dcontour": [
           {
            "colorbar": {
             "outlinewidth": 0,
             "ticks": ""
            },
            "colorscale": [
             [
              0,
              "#0d0887"
             ],
             [
              0.1111111111111111,
              "#46039f"
             ],
             [
              0.2222222222222222,
              "#7201a8"
             ],
             [
              0.3333333333333333,
              "#9c179e"
             ],
             [
              0.4444444444444444,
              "#bd3786"
             ],
             [
              0.5555555555555556,
              "#d8576b"
             ],
             [
              0.6666666666666666,
              "#ed7953"
             ],
             [
              0.7777777777777778,
              "#fb9f3a"
             ],
             [
              0.8888888888888888,
              "#fdca26"
             ],
             [
              1,
              "#f0f921"
             ]
            ],
            "type": "histogram2dcontour"
           }
          ],
          "mesh3d": [
           {
            "colorbar": {
             "outlinewidth": 0,
             "ticks": ""
            },
            "type": "mesh3d"
           }
          ],
          "parcoords": [
           {
            "line": {
             "colorbar": {
              "outlinewidth": 0,
              "ticks": ""
             }
            },
            "type": "parcoords"
           }
          ],
          "pie": [
           {
            "automargin": true,
            "type": "pie"
           }
          ],
          "scatter": [
           {
            "fillpattern": {
             "fillmode": "overlay",
             "size": 10,
             "solidity": 0.2
            },
            "type": "scatter"
           }
          ],
          "scatter3d": [
           {
            "line": {
             "colorbar": {
              "outlinewidth": 0,
              "ticks": ""
             }
            },
            "marker": {
             "colorbar": {
              "outlinewidth": 0,
              "ticks": ""
             }
            },
            "type": "scatter3d"
           }
          ],
          "scattercarpet": [
           {
            "marker": {
             "colorbar": {
              "outlinewidth": 0,
              "ticks": ""
             }
            },
            "type": "scattercarpet"
           }
          ],
          "scattergeo": [
           {
            "marker": {
             "colorbar": {
              "outlinewidth": 0,
              "ticks": ""
             }
            },
            "type": "scattergeo"
           }
          ],
          "scattergl": [
           {
            "marker": {
             "colorbar": {
              "outlinewidth": 0,
              "ticks": ""
             }
            },
            "type": "scattergl"
           }
          ],
          "scattermapbox": [
           {
            "marker": {
             "colorbar": {
              "outlinewidth": 0,
              "ticks": ""
             }
            },
            "type": "scattermapbox"
           }
          ],
          "scatterpolar": [
           {
            "marker": {
             "colorbar": {
              "outlinewidth": 0,
              "ticks": ""
             }
            },
            "type": "scatterpolar"
           }
          ],
          "scatterpolargl": [
           {
            "marker": {
             "colorbar": {
              "outlinewidth": 0,
              "ticks": ""
             }
            },
            "type": "scatterpolargl"
           }
          ],
          "scatterternary": [
           {
            "marker": {
             "colorbar": {
              "outlinewidth": 0,
              "ticks": ""
             }
            },
            "type": "scatterternary"
           }
          ],
          "surface": [
           {
            "colorbar": {
             "outlinewidth": 0,
             "ticks": ""
            },
            "colorscale": [
             [
              0,
              "#0d0887"
             ],
             [
              0.1111111111111111,
              "#46039f"
             ],
             [
              0.2222222222222222,
              "#7201a8"
             ],
             [
              0.3333333333333333,
              "#9c179e"
             ],
             [
              0.4444444444444444,
              "#bd3786"
             ],
             [
              0.5555555555555556,
              "#d8576b"
             ],
             [
              0.6666666666666666,
              "#ed7953"
             ],
             [
              0.7777777777777778,
              "#fb9f3a"
             ],
             [
              0.8888888888888888,
              "#fdca26"
             ],
             [
              1,
              "#f0f921"
             ]
            ],
            "type": "surface"
           }
          ],
          "table": [
           {
            "cells": {
             "fill": {
              "color": "#EBF0F8"
             },
             "line": {
              "color": "white"
             }
            },
            "header": {
             "fill": {
              "color": "#C8D4E3"
             },
             "line": {
              "color": "white"
             }
            },
            "type": "table"
           }
          ]
         },
         "layout": {
          "annotationdefaults": {
           "arrowcolor": "#2a3f5f",
           "arrowhead": 0,
           "arrowwidth": 1
          },
          "autotypenumbers": "strict",
          "coloraxis": {
           "colorbar": {
            "outlinewidth": 0,
            "ticks": ""
           }
          },
          "colorscale": {
           "diverging": [
            [
             0,
             "#8e0152"
            ],
            [
             0.1,
             "#c51b7d"
            ],
            [
             0.2,
             "#de77ae"
            ],
            [
             0.3,
             "#f1b6da"
            ],
            [
             0.4,
             "#fde0ef"
            ],
            [
             0.5,
             "#f7f7f7"
            ],
            [
             0.6,
             "#e6f5d0"
            ],
            [
             0.7,
             "#b8e186"
            ],
            [
             0.8,
             "#7fbc41"
            ],
            [
             0.9,
             "#4d9221"
            ],
            [
             1,
             "#276419"
            ]
           ],
           "sequential": [
            [
             0,
             "#0d0887"
            ],
            [
             0.1111111111111111,
             "#46039f"
            ],
            [
             0.2222222222222222,
             "#7201a8"
            ],
            [
             0.3333333333333333,
             "#9c179e"
            ],
            [
             0.4444444444444444,
             "#bd3786"
            ],
            [
             0.5555555555555556,
             "#d8576b"
            ],
            [
             0.6666666666666666,
             "#ed7953"
            ],
            [
             0.7777777777777778,
             "#fb9f3a"
            ],
            [
             0.8888888888888888,
             "#fdca26"
            ],
            [
             1,
             "#f0f921"
            ]
           ],
           "sequentialminus": [
            [
             0,
             "#0d0887"
            ],
            [
             0.1111111111111111,
             "#46039f"
            ],
            [
             0.2222222222222222,
             "#7201a8"
            ],
            [
             0.3333333333333333,
             "#9c179e"
            ],
            [
             0.4444444444444444,
             "#bd3786"
            ],
            [
             0.5555555555555556,
             "#d8576b"
            ],
            [
             0.6666666666666666,
             "#ed7953"
            ],
            [
             0.7777777777777778,
             "#fb9f3a"
            ],
            [
             0.8888888888888888,
             "#fdca26"
            ],
            [
             1,
             "#f0f921"
            ]
           ]
          },
          "colorway": [
           "#636efa",
           "#EF553B",
           "#00cc96",
           "#ab63fa",
           "#FFA15A",
           "#19d3f3",
           "#FF6692",
           "#B6E880",
           "#FF97FF",
           "#FECB52"
          ],
          "font": {
           "color": "#2a3f5f"
          },
          "geo": {
           "bgcolor": "white",
           "lakecolor": "white",
           "landcolor": "#E5ECF6",
           "showlakes": true,
           "showland": true,
           "subunitcolor": "white"
          },
          "hoverlabel": {
           "align": "left"
          },
          "hovermode": "closest",
          "mapbox": {
           "style": "light"
          },
          "paper_bgcolor": "white",
          "plot_bgcolor": "#E5ECF6",
          "polar": {
           "angularaxis": {
            "gridcolor": "white",
            "linecolor": "white",
            "ticks": ""
           },
           "bgcolor": "#E5ECF6",
           "radialaxis": {
            "gridcolor": "white",
            "linecolor": "white",
            "ticks": ""
           }
          },
          "scene": {
           "xaxis": {
            "backgroundcolor": "#E5ECF6",
            "gridcolor": "white",
            "gridwidth": 2,
            "linecolor": "white",
            "showbackground": true,
            "ticks": "",
            "zerolinecolor": "white"
           },
           "yaxis": {
            "backgroundcolor": "#E5ECF6",
            "gridcolor": "white",
            "gridwidth": 2,
            "linecolor": "white",
            "showbackground": true,
            "ticks": "",
            "zerolinecolor": "white"
           },
           "zaxis": {
            "backgroundcolor": "#E5ECF6",
            "gridcolor": "white",
            "gridwidth": 2,
            "linecolor": "white",
            "showbackground": true,
            "ticks": "",
            "zerolinecolor": "white"
           }
          },
          "shapedefaults": {
           "line": {
            "color": "#2a3f5f"
           }
          },
          "ternary": {
           "aaxis": {
            "gridcolor": "white",
            "linecolor": "white",
            "ticks": ""
           },
           "baxis": {
            "gridcolor": "white",
            "linecolor": "white",
            "ticks": ""
           },
           "bgcolor": "#E5ECF6",
           "caxis": {
            "gridcolor": "white",
            "linecolor": "white",
            "ticks": ""
           }
          },
          "title": {
           "x": 0.05
          },
          "xaxis": {
           "automargin": true,
           "gridcolor": "white",
           "linecolor": "white",
           "ticks": "",
           "title": {
            "standoff": 15
           },
           "zerolinecolor": "white",
           "zerolinewidth": 2
          },
          "yaxis": {
           "automargin": true,
           "gridcolor": "white",
           "linecolor": "white",
           "ticks": "",
           "title": {
            "standoff": 15
           },
           "zerolinecolor": "white",
           "zerolinewidth": 2
          }
         }
        },
        "title": {
         "text": "Events Per Month",
         "x": 0.5,
         "xanchor": "center"
        },
        "uniformtext": {
         "minsize": 12,
         "mode": "hide"
        },
        "width": 750
       }
      }
     },
     "metadata": {},
     "output_type": "display_data"
    }
   ],
   "source": [
    "import plotly.express as px\n",
    "\n",
    "region_counts = tornado_df['Region'].value_counts()\n",
    "regional_pie = px.pie(\n",
    "    region_counts,\n",
    "    values = region_counts.values,\n",
    "    names = region_counts.index,\n",
    "    color_discrete_sequence=px.colors.sequential.Greens[::-1]\n",
    ")\n",
    "\n",
    "regional_pie.update_traces(\n",
    "    hovertemplate='%{label}: %{value}<extra></extra>',\n",
    "    textposition = 'inside'\n",
    ")\n",
    "\n",
    "regional_pie.update_layout(\n",
    "    uniformtext_minsize=12,\n",
    "    uniformtext_mode='hide',\n",
    "    width=750, \n",
    "    height=500, \n",
    "    margin=dict(\n",
    "        l=75,  \n",
    "        r=100,  \n",
    "        t=100,  \n",
    "        b=100    \n",
    "    ),\n",
    "    title={\n",
    "        'text': \"Events Per Region\",\n",
    "        'x': 0.5,           \n",
    "        'xanchor': 'center'\n",
    "        }\n",
    ")\n",
    "\n",
    "regional_pie.show()\n",
    "\n",
    "monthly_pie = px.pie(\n",
    "    monthly_occurrences,\n",
    "    values = monthly_occurrences.values,\n",
    "    names = monthly_occurrences.index,\n",
    "    color_discrete_sequence=px.colors.sequential.Blues[::-1]\n",
    ")\n",
    "\n",
    "monthly_pie.update_traces(\n",
    "    hovertemplate='%{label}: %{value}<extra></extra>',\n",
    "    textposition= 'inside'\n",
    ")\n",
    "\n",
    "\n",
    "monthly_pie.update_layout(\n",
    "    uniformtext_minsize=12,\n",
    "    uniformtext_mode='hide',\n",
    "    width=750, \n",
    "    height=500, \n",
    "    margin=dict(\n",
    "        l=75,  \n",
    "        r=255,  \n",
    "        t=100,  \n",
    "        b=100    \n",
    "    ),\n",
    "    title={\n",
    "        'text': \"Events Per Month\",\n",
    "        'x': 0.5,           \n",
    "        'xanchor': 'center'\n",
    "        }\n",
    ")\n",
    "\n",
    "monthly_pie.show()\n"
   ]
  },
  {
   "cell_type": "code",
   "execution_count": 18,
   "metadata": {},
   "outputs": [],
   "source": [
    "### Create region-month probability matrix to get my sample days to extract weather data for 'tornado days' ###\n",
    "\n",
    "def create_matrix(df):\n",
    "    matrix = pd.pivot_table(\n",
    "        df,\n",
    "        index='Region',        # Rows of the matrix (months)\n",
    "        columns='MONTH_NAME',      # Columns of the matrix (states)\n",
    "        aggfunc='size',       # Count entries\n",
    "        fill_value=0          # Fill missing values with 0\n",
    "    )\n",
    "\n",
    "    return matrix\n",
    "\n",
    "region_matrix = create_matrix(tornado_df)\n"
   ]
  },
  {
   "cell_type": "code",
   "execution_count": 19,
   "metadata": {},
   "outputs": [
    {
     "data": {
      "application/vnd.plotly.v1+json": {
       "config": {
        "plotlyServerURL": "https://plot.ly"
       },
       "data": [
        {
         "coloraxis": "coloraxis",
         "hovertemplate": "State: %{x}<br>Month: %{y}<br>Number of Entries: %{z}<extra></extra>",
         "name": "0",
         "type": "heatmap",
         "x": [
          "January",
          "February",
          "March",
          "April",
          "May",
          "June",
          "July",
          "August",
          "September",
          "October",
          "November",
          "December"
         ],
         "xaxis": "x",
         "y": [
          "NORTHEAST",
          "NORTHERN ROCKIES AND PLAINS",
          "NORTHWEST",
          "OHIO VALLEY",
          "SOUTH",
          "SOUTHEAST",
          "SOUTHWEST",
          "UPPER MIDWEST",
          "WEST"
         ],
         "yaxis": "y",
         "z": [
          [
           1,
           2,
           2,
           21,
           17,
           15,
           27,
           37,
           17,
           7,
           6,
           0
          ],
          [
           0,
           0,
           1,
           7,
           38,
           54,
           44,
           32,
           6,
           6,
           0,
           1
          ],
          [
           0,
           0,
           2,
           0,
           10,
           7,
           2,
           1,
           2,
           6,
           2,
           0
          ],
          [
           17,
           13,
           48,
           41,
           73,
           60,
           34,
           39,
           11,
           19,
           2,
           17
          ],
          [
           24,
           14,
           67,
           85,
           150,
           73,
           30,
           33,
           13,
           31,
           22,
           25
          ],
          [
           37,
           24,
           54,
           68,
           49,
           36,
           22,
           38,
           19,
           21,
           14,
           29
          ],
          [
           0,
           1,
           6,
           2,
           34,
           36,
           34,
           18,
           10,
           4,
           2,
           1
          ],
          [
           1,
           0,
           8,
           10,
           31,
           32,
           47,
           41,
           22,
           9,
           1,
           3
          ],
          [
           5,
           4,
           4,
           4,
           5,
           2,
           0,
           3,
           3,
           1,
           2,
           2
          ]
         ]
        }
       ],
       "layout": {
        "coloraxis": {
         "colorbar": {
          "title": {
           "text": "Number of Entries"
          }
         },
         "colorscale": [
          [
           0,
           "#0d0887"
          ],
          [
           0.1111111111111111,
           "#46039f"
          ],
          [
           0.2222222222222222,
           "#7201a8"
          ],
          [
           0.3333333333333333,
           "#9c179e"
          ],
          [
           0.4444444444444444,
           "#bd3786"
          ],
          [
           0.5555555555555556,
           "#d8576b"
          ],
          [
           0.6666666666666666,
           "#ed7953"
          ],
          [
           0.7777777777777778,
           "#fb9f3a"
          ],
          [
           0.8888888888888888,
           "#fdca26"
          ],
          [
           1,
           "#f0f921"
          ]
         ]
        },
        "template": {
         "data": {
          "bar": [
           {
            "error_x": {
             "color": "#2a3f5f"
            },
            "error_y": {
             "color": "#2a3f5f"
            },
            "marker": {
             "line": {
              "color": "#E5ECF6",
              "width": 0.5
             },
             "pattern": {
              "fillmode": "overlay",
              "size": 10,
              "solidity": 0.2
             }
            },
            "type": "bar"
           }
          ],
          "barpolar": [
           {
            "marker": {
             "line": {
              "color": "#E5ECF6",
              "width": 0.5
             },
             "pattern": {
              "fillmode": "overlay",
              "size": 10,
              "solidity": 0.2
             }
            },
            "type": "barpolar"
           }
          ],
          "carpet": [
           {
            "aaxis": {
             "endlinecolor": "#2a3f5f",
             "gridcolor": "white",
             "linecolor": "white",
             "minorgridcolor": "white",
             "startlinecolor": "#2a3f5f"
            },
            "baxis": {
             "endlinecolor": "#2a3f5f",
             "gridcolor": "white",
             "linecolor": "white",
             "minorgridcolor": "white",
             "startlinecolor": "#2a3f5f"
            },
            "type": "carpet"
           }
          ],
          "choropleth": [
           {
            "colorbar": {
             "outlinewidth": 0,
             "ticks": ""
            },
            "type": "choropleth"
           }
          ],
          "contour": [
           {
            "colorbar": {
             "outlinewidth": 0,
             "ticks": ""
            },
            "colorscale": [
             [
              0,
              "#0d0887"
             ],
             [
              0.1111111111111111,
              "#46039f"
             ],
             [
              0.2222222222222222,
              "#7201a8"
             ],
             [
              0.3333333333333333,
              "#9c179e"
             ],
             [
              0.4444444444444444,
              "#bd3786"
             ],
             [
              0.5555555555555556,
              "#d8576b"
             ],
             [
              0.6666666666666666,
              "#ed7953"
             ],
             [
              0.7777777777777778,
              "#fb9f3a"
             ],
             [
              0.8888888888888888,
              "#fdca26"
             ],
             [
              1,
              "#f0f921"
             ]
            ],
            "type": "contour"
           }
          ],
          "contourcarpet": [
           {
            "colorbar": {
             "outlinewidth": 0,
             "ticks": ""
            },
            "type": "contourcarpet"
           }
          ],
          "heatmap": [
           {
            "colorbar": {
             "outlinewidth": 0,
             "ticks": ""
            },
            "colorscale": [
             [
              0,
              "#0d0887"
             ],
             [
              0.1111111111111111,
              "#46039f"
             ],
             [
              0.2222222222222222,
              "#7201a8"
             ],
             [
              0.3333333333333333,
              "#9c179e"
             ],
             [
              0.4444444444444444,
              "#bd3786"
             ],
             [
              0.5555555555555556,
              "#d8576b"
             ],
             [
              0.6666666666666666,
              "#ed7953"
             ],
             [
              0.7777777777777778,
              "#fb9f3a"
             ],
             [
              0.8888888888888888,
              "#fdca26"
             ],
             [
              1,
              "#f0f921"
             ]
            ],
            "type": "heatmap"
           }
          ],
          "heatmapgl": [
           {
            "colorbar": {
             "outlinewidth": 0,
             "ticks": ""
            },
            "colorscale": [
             [
              0,
              "#0d0887"
             ],
             [
              0.1111111111111111,
              "#46039f"
             ],
             [
              0.2222222222222222,
              "#7201a8"
             ],
             [
              0.3333333333333333,
              "#9c179e"
             ],
             [
              0.4444444444444444,
              "#bd3786"
             ],
             [
              0.5555555555555556,
              "#d8576b"
             ],
             [
              0.6666666666666666,
              "#ed7953"
             ],
             [
              0.7777777777777778,
              "#fb9f3a"
             ],
             [
              0.8888888888888888,
              "#fdca26"
             ],
             [
              1,
              "#f0f921"
             ]
            ],
            "type": "heatmapgl"
           }
          ],
          "histogram": [
           {
            "marker": {
             "pattern": {
              "fillmode": "overlay",
              "size": 10,
              "solidity": 0.2
             }
            },
            "type": "histogram"
           }
          ],
          "histogram2d": [
           {
            "colorbar": {
             "outlinewidth": 0,
             "ticks": ""
            },
            "colorscale": [
             [
              0,
              "#0d0887"
             ],
             [
              0.1111111111111111,
              "#46039f"
             ],
             [
              0.2222222222222222,
              "#7201a8"
             ],
             [
              0.3333333333333333,
              "#9c179e"
             ],
             [
              0.4444444444444444,
              "#bd3786"
             ],
             [
              0.5555555555555556,
              "#d8576b"
             ],
             [
              0.6666666666666666,
              "#ed7953"
             ],
             [
              0.7777777777777778,
              "#fb9f3a"
             ],
             [
              0.8888888888888888,
              "#fdca26"
             ],
             [
              1,
              "#f0f921"
             ]
            ],
            "type": "histogram2d"
           }
          ],
          "histogram2dcontour": [
           {
            "colorbar": {
             "outlinewidth": 0,
             "ticks": ""
            },
            "colorscale": [
             [
              0,
              "#0d0887"
             ],
             [
              0.1111111111111111,
              "#46039f"
             ],
             [
              0.2222222222222222,
              "#7201a8"
             ],
             [
              0.3333333333333333,
              "#9c179e"
             ],
             [
              0.4444444444444444,
              "#bd3786"
             ],
             [
              0.5555555555555556,
              "#d8576b"
             ],
             [
              0.6666666666666666,
              "#ed7953"
             ],
             [
              0.7777777777777778,
              "#fb9f3a"
             ],
             [
              0.8888888888888888,
              "#fdca26"
             ],
             [
              1,
              "#f0f921"
             ]
            ],
            "type": "histogram2dcontour"
           }
          ],
          "mesh3d": [
           {
            "colorbar": {
             "outlinewidth": 0,
             "ticks": ""
            },
            "type": "mesh3d"
           }
          ],
          "parcoords": [
           {
            "line": {
             "colorbar": {
              "outlinewidth": 0,
              "ticks": ""
             }
            },
            "type": "parcoords"
           }
          ],
          "pie": [
           {
            "automargin": true,
            "type": "pie"
           }
          ],
          "scatter": [
           {
            "fillpattern": {
             "fillmode": "overlay",
             "size": 10,
             "solidity": 0.2
            },
            "type": "scatter"
           }
          ],
          "scatter3d": [
           {
            "line": {
             "colorbar": {
              "outlinewidth": 0,
              "ticks": ""
             }
            },
            "marker": {
             "colorbar": {
              "outlinewidth": 0,
              "ticks": ""
             }
            },
            "type": "scatter3d"
           }
          ],
          "scattercarpet": [
           {
            "marker": {
             "colorbar": {
              "outlinewidth": 0,
              "ticks": ""
             }
            },
            "type": "scattercarpet"
           }
          ],
          "scattergeo": [
           {
            "marker": {
             "colorbar": {
              "outlinewidth": 0,
              "ticks": ""
             }
            },
            "type": "scattergeo"
           }
          ],
          "scattergl": [
           {
            "marker": {
             "colorbar": {
              "outlinewidth": 0,
              "ticks": ""
             }
            },
            "type": "scattergl"
           }
          ],
          "scattermapbox": [
           {
            "marker": {
             "colorbar": {
              "outlinewidth": 0,
              "ticks": ""
             }
            },
            "type": "scattermapbox"
           }
          ],
          "scatterpolar": [
           {
            "marker": {
             "colorbar": {
              "outlinewidth": 0,
              "ticks": ""
             }
            },
            "type": "scatterpolar"
           }
          ],
          "scatterpolargl": [
           {
            "marker": {
             "colorbar": {
              "outlinewidth": 0,
              "ticks": ""
             }
            },
            "type": "scatterpolargl"
           }
          ],
          "scatterternary": [
           {
            "marker": {
             "colorbar": {
              "outlinewidth": 0,
              "ticks": ""
             }
            },
            "type": "scatterternary"
           }
          ],
          "surface": [
           {
            "colorbar": {
             "outlinewidth": 0,
             "ticks": ""
            },
            "colorscale": [
             [
              0,
              "#0d0887"
             ],
             [
              0.1111111111111111,
              "#46039f"
             ],
             [
              0.2222222222222222,
              "#7201a8"
             ],
             [
              0.3333333333333333,
              "#9c179e"
             ],
             [
              0.4444444444444444,
              "#bd3786"
             ],
             [
              0.5555555555555556,
              "#d8576b"
             ],
             [
              0.6666666666666666,
              "#ed7953"
             ],
             [
              0.7777777777777778,
              "#fb9f3a"
             ],
             [
              0.8888888888888888,
              "#fdca26"
             ],
             [
              1,
              "#f0f921"
             ]
            ],
            "type": "surface"
           }
          ],
          "table": [
           {
            "cells": {
             "fill": {
              "color": "#EBF0F8"
             },
             "line": {
              "color": "white"
             }
            },
            "header": {
             "fill": {
              "color": "#C8D4E3"
             },
             "line": {
              "color": "white"
             }
            },
            "type": "table"
           }
          ]
         },
         "layout": {
          "annotationdefaults": {
           "arrowcolor": "#2a3f5f",
           "arrowhead": 0,
           "arrowwidth": 1
          },
          "autotypenumbers": "strict",
          "coloraxis": {
           "colorbar": {
            "outlinewidth": 0,
            "ticks": ""
           }
          },
          "colorscale": {
           "diverging": [
            [
             0,
             "#8e0152"
            ],
            [
             0.1,
             "#c51b7d"
            ],
            [
             0.2,
             "#de77ae"
            ],
            [
             0.3,
             "#f1b6da"
            ],
            [
             0.4,
             "#fde0ef"
            ],
            [
             0.5,
             "#f7f7f7"
            ],
            [
             0.6,
             "#e6f5d0"
            ],
            [
             0.7,
             "#b8e186"
            ],
            [
             0.8,
             "#7fbc41"
            ],
            [
             0.9,
             "#4d9221"
            ],
            [
             1,
             "#276419"
            ]
           ],
           "sequential": [
            [
             0,
             "#0d0887"
            ],
            [
             0.1111111111111111,
             "#46039f"
            ],
            [
             0.2222222222222222,
             "#7201a8"
            ],
            [
             0.3333333333333333,
             "#9c179e"
            ],
            [
             0.4444444444444444,
             "#bd3786"
            ],
            [
             0.5555555555555556,
             "#d8576b"
            ],
            [
             0.6666666666666666,
             "#ed7953"
            ],
            [
             0.7777777777777778,
             "#fb9f3a"
            ],
            [
             0.8888888888888888,
             "#fdca26"
            ],
            [
             1,
             "#f0f921"
            ]
           ],
           "sequentialminus": [
            [
             0,
             "#0d0887"
            ],
            [
             0.1111111111111111,
             "#46039f"
            ],
            [
             0.2222222222222222,
             "#7201a8"
            ],
            [
             0.3333333333333333,
             "#9c179e"
            ],
            [
             0.4444444444444444,
             "#bd3786"
            ],
            [
             0.5555555555555556,
             "#d8576b"
            ],
            [
             0.6666666666666666,
             "#ed7953"
            ],
            [
             0.7777777777777778,
             "#fb9f3a"
            ],
            [
             0.8888888888888888,
             "#fdca26"
            ],
            [
             1,
             "#f0f921"
            ]
           ]
          },
          "colorway": [
           "#636efa",
           "#EF553B",
           "#00cc96",
           "#ab63fa",
           "#FFA15A",
           "#19d3f3",
           "#FF6692",
           "#B6E880",
           "#FF97FF",
           "#FECB52"
          ],
          "font": {
           "color": "#2a3f5f"
          },
          "geo": {
           "bgcolor": "white",
           "lakecolor": "white",
           "landcolor": "#E5ECF6",
           "showlakes": true,
           "showland": true,
           "subunitcolor": "white"
          },
          "hoverlabel": {
           "align": "left"
          },
          "hovermode": "closest",
          "mapbox": {
           "style": "light"
          },
          "paper_bgcolor": "white",
          "plot_bgcolor": "#E5ECF6",
          "polar": {
           "angularaxis": {
            "gridcolor": "white",
            "linecolor": "white",
            "ticks": ""
           },
           "bgcolor": "#E5ECF6",
           "radialaxis": {
            "gridcolor": "white",
            "linecolor": "white",
            "ticks": ""
           }
          },
          "scene": {
           "xaxis": {
            "backgroundcolor": "#E5ECF6",
            "gridcolor": "white",
            "gridwidth": 2,
            "linecolor": "white",
            "showbackground": true,
            "ticks": "",
            "zerolinecolor": "white"
           },
           "yaxis": {
            "backgroundcolor": "#E5ECF6",
            "gridcolor": "white",
            "gridwidth": 2,
            "linecolor": "white",
            "showbackground": true,
            "ticks": "",
            "zerolinecolor": "white"
           },
           "zaxis": {
            "backgroundcolor": "#E5ECF6",
            "gridcolor": "white",
            "gridwidth": 2,
            "linecolor": "white",
            "showbackground": true,
            "ticks": "",
            "zerolinecolor": "white"
           }
          },
          "shapedefaults": {
           "line": {
            "color": "#2a3f5f"
           }
          },
          "ternary": {
           "aaxis": {
            "gridcolor": "white",
            "linecolor": "white",
            "ticks": ""
           },
           "baxis": {
            "gridcolor": "white",
            "linecolor": "white",
            "ticks": ""
           },
           "bgcolor": "#E5ECF6",
           "caxis": {
            "gridcolor": "white",
            "linecolor": "white",
            "ticks": ""
           }
          },
          "title": {
           "x": 0.05
          },
          "xaxis": {
           "automargin": true,
           "gridcolor": "white",
           "linecolor": "white",
           "ticks": "",
           "title": {
            "standoff": 15
           },
           "zerolinecolor": "white",
           "zerolinewidth": 2
          },
          "yaxis": {
           "automargin": true,
           "gridcolor": "white",
           "linecolor": "white",
           "ticks": "",
           "title": {
            "standoff": 15
           },
           "zerolinecolor": "white",
           "zerolinewidth": 2
          }
         }
        },
        "title": {
         "text": "Events Per Month",
         "x": 0.45,
         "xanchor": "center"
        },
        "xaxis": {
         "anchor": "y",
         "constrain": "domain",
         "domain": [
          0,
          1
         ],
         "scaleanchor": "y",
         "title": {
          "text": "State"
         }
        },
        "yaxis": {
         "anchor": "x",
         "autorange": "reversed",
         "constrain": "domain",
         "domain": [
          0,
          1
         ],
         "title": {
          "text": "Month"
         }
        }
       }
      }
     },
     "metadata": {},
     "output_type": "display_data"
    }
   ],
   "source": [
    "fig = px.imshow(\n",
    "    region_matrix,\n",
    "    labels={'x': 'State', 'y': 'Month', 'color': 'Number of Entries'},\n",
    "    title='Tornado Events by Month and State'\n",
    ")\n",
    "\n",
    "fig.update_layout(\n",
    "    title={\n",
    "        'text': \"Events Per Month\",\n",
    "        'x': 0.45,           \n",
    "        'xanchor': 'center'\n",
    "        }\n",
    ")\n",
    "# Show the heatmap\n",
    "fig.show()"
   ]
  },
  {
   "cell_type": "code",
   "execution_count": 87,
   "metadata": {},
   "outputs": [
    {
     "data": {
      "text/plain": [
       "Region     MONTH_NAME\n",
       "NORTHEAST  January       0\n",
       "           February      0\n",
       "           March         0\n",
       "           April         2\n",
       "           May           2\n",
       "                        ..\n",
       "WEST       August        0\n",
       "           September     0\n",
       "           October       0\n",
       "           November      0\n",
       "           December      0\n",
       "Length: 108, dtype: int32"
      ]
     },
     "execution_count": 87,
     "metadata": {},
     "output_type": "execute_result"
    }
   ],
   "source": [
    "# total_tornados = region_matrix.sum().sum()\n",
    "# proportions_matrix = region_matrix/total_tornados\n",
    "\n",
    "# proportion_series = proportions_matrix.stack()\n",
    "# proportion_series.index.names = ['Region', 'MONTH_NAME']\n",
    "\n",
    "# sample_size = 200\n",
    "\n",
    "# samples_for_combinations = (proportion_series *sample_size).round().astype(int)"
   ]
  },
  {
   "cell_type": "code",
   "execution_count": 91,
   "metadata": {},
   "outputs": [
    {
     "data": {
      "text/html": [
       "<div>\n",
       "<style scoped>\n",
       "    .dataframe tbody tr th:only-of-type {\n",
       "        vertical-align: middle;\n",
       "    }\n",
       "\n",
       "    .dataframe tbody tr th {\n",
       "        vertical-align: top;\n",
       "    }\n",
       "\n",
       "    .dataframe thead th {\n",
       "        text-align: right;\n",
       "    }\n",
       "</style>\n",
       "<table border=\"1\" class=\"dataframe\">\n",
       "  <thead>\n",
       "    <tr style=\"text-align: right;\">\n",
       "      <th></th>\n",
       "      <th>YEAR</th>\n",
       "      <th>MONTH_NAME</th>\n",
       "      <th>BEGIN_DAY</th>\n",
       "      <th>STATE</th>\n",
       "      <th>BEGIN_DATE_TIME</th>\n",
       "      <th>END_DATE_TIME</th>\n",
       "      <th>INJURIES_DIRECT</th>\n",
       "      <th>DEATHS_DIRECT</th>\n",
       "      <th>DAMAGE_PROPERTY</th>\n",
       "      <th>DAMAGE_CROPS</th>\n",
       "      <th>TOR_F_SCALE</th>\n",
       "      <th>TOR_LENGTH</th>\n",
       "      <th>TOR_WIDTH</th>\n",
       "      <th>BEGIN_RANGE</th>\n",
       "      <th>BEGIN_LAT</th>\n",
       "      <th>BEGIN_LON</th>\n",
       "      <th>Region</th>\n",
       "      <th>BEGIN_DATE</th>\n",
       "    </tr>\n",
       "  </thead>\n",
       "  <tbody>\n",
       "    <tr>\n",
       "      <th>0</th>\n",
       "      <td>2019</td>\n",
       "      <td>April</td>\n",
       "      <td>15</td>\n",
       "      <td>DELAWARE</td>\n",
       "      <td>2019-04-15 02:38:00</td>\n",
       "      <td>2019-04-15 02:45:00</td>\n",
       "      <td>1</td>\n",
       "      <td>0</td>\n",
       "      <td>0.00K</td>\n",
       "      <td>0.00K</td>\n",
       "      <td>EF2</td>\n",
       "      <td>6.20</td>\n",
       "      <td>400.0</td>\n",
       "      <td>2.0</td>\n",
       "      <td>38.5700</td>\n",
       "      <td>-75.5900</td>\n",
       "      <td>NORTHEAST</td>\n",
       "      <td>2019-04-15</td>\n",
       "    </tr>\n",
       "    <tr>\n",
       "      <th>1</th>\n",
       "      <td>2023</td>\n",
       "      <td>April</td>\n",
       "      <td>22</td>\n",
       "      <td>PENNSYLVANIA</td>\n",
       "      <td>2023-04-22 15:18:00</td>\n",
       "      <td>2023-04-22 15:20:00</td>\n",
       "      <td>0</td>\n",
       "      <td>0</td>\n",
       "      <td>0.00K</td>\n",
       "      <td>0.00K</td>\n",
       "      <td>EF1</td>\n",
       "      <td>1.00</td>\n",
       "      <td>125.0</td>\n",
       "      <td>1.0</td>\n",
       "      <td>40.3554</td>\n",
       "      <td>-76.1971</td>\n",
       "      <td>NORTHEAST</td>\n",
       "      <td>2023-04-22</td>\n",
       "    </tr>\n",
       "    <tr>\n",
       "      <th>2</th>\n",
       "      <td>2019</td>\n",
       "      <td>May</td>\n",
       "      <td>28</td>\n",
       "      <td>PENNSYLVANIA</td>\n",
       "      <td>2019-05-28 16:53:00</td>\n",
       "      <td>2019-05-28 17:00:00</td>\n",
       "      <td>0</td>\n",
       "      <td>0</td>\n",
       "      <td>0.00K</td>\n",
       "      <td>0.00K</td>\n",
       "      <td>EF2</td>\n",
       "      <td>2.80</td>\n",
       "      <td>400.0</td>\n",
       "      <td>1.0</td>\n",
       "      <td>40.1576</td>\n",
       "      <td>-75.9050</td>\n",
       "      <td>NORTHEAST</td>\n",
       "      <td>2019-05-28</td>\n",
       "    </tr>\n",
       "    <tr>\n",
       "      <th>3</th>\n",
       "      <td>2019</td>\n",
       "      <td>May</td>\n",
       "      <td>30</td>\n",
       "      <td>MARYLAND</td>\n",
       "      <td>2019-05-30 13:48:00</td>\n",
       "      <td>2019-05-30 13:59:00</td>\n",
       "      <td>0</td>\n",
       "      <td>0</td>\n",
       "      <td>22.00K</td>\n",
       "      <td>0</td>\n",
       "      <td>EF0</td>\n",
       "      <td>6.50</td>\n",
       "      <td>75.0</td>\n",
       "      <td>1.0</td>\n",
       "      <td>39.3830</td>\n",
       "      <td>-77.3820</td>\n",
       "      <td>NORTHEAST</td>\n",
       "      <td>2019-05-30</td>\n",
       "    </tr>\n",
       "    <tr>\n",
       "      <th>4</th>\n",
       "      <td>2021</td>\n",
       "      <td>June</td>\n",
       "      <td>21</td>\n",
       "      <td>PENNSYLVANIA</td>\n",
       "      <td>2021-06-21 13:53:00</td>\n",
       "      <td>2021-06-21 13:55:00</td>\n",
       "      <td>0</td>\n",
       "      <td>0</td>\n",
       "      <td>0.00K</td>\n",
       "      <td>0.00K</td>\n",
       "      <td>EF0</td>\n",
       "      <td>1.30</td>\n",
       "      <td>50.0</td>\n",
       "      <td>2.0</td>\n",
       "      <td>40.6731</td>\n",
       "      <td>-80.0643</td>\n",
       "      <td>NORTHEAST</td>\n",
       "      <td>2021-06-21</td>\n",
       "    </tr>\n",
       "    <tr>\n",
       "      <th>...</th>\n",
       "      <td>...</td>\n",
       "      <td>...</td>\n",
       "      <td>...</td>\n",
       "      <td>...</td>\n",
       "      <td>...</td>\n",
       "      <td>...</td>\n",
       "      <td>...</td>\n",
       "      <td>...</td>\n",
       "      <td>...</td>\n",
       "      <td>...</td>\n",
       "      <td>...</td>\n",
       "      <td>...</td>\n",
       "      <td>...</td>\n",
       "      <td>...</td>\n",
       "      <td>...</td>\n",
       "      <td>...</td>\n",
       "      <td>...</td>\n",
       "      <td>...</td>\n",
       "    </tr>\n",
       "    <tr>\n",
       "      <th>193</th>\n",
       "      <td>2022</td>\n",
       "      <td>August</td>\n",
       "      <td>1</td>\n",
       "      <td>MICHIGAN</td>\n",
       "      <td>2022-08-01 12:56:00</td>\n",
       "      <td>2022-08-01 13:03:00</td>\n",
       "      <td>0</td>\n",
       "      <td>0</td>\n",
       "      <td>0.00K</td>\n",
       "      <td>0.00K</td>\n",
       "      <td>EF0</td>\n",
       "      <td>2.35</td>\n",
       "      <td>200.0</td>\n",
       "      <td>3.0</td>\n",
       "      <td>43.3930</td>\n",
       "      <td>-83.5260</td>\n",
       "      <td>UPPER MIDWEST</td>\n",
       "      <td>2022-08-01</td>\n",
       "    </tr>\n",
       "    <tr>\n",
       "      <th>194</th>\n",
       "      <td>2021</td>\n",
       "      <td>August</td>\n",
       "      <td>9</td>\n",
       "      <td>MINNESOTA</td>\n",
       "      <td>2021-08-09 21:55:00</td>\n",
       "      <td>2021-08-09 22:01:00</td>\n",
       "      <td>0</td>\n",
       "      <td>0</td>\n",
       "      <td>120.00K</td>\n",
       "      <td>10.00K</td>\n",
       "      <td>EF1</td>\n",
       "      <td>3.65</td>\n",
       "      <td>200.0</td>\n",
       "      <td>2.0</td>\n",
       "      <td>47.8600</td>\n",
       "      <td>-96.8500</td>\n",
       "      <td>UPPER MIDWEST</td>\n",
       "      <td>2021-08-09</td>\n",
       "    </tr>\n",
       "    <tr>\n",
       "      <th>195</th>\n",
       "      <td>2021</td>\n",
       "      <td>September</td>\n",
       "      <td>17</td>\n",
       "      <td>MINNESOTA</td>\n",
       "      <td>2021-09-17 01:34:00</td>\n",
       "      <td>2021-09-17 01:35:00</td>\n",
       "      <td>0</td>\n",
       "      <td>0</td>\n",
       "      <td>2.00K</td>\n",
       "      <td>10.00K</td>\n",
       "      <td>EF0</td>\n",
       "      <td>1.59</td>\n",
       "      <td>50.0</td>\n",
       "      <td>4.0</td>\n",
       "      <td>44.4824</td>\n",
       "      <td>-93.9520</td>\n",
       "      <td>UPPER MIDWEST</td>\n",
       "      <td>2021-09-17</td>\n",
       "    </tr>\n",
       "    <tr>\n",
       "      <th>196</th>\n",
       "      <td>2019</td>\n",
       "      <td>September</td>\n",
       "      <td>10</td>\n",
       "      <td>MICHIGAN</td>\n",
       "      <td>2019-09-10 20:02:00</td>\n",
       "      <td>2019-09-10 20:07:00</td>\n",
       "      <td>0</td>\n",
       "      <td>0</td>\n",
       "      <td>0.00K</td>\n",
       "      <td>0.00K</td>\n",
       "      <td>EF0</td>\n",
       "      <td>3.78</td>\n",
       "      <td>75.0</td>\n",
       "      <td>3.0</td>\n",
       "      <td>43.3776</td>\n",
       "      <td>-83.0064</td>\n",
       "      <td>UPPER MIDWEST</td>\n",
       "      <td>2019-09-10</td>\n",
       "    </tr>\n",
       "    <tr>\n",
       "      <th>197</th>\n",
       "      <td>2023</td>\n",
       "      <td>October</td>\n",
       "      <td>13</td>\n",
       "      <td>IOWA</td>\n",
       "      <td>2023-10-13 15:09:00</td>\n",
       "      <td>2023-10-13 15:12:00</td>\n",
       "      <td>0</td>\n",
       "      <td>0</td>\n",
       "      <td>1.00K</td>\n",
       "      <td>0.00K</td>\n",
       "      <td>EF0</td>\n",
       "      <td>0.64</td>\n",
       "      <td>80.0</td>\n",
       "      <td>0.0</td>\n",
       "      <td>41.6785</td>\n",
       "      <td>-93.0129</td>\n",
       "      <td>UPPER MIDWEST</td>\n",
       "      <td>2023-10-13</td>\n",
       "    </tr>\n",
       "  </tbody>\n",
       "</table>\n",
       "<p>198 rows × 18 columns</p>\n",
       "</div>"
      ],
      "text/plain": [
       "     YEAR MONTH_NAME  BEGIN_DAY         STATE     BEGIN_DATE_TIME  \\\n",
       "0    2019      April         15      DELAWARE 2019-04-15 02:38:00   \n",
       "1    2023      April         22  PENNSYLVANIA 2023-04-22 15:18:00   \n",
       "2    2019        May         28  PENNSYLVANIA 2019-05-28 16:53:00   \n",
       "3    2019        May         30      MARYLAND 2019-05-30 13:48:00   \n",
       "4    2021       June         21  PENNSYLVANIA 2021-06-21 13:53:00   \n",
       "..    ...        ...        ...           ...                 ...   \n",
       "193  2022     August          1      MICHIGAN 2022-08-01 12:56:00   \n",
       "194  2021     August          9     MINNESOTA 2021-08-09 21:55:00   \n",
       "195  2021  September         17     MINNESOTA 2021-09-17 01:34:00   \n",
       "196  2019  September         10      MICHIGAN 2019-09-10 20:02:00   \n",
       "197  2023    October         13          IOWA 2023-10-13 15:09:00   \n",
       "\n",
       "          END_DATE_TIME  INJURIES_DIRECT  DEATHS_DIRECT DAMAGE_PROPERTY  \\\n",
       "0   2019-04-15 02:45:00                1              0           0.00K   \n",
       "1   2023-04-22 15:20:00                0              0           0.00K   \n",
       "2   2019-05-28 17:00:00                0              0           0.00K   \n",
       "3   2019-05-30 13:59:00                0              0          22.00K   \n",
       "4   2021-06-21 13:55:00                0              0           0.00K   \n",
       "..                  ...              ...            ...             ...   \n",
       "193 2022-08-01 13:03:00                0              0           0.00K   \n",
       "194 2021-08-09 22:01:00                0              0         120.00K   \n",
       "195 2021-09-17 01:35:00                0              0           2.00K   \n",
       "196 2019-09-10 20:07:00                0              0           0.00K   \n",
       "197 2023-10-13 15:12:00                0              0           1.00K   \n",
       "\n",
       "    DAMAGE_CROPS TOR_F_SCALE  TOR_LENGTH  TOR_WIDTH  BEGIN_RANGE  BEGIN_LAT  \\\n",
       "0          0.00K         EF2        6.20      400.0          2.0    38.5700   \n",
       "1          0.00K         EF1        1.00      125.0          1.0    40.3554   \n",
       "2          0.00K         EF2        2.80      400.0          1.0    40.1576   \n",
       "3              0         EF0        6.50       75.0          1.0    39.3830   \n",
       "4          0.00K         EF0        1.30       50.0          2.0    40.6731   \n",
       "..           ...         ...         ...        ...          ...        ...   \n",
       "193        0.00K         EF0        2.35      200.0          3.0    43.3930   \n",
       "194       10.00K         EF1        3.65      200.0          2.0    47.8600   \n",
       "195       10.00K         EF0        1.59       50.0          4.0    44.4824   \n",
       "196        0.00K         EF0        3.78       75.0          3.0    43.3776   \n",
       "197        0.00K         EF0        0.64       80.0          0.0    41.6785   \n",
       "\n",
       "     BEGIN_LON         Region  BEGIN_DATE  \n",
       "0     -75.5900      NORTHEAST  2019-04-15  \n",
       "1     -76.1971      NORTHEAST  2023-04-22  \n",
       "2     -75.9050      NORTHEAST  2019-05-28  \n",
       "3     -77.3820      NORTHEAST  2019-05-30  \n",
       "4     -80.0643      NORTHEAST  2021-06-21  \n",
       "..         ...            ...         ...  \n",
       "193   -83.5260  UPPER MIDWEST  2022-08-01  \n",
       "194   -96.8500  UPPER MIDWEST  2021-08-09  \n",
       "195   -93.9520  UPPER MIDWEST  2021-09-17  \n",
       "196   -83.0064  UPPER MIDWEST  2019-09-10  \n",
       "197   -93.0129  UPPER MIDWEST  2023-10-13  \n",
       "\n",
       "[198 rows x 18 columns]"
      ]
     },
     "execution_count": 91,
     "metadata": {},
     "output_type": "execute_result"
    }
   ],
   "source": [
    "\n",
    "# sampled_data = []\n",
    "# for (region, month), num_samples in samples_for_combinations.items():\n",
    "#     if num_samples > 0:\n",
    "#         subset = tornado_df[(tornado_df['Region'] == region) & (tornado_df['MONTH_NAME'] == month)]\n",
    "#         sampled_subset = subset.sample(n = min(num_samples, len(subset)), replace = False)\n",
    "#         sampled_data.append(sampled_subset)\n",
    "#         final_sample = pd.concat(sampled_data, ignore_index = True)\n",
    " \n",
    "# final_sample"
   ]
  },
  {
   "cell_type": "code",
   "execution_count": 144,
   "metadata": {},
   "outputs": [
    {
     "name": "stdout",
     "output_type": "stream",
     "text": [
      "Sampled tornado days: 198\n",
      "Sampled non-tornado days: 750\n"
     ]
    }
   ],
   "source": []
  },
  {
   "cell_type": "code",
   "execution_count": 92,
   "metadata": {},
   "outputs": [
    {
     "data": {
      "text/plain": [
       "YEAR                        int64\n",
       "MONTH_NAME               category\n",
       "BEGIN_DAY                   int64\n",
       "STATE                      object\n",
       "BEGIN_DATE_TIME    datetime64[ns]\n",
       "END_DATE_TIME      datetime64[ns]\n",
       "INJURIES_DIRECT             int64\n",
       "DEATHS_DIRECT               int64\n",
       "DAMAGE_PROPERTY            object\n",
       "DAMAGE_CROPS               object\n",
       "TOR_F_SCALE                object\n",
       "TOR_LENGTH                float64\n",
       "TOR_WIDTH                 float64\n",
       "BEGIN_RANGE               float64\n",
       "BEGIN_LAT                 float64\n",
       "BEGIN_LON                 float64\n",
       "Region                     object\n",
       "BEGIN_DATE                 object\n",
       "dtype: object"
      ]
     },
     "execution_count": 92,
     "metadata": {},
     "output_type": "execute_result"
    }
   ],
   "source": [
    "len(final_sample)\n",
    "final_sample.dtypes"
   ]
  },
  {
   "cell_type": "code",
   "execution_count": 93,
   "metadata": {},
   "outputs": [],
   "source": [
    "final_sample.to_csv('./tornado_sample')"
   ]
  },
  {
   "cell_type": "code",
   "execution_count": 94,
   "metadata": {},
   "outputs": [],
   "source": [
    "final_sample['begin_date'] = final_sample['BEGIN_DATE_TIME'].dt.date.astype('datetime64[ns]')\n",
    "final_sample['end_date'] = final_sample['END_DATE_TIME'].dt.date.astype('datetime64[ns]')"
   ]
  },
  {
   "cell_type": "code",
   "execution_count": 95,
   "metadata": {},
   "outputs": [
    {
     "data": {
      "text/html": [
       "<div>\n",
       "<style scoped>\n",
       "    .dataframe tbody tr th:only-of-type {\n",
       "        vertical-align: middle;\n",
       "    }\n",
       "\n",
       "    .dataframe tbody tr th {\n",
       "        vertical-align: top;\n",
       "    }\n",
       "\n",
       "    .dataframe thead th {\n",
       "        text-align: right;\n",
       "    }\n",
       "</style>\n",
       "<table border=\"1\" class=\"dataframe\">\n",
       "  <thead>\n",
       "    <tr style=\"text-align: right;\">\n",
       "      <th>MONTH_NAME</th>\n",
       "      <th>January</th>\n",
       "      <th>February</th>\n",
       "      <th>March</th>\n",
       "      <th>April</th>\n",
       "      <th>May</th>\n",
       "      <th>June</th>\n",
       "      <th>July</th>\n",
       "      <th>August</th>\n",
       "      <th>September</th>\n",
       "      <th>October</th>\n",
       "      <th>November</th>\n",
       "      <th>December</th>\n",
       "    </tr>\n",
       "    <tr>\n",
       "      <th>Region</th>\n",
       "      <th></th>\n",
       "      <th></th>\n",
       "      <th></th>\n",
       "      <th></th>\n",
       "      <th></th>\n",
       "      <th></th>\n",
       "      <th></th>\n",
       "      <th></th>\n",
       "      <th></th>\n",
       "      <th></th>\n",
       "      <th></th>\n",
       "      <th></th>\n",
       "    </tr>\n",
       "  </thead>\n",
       "  <tbody>\n",
       "    <tr>\n",
       "      <th>NORTHEAST</th>\n",
       "      <td>0</td>\n",
       "      <td>0</td>\n",
       "      <td>0</td>\n",
       "      <td>2</td>\n",
       "      <td>2</td>\n",
       "      <td>1</td>\n",
       "      <td>3</td>\n",
       "      <td>4</td>\n",
       "      <td>2</td>\n",
       "      <td>1</td>\n",
       "      <td>1</td>\n",
       "      <td>0</td>\n",
       "    </tr>\n",
       "    <tr>\n",
       "      <th>NORTHERN ROCKIES AND PLAINS</th>\n",
       "      <td>0</td>\n",
       "      <td>0</td>\n",
       "      <td>0</td>\n",
       "      <td>1</td>\n",
       "      <td>4</td>\n",
       "      <td>5</td>\n",
       "      <td>4</td>\n",
       "      <td>3</td>\n",
       "      <td>1</td>\n",
       "      <td>1</td>\n",
       "      <td>0</td>\n",
       "      <td>0</td>\n",
       "    </tr>\n",
       "    <tr>\n",
       "      <th>NORTHWEST</th>\n",
       "      <td>0</td>\n",
       "      <td>0</td>\n",
       "      <td>0</td>\n",
       "      <td>0</td>\n",
       "      <td>1</td>\n",
       "      <td>1</td>\n",
       "      <td>0</td>\n",
       "      <td>0</td>\n",
       "      <td>0</td>\n",
       "      <td>1</td>\n",
       "      <td>0</td>\n",
       "      <td>0</td>\n",
       "    </tr>\n",
       "    <tr>\n",
       "      <th>OHIO VALLEY</th>\n",
       "      <td>2</td>\n",
       "      <td>1</td>\n",
       "      <td>5</td>\n",
       "      <td>4</td>\n",
       "      <td>7</td>\n",
       "      <td>6</td>\n",
       "      <td>3</td>\n",
       "      <td>4</td>\n",
       "      <td>1</td>\n",
       "      <td>2</td>\n",
       "      <td>0</td>\n",
       "      <td>2</td>\n",
       "    </tr>\n",
       "    <tr>\n",
       "      <th>SOUTH</th>\n",
       "      <td>2</td>\n",
       "      <td>1</td>\n",
       "      <td>6</td>\n",
       "      <td>8</td>\n",
       "      <td>14</td>\n",
       "      <td>7</td>\n",
       "      <td>3</td>\n",
       "      <td>3</td>\n",
       "      <td>1</td>\n",
       "      <td>3</td>\n",
       "      <td>2</td>\n",
       "      <td>2</td>\n",
       "    </tr>\n",
       "    <tr>\n",
       "      <th>SOUTHEAST</th>\n",
       "      <td>4</td>\n",
       "      <td>2</td>\n",
       "      <td>5</td>\n",
       "      <td>6</td>\n",
       "      <td>5</td>\n",
       "      <td>3</td>\n",
       "      <td>2</td>\n",
       "      <td>4</td>\n",
       "      <td>2</td>\n",
       "      <td>2</td>\n",
       "      <td>1</td>\n",
       "      <td>3</td>\n",
       "    </tr>\n",
       "    <tr>\n",
       "      <th>SOUTHWEST</th>\n",
       "      <td>0</td>\n",
       "      <td>0</td>\n",
       "      <td>1</td>\n",
       "      <td>0</td>\n",
       "      <td>3</td>\n",
       "      <td>3</td>\n",
       "      <td>3</td>\n",
       "      <td>2</td>\n",
       "      <td>1</td>\n",
       "      <td>0</td>\n",
       "      <td>0</td>\n",
       "      <td>0</td>\n",
       "    </tr>\n",
       "    <tr>\n",
       "      <th>UPPER MIDWEST</th>\n",
       "      <td>0</td>\n",
       "      <td>0</td>\n",
       "      <td>1</td>\n",
       "      <td>1</td>\n",
       "      <td>3</td>\n",
       "      <td>3</td>\n",
       "      <td>4</td>\n",
       "      <td>4</td>\n",
       "      <td>2</td>\n",
       "      <td>1</td>\n",
       "      <td>0</td>\n",
       "      <td>0</td>\n",
       "    </tr>\n",
       "  </tbody>\n",
       "</table>\n",
       "</div>"
      ],
      "text/plain": [
       "MONTH_NAME                   January  February  March  April  May  June  July  \\\n",
       "Region                                                                          \n",
       "NORTHEAST                          0         0      0      2    2     1     3   \n",
       "NORTHERN ROCKIES AND PLAINS        0         0      0      1    4     5     4   \n",
       "NORTHWEST                          0         0      0      0    1     1     0   \n",
       "OHIO VALLEY                        2         1      5      4    7     6     3   \n",
       "SOUTH                              2         1      6      8   14     7     3   \n",
       "SOUTHEAST                          4         2      5      6    5     3     2   \n",
       "SOUTHWEST                          0         0      1      0    3     3     3   \n",
       "UPPER MIDWEST                      0         0      1      1    3     3     4   \n",
       "\n",
       "MONTH_NAME                   August  September  October  November  December  \n",
       "Region                                                                       \n",
       "NORTHEAST                         4          2        1         1         0  \n",
       "NORTHERN ROCKIES AND PLAINS       3          1        1         0         0  \n",
       "NORTHWEST                         0          0        1         0         0  \n",
       "OHIO VALLEY                       4          1        2         0         2  \n",
       "SOUTH                             3          1        3         2         2  \n",
       "SOUTHEAST                         4          2        2         1         3  \n",
       "SOUTHWEST                         2          1        0         0         0  \n",
       "UPPER MIDWEST                     4          2        1         0         0  "
      ]
     },
     "execution_count": 95,
     "metadata": {},
     "output_type": "execute_result"
    }
   ],
   "source": [
    "sample_matrix = create_matrix(final_sample)\n",
    "sample_matrix"
   ]
  },
  {
   "cell_type": "code",
   "execution_count": 96,
   "metadata": {},
   "outputs": [
    {
     "data": {
      "application/vnd.plotly.v1+json": {
       "config": {
        "plotlyServerURL": "https://plot.ly"
       },
       "data": [
        {
         "coloraxis": "coloraxis",
         "hovertemplate": "State: %{x}<br>Month: %{y}<br>Number of Entries: %{z}<extra></extra>",
         "name": "0",
         "type": "heatmap",
         "x": [
          "January",
          "February",
          "March",
          "April",
          "May",
          "June",
          "July",
          "August",
          "September",
          "October",
          "November",
          "December"
         ],
         "xaxis": "x",
         "y": [
          "NORTHEAST",
          "NORTHERN ROCKIES AND PLAINS",
          "NORTHWEST",
          "OHIO VALLEY",
          "SOUTH",
          "SOUTHEAST",
          "SOUTHWEST",
          "UPPER MIDWEST"
         ],
         "yaxis": "y",
         "z": [
          [
           0,
           0,
           0,
           2,
           2,
           1,
           3,
           4,
           2,
           1,
           1,
           0
          ],
          [
           0,
           0,
           0,
           1,
           4,
           5,
           4,
           3,
           1,
           1,
           0,
           0
          ],
          [
           0,
           0,
           0,
           0,
           1,
           1,
           0,
           0,
           0,
           1,
           0,
           0
          ],
          [
           2,
           1,
           5,
           4,
           7,
           6,
           3,
           4,
           1,
           2,
           0,
           2
          ],
          [
           2,
           1,
           6,
           8,
           14,
           7,
           3,
           3,
           1,
           3,
           2,
           2
          ],
          [
           4,
           2,
           5,
           6,
           5,
           3,
           2,
           4,
           2,
           2,
           1,
           3
          ],
          [
           0,
           0,
           1,
           0,
           3,
           3,
           3,
           2,
           1,
           0,
           0,
           0
          ],
          [
           0,
           0,
           1,
           1,
           3,
           3,
           4,
           4,
           2,
           1,
           0,
           0
          ]
         ]
        }
       ],
       "layout": {
        "coloraxis": {
         "colorbar": {
          "title": {
           "text": "Number of Entries"
          }
         },
         "colorscale": [
          [
           0,
           "#0d0887"
          ],
          [
           0.1111111111111111,
           "#46039f"
          ],
          [
           0.2222222222222222,
           "#7201a8"
          ],
          [
           0.3333333333333333,
           "#9c179e"
          ],
          [
           0.4444444444444444,
           "#bd3786"
          ],
          [
           0.5555555555555556,
           "#d8576b"
          ],
          [
           0.6666666666666666,
           "#ed7953"
          ],
          [
           0.7777777777777778,
           "#fb9f3a"
          ],
          [
           0.8888888888888888,
           "#fdca26"
          ],
          [
           1,
           "#f0f921"
          ]
         ]
        },
        "template": {
         "data": {
          "bar": [
           {
            "error_x": {
             "color": "#2a3f5f"
            },
            "error_y": {
             "color": "#2a3f5f"
            },
            "marker": {
             "line": {
              "color": "#E5ECF6",
              "width": 0.5
             },
             "pattern": {
              "fillmode": "overlay",
              "size": 10,
              "solidity": 0.2
             }
            },
            "type": "bar"
           }
          ],
          "barpolar": [
           {
            "marker": {
             "line": {
              "color": "#E5ECF6",
              "width": 0.5
             },
             "pattern": {
              "fillmode": "overlay",
              "size": 10,
              "solidity": 0.2
             }
            },
            "type": "barpolar"
           }
          ],
          "carpet": [
           {
            "aaxis": {
             "endlinecolor": "#2a3f5f",
             "gridcolor": "white",
             "linecolor": "white",
             "minorgridcolor": "white",
             "startlinecolor": "#2a3f5f"
            },
            "baxis": {
             "endlinecolor": "#2a3f5f",
             "gridcolor": "white",
             "linecolor": "white",
             "minorgridcolor": "white",
             "startlinecolor": "#2a3f5f"
            },
            "type": "carpet"
           }
          ],
          "choropleth": [
           {
            "colorbar": {
             "outlinewidth": 0,
             "ticks": ""
            },
            "type": "choropleth"
           }
          ],
          "contour": [
           {
            "colorbar": {
             "outlinewidth": 0,
             "ticks": ""
            },
            "colorscale": [
             [
              0,
              "#0d0887"
             ],
             [
              0.1111111111111111,
              "#46039f"
             ],
             [
              0.2222222222222222,
              "#7201a8"
             ],
             [
              0.3333333333333333,
              "#9c179e"
             ],
             [
              0.4444444444444444,
              "#bd3786"
             ],
             [
              0.5555555555555556,
              "#d8576b"
             ],
             [
              0.6666666666666666,
              "#ed7953"
             ],
             [
              0.7777777777777778,
              "#fb9f3a"
             ],
             [
              0.8888888888888888,
              "#fdca26"
             ],
             [
              1,
              "#f0f921"
             ]
            ],
            "type": "contour"
           }
          ],
          "contourcarpet": [
           {
            "colorbar": {
             "outlinewidth": 0,
             "ticks": ""
            },
            "type": "contourcarpet"
           }
          ],
          "heatmap": [
           {
            "colorbar": {
             "outlinewidth": 0,
             "ticks": ""
            },
            "colorscale": [
             [
              0,
              "#0d0887"
             ],
             [
              0.1111111111111111,
              "#46039f"
             ],
             [
              0.2222222222222222,
              "#7201a8"
             ],
             [
              0.3333333333333333,
              "#9c179e"
             ],
             [
              0.4444444444444444,
              "#bd3786"
             ],
             [
              0.5555555555555556,
              "#d8576b"
             ],
             [
              0.6666666666666666,
              "#ed7953"
             ],
             [
              0.7777777777777778,
              "#fb9f3a"
             ],
             [
              0.8888888888888888,
              "#fdca26"
             ],
             [
              1,
              "#f0f921"
             ]
            ],
            "type": "heatmap"
           }
          ],
          "heatmapgl": [
           {
            "colorbar": {
             "outlinewidth": 0,
             "ticks": ""
            },
            "colorscale": [
             [
              0,
              "#0d0887"
             ],
             [
              0.1111111111111111,
              "#46039f"
             ],
             [
              0.2222222222222222,
              "#7201a8"
             ],
             [
              0.3333333333333333,
              "#9c179e"
             ],
             [
              0.4444444444444444,
              "#bd3786"
             ],
             [
              0.5555555555555556,
              "#d8576b"
             ],
             [
              0.6666666666666666,
              "#ed7953"
             ],
             [
              0.7777777777777778,
              "#fb9f3a"
             ],
             [
              0.8888888888888888,
              "#fdca26"
             ],
             [
              1,
              "#f0f921"
             ]
            ],
            "type": "heatmapgl"
           }
          ],
          "histogram": [
           {
            "marker": {
             "pattern": {
              "fillmode": "overlay",
              "size": 10,
              "solidity": 0.2
             }
            },
            "type": "histogram"
           }
          ],
          "histogram2d": [
           {
            "colorbar": {
             "outlinewidth": 0,
             "ticks": ""
            },
            "colorscale": [
             [
              0,
              "#0d0887"
             ],
             [
              0.1111111111111111,
              "#46039f"
             ],
             [
              0.2222222222222222,
              "#7201a8"
             ],
             [
              0.3333333333333333,
              "#9c179e"
             ],
             [
              0.4444444444444444,
              "#bd3786"
             ],
             [
              0.5555555555555556,
              "#d8576b"
             ],
             [
              0.6666666666666666,
              "#ed7953"
             ],
             [
              0.7777777777777778,
              "#fb9f3a"
             ],
             [
              0.8888888888888888,
              "#fdca26"
             ],
             [
              1,
              "#f0f921"
             ]
            ],
            "type": "histogram2d"
           }
          ],
          "histogram2dcontour": [
           {
            "colorbar": {
             "outlinewidth": 0,
             "ticks": ""
            },
            "colorscale": [
             [
              0,
              "#0d0887"
             ],
             [
              0.1111111111111111,
              "#46039f"
             ],
             [
              0.2222222222222222,
              "#7201a8"
             ],
             [
              0.3333333333333333,
              "#9c179e"
             ],
             [
              0.4444444444444444,
              "#bd3786"
             ],
             [
              0.5555555555555556,
              "#d8576b"
             ],
             [
              0.6666666666666666,
              "#ed7953"
             ],
             [
              0.7777777777777778,
              "#fb9f3a"
             ],
             [
              0.8888888888888888,
              "#fdca26"
             ],
             [
              1,
              "#f0f921"
             ]
            ],
            "type": "histogram2dcontour"
           }
          ],
          "mesh3d": [
           {
            "colorbar": {
             "outlinewidth": 0,
             "ticks": ""
            },
            "type": "mesh3d"
           }
          ],
          "parcoords": [
           {
            "line": {
             "colorbar": {
              "outlinewidth": 0,
              "ticks": ""
             }
            },
            "type": "parcoords"
           }
          ],
          "pie": [
           {
            "automargin": true,
            "type": "pie"
           }
          ],
          "scatter": [
           {
            "fillpattern": {
             "fillmode": "overlay",
             "size": 10,
             "solidity": 0.2
            },
            "type": "scatter"
           }
          ],
          "scatter3d": [
           {
            "line": {
             "colorbar": {
              "outlinewidth": 0,
              "ticks": ""
             }
            },
            "marker": {
             "colorbar": {
              "outlinewidth": 0,
              "ticks": ""
             }
            },
            "type": "scatter3d"
           }
          ],
          "scattercarpet": [
           {
            "marker": {
             "colorbar": {
              "outlinewidth": 0,
              "ticks": ""
             }
            },
            "type": "scattercarpet"
           }
          ],
          "scattergeo": [
           {
            "marker": {
             "colorbar": {
              "outlinewidth": 0,
              "ticks": ""
             }
            },
            "type": "scattergeo"
           }
          ],
          "scattergl": [
           {
            "marker": {
             "colorbar": {
              "outlinewidth": 0,
              "ticks": ""
             }
            },
            "type": "scattergl"
           }
          ],
          "scattermapbox": [
           {
            "marker": {
             "colorbar": {
              "outlinewidth": 0,
              "ticks": ""
             }
            },
            "type": "scattermapbox"
           }
          ],
          "scatterpolar": [
           {
            "marker": {
             "colorbar": {
              "outlinewidth": 0,
              "ticks": ""
             }
            },
            "type": "scatterpolar"
           }
          ],
          "scatterpolargl": [
           {
            "marker": {
             "colorbar": {
              "outlinewidth": 0,
              "ticks": ""
             }
            },
            "type": "scatterpolargl"
           }
          ],
          "scatterternary": [
           {
            "marker": {
             "colorbar": {
              "outlinewidth": 0,
              "ticks": ""
             }
            },
            "type": "scatterternary"
           }
          ],
          "surface": [
           {
            "colorbar": {
             "outlinewidth": 0,
             "ticks": ""
            },
            "colorscale": [
             [
              0,
              "#0d0887"
             ],
             [
              0.1111111111111111,
              "#46039f"
             ],
             [
              0.2222222222222222,
              "#7201a8"
             ],
             [
              0.3333333333333333,
              "#9c179e"
             ],
             [
              0.4444444444444444,
              "#bd3786"
             ],
             [
              0.5555555555555556,
              "#d8576b"
             ],
             [
              0.6666666666666666,
              "#ed7953"
             ],
             [
              0.7777777777777778,
              "#fb9f3a"
             ],
             [
              0.8888888888888888,
              "#fdca26"
             ],
             [
              1,
              "#f0f921"
             ]
            ],
            "type": "surface"
           }
          ],
          "table": [
           {
            "cells": {
             "fill": {
              "color": "#EBF0F8"
             },
             "line": {
              "color": "white"
             }
            },
            "header": {
             "fill": {
              "color": "#C8D4E3"
             },
             "line": {
              "color": "white"
             }
            },
            "type": "table"
           }
          ]
         },
         "layout": {
          "annotationdefaults": {
           "arrowcolor": "#2a3f5f",
           "arrowhead": 0,
           "arrowwidth": 1
          },
          "autotypenumbers": "strict",
          "coloraxis": {
           "colorbar": {
            "outlinewidth": 0,
            "ticks": ""
           }
          },
          "colorscale": {
           "diverging": [
            [
             0,
             "#8e0152"
            ],
            [
             0.1,
             "#c51b7d"
            ],
            [
             0.2,
             "#de77ae"
            ],
            [
             0.3,
             "#f1b6da"
            ],
            [
             0.4,
             "#fde0ef"
            ],
            [
             0.5,
             "#f7f7f7"
            ],
            [
             0.6,
             "#e6f5d0"
            ],
            [
             0.7,
             "#b8e186"
            ],
            [
             0.8,
             "#7fbc41"
            ],
            [
             0.9,
             "#4d9221"
            ],
            [
             1,
             "#276419"
            ]
           ],
           "sequential": [
            [
             0,
             "#0d0887"
            ],
            [
             0.1111111111111111,
             "#46039f"
            ],
            [
             0.2222222222222222,
             "#7201a8"
            ],
            [
             0.3333333333333333,
             "#9c179e"
            ],
            [
             0.4444444444444444,
             "#bd3786"
            ],
            [
             0.5555555555555556,
             "#d8576b"
            ],
            [
             0.6666666666666666,
             "#ed7953"
            ],
            [
             0.7777777777777778,
             "#fb9f3a"
            ],
            [
             0.8888888888888888,
             "#fdca26"
            ],
            [
             1,
             "#f0f921"
            ]
           ],
           "sequentialminus": [
            [
             0,
             "#0d0887"
            ],
            [
             0.1111111111111111,
             "#46039f"
            ],
            [
             0.2222222222222222,
             "#7201a8"
            ],
            [
             0.3333333333333333,
             "#9c179e"
            ],
            [
             0.4444444444444444,
             "#bd3786"
            ],
            [
             0.5555555555555556,
             "#d8576b"
            ],
            [
             0.6666666666666666,
             "#ed7953"
            ],
            [
             0.7777777777777778,
             "#fb9f3a"
            ],
            [
             0.8888888888888888,
             "#fdca26"
            ],
            [
             1,
             "#f0f921"
            ]
           ]
          },
          "colorway": [
           "#636efa",
           "#EF553B",
           "#00cc96",
           "#ab63fa",
           "#FFA15A",
           "#19d3f3",
           "#FF6692",
           "#B6E880",
           "#FF97FF",
           "#FECB52"
          ],
          "font": {
           "color": "#2a3f5f"
          },
          "geo": {
           "bgcolor": "white",
           "lakecolor": "white",
           "landcolor": "#E5ECF6",
           "showlakes": true,
           "showland": true,
           "subunitcolor": "white"
          },
          "hoverlabel": {
           "align": "left"
          },
          "hovermode": "closest",
          "mapbox": {
           "style": "light"
          },
          "paper_bgcolor": "white",
          "plot_bgcolor": "#E5ECF6",
          "polar": {
           "angularaxis": {
            "gridcolor": "white",
            "linecolor": "white",
            "ticks": ""
           },
           "bgcolor": "#E5ECF6",
           "radialaxis": {
            "gridcolor": "white",
            "linecolor": "white",
            "ticks": ""
           }
          },
          "scene": {
           "xaxis": {
            "backgroundcolor": "#E5ECF6",
            "gridcolor": "white",
            "gridwidth": 2,
            "linecolor": "white",
            "showbackground": true,
            "ticks": "",
            "zerolinecolor": "white"
           },
           "yaxis": {
            "backgroundcolor": "#E5ECF6",
            "gridcolor": "white",
            "gridwidth": 2,
            "linecolor": "white",
            "showbackground": true,
            "ticks": "",
            "zerolinecolor": "white"
           },
           "zaxis": {
            "backgroundcolor": "#E5ECF6",
            "gridcolor": "white",
            "gridwidth": 2,
            "linecolor": "white",
            "showbackground": true,
            "ticks": "",
            "zerolinecolor": "white"
           }
          },
          "shapedefaults": {
           "line": {
            "color": "#2a3f5f"
           }
          },
          "ternary": {
           "aaxis": {
            "gridcolor": "white",
            "linecolor": "white",
            "ticks": ""
           },
           "baxis": {
            "gridcolor": "white",
            "linecolor": "white",
            "ticks": ""
           },
           "bgcolor": "#E5ECF6",
           "caxis": {
            "gridcolor": "white",
            "linecolor": "white",
            "ticks": ""
           }
          },
          "title": {
           "x": 0.05
          },
          "xaxis": {
           "automargin": true,
           "gridcolor": "white",
           "linecolor": "white",
           "ticks": "",
           "title": {
            "standoff": 15
           },
           "zerolinecolor": "white",
           "zerolinewidth": 2
          },
          "yaxis": {
           "automargin": true,
           "gridcolor": "white",
           "linecolor": "white",
           "ticks": "",
           "title": {
            "standoff": 15
           },
           "zerolinecolor": "white",
           "zerolinewidth": 2
          }
         }
        },
        "title": {
         "text": "Events Per Month",
         "x": 0.45,
         "xanchor": "center"
        },
        "xaxis": {
         "anchor": "y",
         "constrain": "domain",
         "domain": [
          0,
          1
         ],
         "scaleanchor": "y",
         "title": {
          "text": "State"
         }
        },
        "yaxis": {
         "anchor": "x",
         "autorange": "reversed",
         "constrain": "domain",
         "domain": [
          0,
          1
         ],
         "title": {
          "text": "Month"
         }
        }
       }
      }
     },
     "metadata": {},
     "output_type": "display_data"
    }
   ],
   "source": [
    "fig = px.imshow(\n",
    "    sample_matrix,\n",
    "    labels={'x': 'State', 'y': 'Month', 'color': 'Number of Entries'},\n",
    "    title='Tornado Events by Month and State'\n",
    ")\n",
    "\n",
    "fig.update_layout(\n",
    "    title={\n",
    "        'text': \"Events Per Month\",\n",
    "        'x': 0.45,\n",
    "        'xanchor': 'center'\n",
    "        }\n",
    ") \n",
    "# Show the heatmap\n",
    "fig.show()"
   ]
  },
  {
   "cell_type": "code",
   "execution_count": 97,
   "metadata": {},
   "outputs": [
    {
     "data": {
      "text/html": [
       "<div>\n",
       "<style scoped>\n",
       "    .dataframe tbody tr th:only-of-type {\n",
       "        vertical-align: middle;\n",
       "    }\n",
       "\n",
       "    .dataframe tbody tr th {\n",
       "        vertical-align: top;\n",
       "    }\n",
       "\n",
       "    .dataframe thead th {\n",
       "        text-align: right;\n",
       "    }\n",
       "</style>\n",
       "<table border=\"1\" class=\"dataframe\">\n",
       "  <thead>\n",
       "    <tr style=\"text-align: right;\">\n",
       "      <th></th>\n",
       "      <th>Unnamed: 0</th>\n",
       "      <th>datetime</th>\n",
       "      <th>datetimeEpoch</th>\n",
       "      <th>tempmax</th>\n",
       "      <th>tempmin</th>\n",
       "      <th>temp</th>\n",
       "      <th>feelslikemax</th>\n",
       "      <th>feelslikemin</th>\n",
       "      <th>feelslike</th>\n",
       "      <th>dew</th>\n",
       "      <th>...</th>\n",
       "      <th>sunriseEpoch</th>\n",
       "      <th>sunset</th>\n",
       "      <th>sunsetEpoch</th>\n",
       "      <th>moonphase</th>\n",
       "      <th>conditions</th>\n",
       "      <th>description</th>\n",
       "      <th>icon</th>\n",
       "      <th>stations</th>\n",
       "      <th>source</th>\n",
       "      <th>severerisk</th>\n",
       "    </tr>\n",
       "  </thead>\n",
       "  <tbody>\n",
       "    <tr>\n",
       "      <th>0</th>\n",
       "      <td>0</td>\n",
       "      <td>2019-04-15</td>\n",
       "      <td>1555300800</td>\n",
       "      <td>72.7</td>\n",
       "      <td>48.5</td>\n",
       "      <td>59.4</td>\n",
       "      <td>72.7</td>\n",
       "      <td>42.7</td>\n",
       "      <td>59.1</td>\n",
       "      <td>47.4</td>\n",
       "      <td>...</td>\n",
       "      <td>1555323936</td>\n",
       "      <td>19:39:22</td>\n",
       "      <td>1555371562</td>\n",
       "      <td>0.37</td>\n",
       "      <td>Rain, Partially cloudy</td>\n",
       "      <td>Partly cloudy throughout the day with rain cle...</td>\n",
       "      <td>rain</td>\n",
       "      <td>['KDOV', '72408813707', '72407513735', 'KWWD',...</td>\n",
       "      <td>obs</td>\n",
       "      <td>NaN</td>\n",
       "    </tr>\n",
       "    <tr>\n",
       "      <th>1</th>\n",
       "      <td>1</td>\n",
       "      <td>2023-04-22</td>\n",
       "      <td>1682136000</td>\n",
       "      <td>75.5</td>\n",
       "      <td>56.0</td>\n",
       "      <td>62.3</td>\n",
       "      <td>75.5</td>\n",
       "      <td>56.0</td>\n",
       "      <td>62.3</td>\n",
       "      <td>53.3</td>\n",
       "      <td>...</td>\n",
       "      <td>1682158764</td>\n",
       "      <td>19:53:28</td>\n",
       "      <td>1682207608</td>\n",
       "      <td>0.08</td>\n",
       "      <td>Rain, Partially cloudy</td>\n",
       "      <td>Partly cloudy throughout the day with rain.</td>\n",
       "      <td>rain</td>\n",
       "      <td>['KMDT', 'KTHV', 'AV047', 'MNGP1', '7251181475...</td>\n",
       "      <td>obs</td>\n",
       "      <td>10.0</td>\n",
       "    </tr>\n",
       "    <tr>\n",
       "      <th>2</th>\n",
       "      <td>2</td>\n",
       "      <td>2019-05-28</td>\n",
       "      <td>1559016000</td>\n",
       "      <td>86.7</td>\n",
       "      <td>62.9</td>\n",
       "      <td>72.8</td>\n",
       "      <td>90.4</td>\n",
       "      <td>62.9</td>\n",
       "      <td>73.5</td>\n",
       "      <td>62.8</td>\n",
       "      <td>...</td>\n",
       "      <td>1559036527</td>\n",
       "      <td>20:27:55</td>\n",
       "      <td>1559089675</td>\n",
       "      <td>0.81</td>\n",
       "      <td>Rain, Partially cloudy</td>\n",
       "      <td>Partly cloudy throughout the day with rain.</td>\n",
       "      <td>rain</td>\n",
       "      <td>['KMDT', 'KTHV', 'KMUI', 'MNGP1', '72511814751...</td>\n",
       "      <td>obs</td>\n",
       "      <td>NaN</td>\n",
       "    </tr>\n",
       "    <tr>\n",
       "      <th>3</th>\n",
       "      <td>3</td>\n",
       "      <td>2019-05-30</td>\n",
       "      <td>1559188800</td>\n",
       "      <td>87.2</td>\n",
       "      <td>74.0</td>\n",
       "      <td>79.0</td>\n",
       "      <td>89.0</td>\n",
       "      <td>74.0</td>\n",
       "      <td>79.7</td>\n",
       "      <td>67.7</td>\n",
       "      <td>...</td>\n",
       "      <td>1559209396</td>\n",
       "      <td>20:24:06</td>\n",
       "      <td>1559262246</td>\n",
       "      <td>0.88</td>\n",
       "      <td>Partially cloudy</td>\n",
       "      <td>Partly cloudy throughout the day.</td>\n",
       "      <td>partly-cloudy-day</td>\n",
       "      <td>['D7859', '99999913752', '72215899999', '72406...</td>\n",
       "      <td>obs</td>\n",
       "      <td>NaN</td>\n",
       "    </tr>\n",
       "    <tr>\n",
       "      <th>4</th>\n",
       "      <td>4</td>\n",
       "      <td>2021-06-21</td>\n",
       "      <td>1624248000</td>\n",
       "      <td>92.9</td>\n",
       "      <td>74.3</td>\n",
       "      <td>81.0</td>\n",
       "      <td>96.3</td>\n",
       "      <td>74.3</td>\n",
       "      <td>82.5</td>\n",
       "      <td>68.3</td>\n",
       "      <td>...</td>\n",
       "      <td>1624268290</td>\n",
       "      <td>20:40:44</td>\n",
       "      <td>1624322444</td>\n",
       "      <td>0.39</td>\n",
       "      <td>Rain, Partially cloudy</td>\n",
       "      <td>Partly cloudy throughout the day with late aft...</td>\n",
       "      <td>rain</td>\n",
       "      <td>['KMDT', 'D5425', 'KTHV', 'KMUI', 'AV047', 'MN...</td>\n",
       "      <td>obs</td>\n",
       "      <td>NaN</td>\n",
       "    </tr>\n",
       "  </tbody>\n",
       "</table>\n",
       "<p>5 rows × 37 columns</p>\n",
       "</div>"
      ],
      "text/plain": [
       "   Unnamed: 0    datetime  datetimeEpoch  tempmax  tempmin  temp  \\\n",
       "0           0  2019-04-15     1555300800     72.7     48.5  59.4   \n",
       "1           1  2023-04-22     1682136000     75.5     56.0  62.3   \n",
       "2           2  2019-05-28     1559016000     86.7     62.9  72.8   \n",
       "3           3  2019-05-30     1559188800     87.2     74.0  79.0   \n",
       "4           4  2021-06-21     1624248000     92.9     74.3  81.0   \n",
       "\n",
       "   feelslikemax  feelslikemin  feelslike   dew  ...  sunriseEpoch    sunset  \\\n",
       "0          72.7          42.7       59.1  47.4  ...    1555323936  19:39:22   \n",
       "1          75.5          56.0       62.3  53.3  ...    1682158764  19:53:28   \n",
       "2          90.4          62.9       73.5  62.8  ...    1559036527  20:27:55   \n",
       "3          89.0          74.0       79.7  67.7  ...    1559209396  20:24:06   \n",
       "4          96.3          74.3       82.5  68.3  ...    1624268290  20:40:44   \n",
       "\n",
       "   sunsetEpoch  moonphase              conditions  \\\n",
       "0   1555371562       0.37  Rain, Partially cloudy   \n",
       "1   1682207608       0.08  Rain, Partially cloudy   \n",
       "2   1559089675       0.81  Rain, Partially cloudy   \n",
       "3   1559262246       0.88        Partially cloudy   \n",
       "4   1624322444       0.39  Rain, Partially cloudy   \n",
       "\n",
       "                                         description               icon  \\\n",
       "0  Partly cloudy throughout the day with rain cle...               rain   \n",
       "1        Partly cloudy throughout the day with rain.               rain   \n",
       "2        Partly cloudy throughout the day with rain.               rain   \n",
       "3                  Partly cloudy throughout the day.  partly-cloudy-day   \n",
       "4  Partly cloudy throughout the day with late aft...               rain   \n",
       "\n",
       "                                            stations  source  severerisk  \n",
       "0  ['KDOV', '72408813707', '72407513735', 'KWWD',...     obs         NaN  \n",
       "1  ['KMDT', 'KTHV', 'AV047', 'MNGP1', '7251181475...     obs        10.0  \n",
       "2  ['KMDT', 'KTHV', 'KMUI', 'MNGP1', '72511814751...     obs         NaN  \n",
       "3  ['D7859', '99999913752', '72215899999', '72406...     obs         NaN  \n",
       "4  ['KMDT', 'D5425', 'KTHV', 'KMUI', 'AV047', 'MN...     obs         NaN  \n",
       "\n",
       "[5 rows x 37 columns]"
      ]
     },
     "execution_count": 97,
     "metadata": {},
     "output_type": "execute_result"
    }
   ],
   "source": [
    "### fetch weather data for those days ###\n",
    "tornado_weather_data = pd.read_csv('tornado_weather_data.csv')\n",
    "\n",
    "tornado_weather_data.head()"
   ]
  },
  {
   "cell_type": "code",
   "execution_count": 98,
   "metadata": {},
   "outputs": [
    {
     "data": {
      "text/plain": [
       "Index(['Unnamed: 0', 'datetime', 'datetimeEpoch', 'tempmax', 'tempmin', 'temp',\n",
       "       'feelslikemax', 'feelslikemin', 'feelslike', 'dew', 'humidity',\n",
       "       'precip', 'precipprob', 'precipcover', 'preciptype', 'snow',\n",
       "       'snowdepth', 'windgust', 'windspeed', 'winddir', 'pressure',\n",
       "       'cloudcover', 'visibility', 'solarradiation', 'solarenergy', 'uvindex',\n",
       "       'sunrise', 'sunriseEpoch', 'sunset', 'sunsetEpoch', 'moonphase',\n",
       "       'conditions', 'description', 'icon', 'stations', 'source',\n",
       "       'severerisk'],\n",
       "      dtype='object')"
      ]
     },
     "execution_count": 98,
     "metadata": {},
     "output_type": "execute_result"
    }
   ],
   "source": [
    "tornado_weather_data.columns"
   ]
  },
  {
   "cell_type": "code",
   "execution_count": 99,
   "metadata": {},
   "outputs": [],
   "source": [
    "columns_to_drop = ['Unnamed: 0', 'datetimeEpoch', 'sunrise', 'sunriseEpoch', 'sunset', 'sunsetEpoch', 'moonphase',\n",
    "                    'description', 'stations', 'source', 'feelslikemin', 'feelslike', 'feelslikemax', 'snow', 'snowdepth', 'temp']\n",
    "\n",
    "tornado_weather_data = tornado_weather_data.drop(columns = columns_to_drop)"
   ]
  },
  {
   "cell_type": "code",
   "execution_count": 100,
   "metadata": {},
   "outputs": [
    {
     "data": {
      "text/html": [
       "<div>\n",
       "<style scoped>\n",
       "    .dataframe tbody tr th:only-of-type {\n",
       "        vertical-align: middle;\n",
       "    }\n",
       "\n",
       "    .dataframe tbody tr th {\n",
       "        vertical-align: top;\n",
       "    }\n",
       "\n",
       "    .dataframe thead th {\n",
       "        text-align: right;\n",
       "    }\n",
       "</style>\n",
       "<table border=\"1\" class=\"dataframe\">\n",
       "  <thead>\n",
       "    <tr style=\"text-align: right;\">\n",
       "      <th></th>\n",
       "      <th>datetime</th>\n",
       "      <th>tempmax</th>\n",
       "      <th>tempmin</th>\n",
       "      <th>dew</th>\n",
       "      <th>humidity</th>\n",
       "      <th>precip</th>\n",
       "      <th>precipprob</th>\n",
       "      <th>precipcover</th>\n",
       "      <th>preciptype</th>\n",
       "      <th>windgust</th>\n",
       "      <th>...</th>\n",
       "      <th>winddir</th>\n",
       "      <th>pressure</th>\n",
       "      <th>cloudcover</th>\n",
       "      <th>visibility</th>\n",
       "      <th>solarradiation</th>\n",
       "      <th>solarenergy</th>\n",
       "      <th>uvindex</th>\n",
       "      <th>conditions</th>\n",
       "      <th>icon</th>\n",
       "      <th>severerisk</th>\n",
       "    </tr>\n",
       "  </thead>\n",
       "  <tbody>\n",
       "    <tr>\n",
       "      <th>0</th>\n",
       "      <td>2019-04-15</td>\n",
       "      <td>72.7</td>\n",
       "      <td>48.5</td>\n",
       "      <td>47.4</td>\n",
       "      <td>67.3</td>\n",
       "      <td>1.090</td>\n",
       "      <td>100.0</td>\n",
       "      <td>25.00</td>\n",
       "      <td>['rain']</td>\n",
       "      <td>45.5</td>\n",
       "      <td>...</td>\n",
       "      <td>259.8</td>\n",
       "      <td>1002.1</td>\n",
       "      <td>53.6</td>\n",
       "      <td>9.2</td>\n",
       "      <td>227.0</td>\n",
       "      <td>19.5</td>\n",
       "      <td>8.0</td>\n",
       "      <td>Rain, Partially cloudy</td>\n",
       "      <td>rain</td>\n",
       "      <td>NaN</td>\n",
       "    </tr>\n",
       "    <tr>\n",
       "      <th>1</th>\n",
       "      <td>2023-04-22</td>\n",
       "      <td>75.5</td>\n",
       "      <td>56.0</td>\n",
       "      <td>53.3</td>\n",
       "      <td>74.4</td>\n",
       "      <td>1.123</td>\n",
       "      <td>100.0</td>\n",
       "      <td>33.33</td>\n",
       "      <td>['rain']</td>\n",
       "      <td>49.4</td>\n",
       "      <td>...</td>\n",
       "      <td>141.3</td>\n",
       "      <td>1009.5</td>\n",
       "      <td>57.5</td>\n",
       "      <td>8.8</td>\n",
       "      <td>108.0</td>\n",
       "      <td>9.1</td>\n",
       "      <td>6.0</td>\n",
       "      <td>Rain, Partially cloudy</td>\n",
       "      <td>rain</td>\n",
       "      <td>10.0</td>\n",
       "    </tr>\n",
       "    <tr>\n",
       "      <th>2</th>\n",
       "      <td>2019-05-28</td>\n",
       "      <td>86.7</td>\n",
       "      <td>62.9</td>\n",
       "      <td>62.8</td>\n",
       "      <td>71.6</td>\n",
       "      <td>0.302</td>\n",
       "      <td>100.0</td>\n",
       "      <td>33.33</td>\n",
       "      <td>['rain']</td>\n",
       "      <td>51.0</td>\n",
       "      <td>...</td>\n",
       "      <td>236.4</td>\n",
       "      <td>1008.2</td>\n",
       "      <td>53.9</td>\n",
       "      <td>9.9</td>\n",
       "      <td>199.3</td>\n",
       "      <td>17.3</td>\n",
       "      <td>7.0</td>\n",
       "      <td>Rain, Partially cloudy</td>\n",
       "      <td>rain</td>\n",
       "      <td>NaN</td>\n",
       "    </tr>\n",
       "    <tr>\n",
       "      <th>3</th>\n",
       "      <td>2019-05-30</td>\n",
       "      <td>87.2</td>\n",
       "      <td>74.0</td>\n",
       "      <td>67.7</td>\n",
       "      <td>69.3</td>\n",
       "      <td>0.000</td>\n",
       "      <td>0.0</td>\n",
       "      <td>0.00</td>\n",
       "      <td>NaN</td>\n",
       "      <td>34.9</td>\n",
       "      <td>...</td>\n",
       "      <td>214.8</td>\n",
       "      <td>1007.7</td>\n",
       "      <td>27.0</td>\n",
       "      <td>9.0</td>\n",
       "      <td>168.7</td>\n",
       "      <td>14.5</td>\n",
       "      <td>9.0</td>\n",
       "      <td>Partially cloudy</td>\n",
       "      <td>partly-cloudy-day</td>\n",
       "      <td>NaN</td>\n",
       "    </tr>\n",
       "    <tr>\n",
       "      <th>4</th>\n",
       "      <td>2021-06-21</td>\n",
       "      <td>92.9</td>\n",
       "      <td>74.3</td>\n",
       "      <td>68.3</td>\n",
       "      <td>66.9</td>\n",
       "      <td>0.002</td>\n",
       "      <td>100.0</td>\n",
       "      <td>4.17</td>\n",
       "      <td>['rain']</td>\n",
       "      <td>35.0</td>\n",
       "      <td>...</td>\n",
       "      <td>202.4</td>\n",
       "      <td>1004.8</td>\n",
       "      <td>45.8</td>\n",
       "      <td>9.6</td>\n",
       "      <td>118.3</td>\n",
       "      <td>10.1</td>\n",
       "      <td>7.0</td>\n",
       "      <td>Rain, Partially cloudy</td>\n",
       "      <td>rain</td>\n",
       "      <td>NaN</td>\n",
       "    </tr>\n",
       "  </tbody>\n",
       "</table>\n",
       "<p>5 rows × 21 columns</p>\n",
       "</div>"
      ],
      "text/plain": [
       "     datetime  tempmax  tempmin   dew  humidity  precip  precipprob  \\\n",
       "0  2019-04-15     72.7     48.5  47.4      67.3   1.090       100.0   \n",
       "1  2023-04-22     75.5     56.0  53.3      74.4   1.123       100.0   \n",
       "2  2019-05-28     86.7     62.9  62.8      71.6   0.302       100.0   \n",
       "3  2019-05-30     87.2     74.0  67.7      69.3   0.000         0.0   \n",
       "4  2021-06-21     92.9     74.3  68.3      66.9   0.002       100.0   \n",
       "\n",
       "   precipcover preciptype  windgust  ...  winddir  pressure  cloudcover  \\\n",
       "0        25.00   ['rain']      45.5  ...    259.8    1002.1        53.6   \n",
       "1        33.33   ['rain']      49.4  ...    141.3    1009.5        57.5   \n",
       "2        33.33   ['rain']      51.0  ...    236.4    1008.2        53.9   \n",
       "3         0.00        NaN      34.9  ...    214.8    1007.7        27.0   \n",
       "4         4.17   ['rain']      35.0  ...    202.4    1004.8        45.8   \n",
       "\n",
       "   visibility  solarradiation  solarenergy  uvindex              conditions  \\\n",
       "0         9.2           227.0         19.5      8.0  Rain, Partially cloudy   \n",
       "1         8.8           108.0          9.1      6.0  Rain, Partially cloudy   \n",
       "2         9.9           199.3         17.3      7.0  Rain, Partially cloudy   \n",
       "3         9.0           168.7         14.5      9.0        Partially cloudy   \n",
       "4         9.6           118.3         10.1      7.0  Rain, Partially cloudy   \n",
       "\n",
       "                icon severerisk  \n",
       "0               rain        NaN  \n",
       "1               rain       10.0  \n",
       "2               rain        NaN  \n",
       "3  partly-cloudy-day        NaN  \n",
       "4               rain        NaN  \n",
       "\n",
       "[5 rows x 21 columns]"
      ]
     },
     "execution_count": 100,
     "metadata": {},
     "output_type": "execute_result"
    }
   ],
   "source": [
    "tornado_weather_data.head()"
   ]
  },
  {
   "cell_type": "code",
   "execution_count": 101,
   "metadata": {},
   "outputs": [],
   "source": [
    "tornado_weather_data['Region'] = tornado_sample_df['Region']"
   ]
  },
  {
   "cell_type": "code",
   "execution_count": 102,
   "metadata": {},
   "outputs": [
    {
     "data": {
      "text/html": [
       "<div>\n",
       "<style scoped>\n",
       "    .dataframe tbody tr th:only-of-type {\n",
       "        vertical-align: middle;\n",
       "    }\n",
       "\n",
       "    .dataframe tbody tr th {\n",
       "        vertical-align: top;\n",
       "    }\n",
       "\n",
       "    .dataframe thead th {\n",
       "        text-align: right;\n",
       "    }\n",
       "</style>\n",
       "<table border=\"1\" class=\"dataframe\">\n",
       "  <thead>\n",
       "    <tr style=\"text-align: right;\">\n",
       "      <th></th>\n",
       "      <th>datetime</th>\n",
       "      <th>tempmax</th>\n",
       "      <th>tempmin</th>\n",
       "      <th>dew</th>\n",
       "      <th>humidity</th>\n",
       "      <th>precip</th>\n",
       "      <th>precipprob</th>\n",
       "      <th>precipcover</th>\n",
       "      <th>preciptype</th>\n",
       "      <th>windgust</th>\n",
       "      <th>...</th>\n",
       "      <th>visibility</th>\n",
       "      <th>solarradiation</th>\n",
       "      <th>solarenergy</th>\n",
       "      <th>uvindex</th>\n",
       "      <th>conditions</th>\n",
       "      <th>icon</th>\n",
       "      <th>severerisk</th>\n",
       "      <th>Region</th>\n",
       "      <th>Tornado</th>\n",
       "      <th>Temp_Difference</th>\n",
       "    </tr>\n",
       "  </thead>\n",
       "  <tbody>\n",
       "    <tr>\n",
       "      <th>0</th>\n",
       "      <td>2019-04-15</td>\n",
       "      <td>72.7</td>\n",
       "      <td>48.5</td>\n",
       "      <td>47.4</td>\n",
       "      <td>67.3</td>\n",
       "      <td>1.090</td>\n",
       "      <td>100.0</td>\n",
       "      <td>25.00</td>\n",
       "      <td>['rain']</td>\n",
       "      <td>45.5</td>\n",
       "      <td>...</td>\n",
       "      <td>9.2</td>\n",
       "      <td>227.0</td>\n",
       "      <td>19.5</td>\n",
       "      <td>8.0</td>\n",
       "      <td>Rain, Partially cloudy</td>\n",
       "      <td>rain</td>\n",
       "      <td>NaN</td>\n",
       "      <td>NORTHEAST</td>\n",
       "      <td>1</td>\n",
       "      <td>24.2</td>\n",
       "    </tr>\n",
       "    <tr>\n",
       "      <th>1</th>\n",
       "      <td>2023-04-22</td>\n",
       "      <td>75.5</td>\n",
       "      <td>56.0</td>\n",
       "      <td>53.3</td>\n",
       "      <td>74.4</td>\n",
       "      <td>1.123</td>\n",
       "      <td>100.0</td>\n",
       "      <td>33.33</td>\n",
       "      <td>['rain']</td>\n",
       "      <td>49.4</td>\n",
       "      <td>...</td>\n",
       "      <td>8.8</td>\n",
       "      <td>108.0</td>\n",
       "      <td>9.1</td>\n",
       "      <td>6.0</td>\n",
       "      <td>Rain, Partially cloudy</td>\n",
       "      <td>rain</td>\n",
       "      <td>10.0</td>\n",
       "      <td>NORTHEAST</td>\n",
       "      <td>1</td>\n",
       "      <td>19.5</td>\n",
       "    </tr>\n",
       "    <tr>\n",
       "      <th>2</th>\n",
       "      <td>2019-05-28</td>\n",
       "      <td>86.7</td>\n",
       "      <td>62.9</td>\n",
       "      <td>62.8</td>\n",
       "      <td>71.6</td>\n",
       "      <td>0.302</td>\n",
       "      <td>100.0</td>\n",
       "      <td>33.33</td>\n",
       "      <td>['rain']</td>\n",
       "      <td>51.0</td>\n",
       "      <td>...</td>\n",
       "      <td>9.9</td>\n",
       "      <td>199.3</td>\n",
       "      <td>17.3</td>\n",
       "      <td>7.0</td>\n",
       "      <td>Rain, Partially cloudy</td>\n",
       "      <td>rain</td>\n",
       "      <td>NaN</td>\n",
       "      <td>NORTHEAST</td>\n",
       "      <td>1</td>\n",
       "      <td>23.8</td>\n",
       "    </tr>\n",
       "    <tr>\n",
       "      <th>3</th>\n",
       "      <td>2019-05-30</td>\n",
       "      <td>87.2</td>\n",
       "      <td>74.0</td>\n",
       "      <td>67.7</td>\n",
       "      <td>69.3</td>\n",
       "      <td>0.000</td>\n",
       "      <td>0.0</td>\n",
       "      <td>0.00</td>\n",
       "      <td>NaN</td>\n",
       "      <td>34.9</td>\n",
       "      <td>...</td>\n",
       "      <td>9.0</td>\n",
       "      <td>168.7</td>\n",
       "      <td>14.5</td>\n",
       "      <td>9.0</td>\n",
       "      <td>Partially cloudy</td>\n",
       "      <td>partly-cloudy-day</td>\n",
       "      <td>NaN</td>\n",
       "      <td>NORTHEAST</td>\n",
       "      <td>1</td>\n",
       "      <td>13.2</td>\n",
       "    </tr>\n",
       "    <tr>\n",
       "      <th>4</th>\n",
       "      <td>2021-06-21</td>\n",
       "      <td>92.9</td>\n",
       "      <td>74.3</td>\n",
       "      <td>68.3</td>\n",
       "      <td>66.9</td>\n",
       "      <td>0.002</td>\n",
       "      <td>100.0</td>\n",
       "      <td>4.17</td>\n",
       "      <td>['rain']</td>\n",
       "      <td>35.0</td>\n",
       "      <td>...</td>\n",
       "      <td>9.6</td>\n",
       "      <td>118.3</td>\n",
       "      <td>10.1</td>\n",
       "      <td>7.0</td>\n",
       "      <td>Rain, Partially cloudy</td>\n",
       "      <td>rain</td>\n",
       "      <td>NaN</td>\n",
       "      <td>NORTHEAST</td>\n",
       "      <td>1</td>\n",
       "      <td>18.6</td>\n",
       "    </tr>\n",
       "  </tbody>\n",
       "</table>\n",
       "<p>5 rows × 24 columns</p>\n",
       "</div>"
      ],
      "text/plain": [
       "     datetime  tempmax  tempmin   dew  humidity  precip  precipprob  \\\n",
       "0  2019-04-15     72.7     48.5  47.4      67.3   1.090       100.0   \n",
       "1  2023-04-22     75.5     56.0  53.3      74.4   1.123       100.0   \n",
       "2  2019-05-28     86.7     62.9  62.8      71.6   0.302       100.0   \n",
       "3  2019-05-30     87.2     74.0  67.7      69.3   0.000         0.0   \n",
       "4  2021-06-21     92.9     74.3  68.3      66.9   0.002       100.0   \n",
       "\n",
       "   precipcover preciptype  windgust  ...  visibility  solarradiation  \\\n",
       "0        25.00   ['rain']      45.5  ...         9.2           227.0   \n",
       "1        33.33   ['rain']      49.4  ...         8.8           108.0   \n",
       "2        33.33   ['rain']      51.0  ...         9.9           199.3   \n",
       "3         0.00        NaN      34.9  ...         9.0           168.7   \n",
       "4         4.17   ['rain']      35.0  ...         9.6           118.3   \n",
       "\n",
       "   solarenergy  uvindex              conditions               icon  \\\n",
       "0         19.5      8.0  Rain, Partially cloudy               rain   \n",
       "1          9.1      6.0  Rain, Partially cloudy               rain   \n",
       "2         17.3      7.0  Rain, Partially cloudy               rain   \n",
       "3         14.5      9.0        Partially cloudy  partly-cloudy-day   \n",
       "4         10.1      7.0  Rain, Partially cloudy               rain   \n",
       "\n",
       "   severerisk     Region Tornado Temp_Difference  \n",
       "0         NaN  NORTHEAST       1            24.2  \n",
       "1        10.0  NORTHEAST       1            19.5  \n",
       "2         NaN  NORTHEAST       1            23.8  \n",
       "3         NaN  NORTHEAST       1            13.2  \n",
       "4         NaN  NORTHEAST       1            18.6  \n",
       "\n",
       "[5 rows x 24 columns]"
      ]
     },
     "execution_count": 102,
     "metadata": {},
     "output_type": "execute_result"
    }
   ],
   "source": [
    "tornado_weather_data['Tornado'] = 1\n",
    "tornado_weather_data['Temp_Difference'] = tornado_weather_data['tempmax'] - tornado_weather_data['tempmin']\n",
    "tornado_weather_data.head()"
   ]
  },
  {
   "cell_type": "code",
   "execution_count": 103,
   "metadata": {},
   "outputs": [
    {
     "data": {
      "text/html": [
       "<div>\n",
       "<style scoped>\n",
       "    .dataframe tbody tr th:only-of-type {\n",
       "        vertical-align: middle;\n",
       "    }\n",
       "\n",
       "    .dataframe tbody tr th {\n",
       "        vertical-align: top;\n",
       "    }\n",
       "\n",
       "    .dataframe thead th {\n",
       "        text-align: right;\n",
       "    }\n",
       "</style>\n",
       "<table border=\"1\" class=\"dataframe\">\n",
       "  <thead>\n",
       "    <tr style=\"text-align: right;\">\n",
       "      <th></th>\n",
       "      <th>datetime</th>\n",
       "      <th>dew</th>\n",
       "      <th>humidity</th>\n",
       "      <th>precip</th>\n",
       "      <th>precipprob</th>\n",
       "      <th>precipcover</th>\n",
       "      <th>preciptype</th>\n",
       "      <th>windgust</th>\n",
       "      <th>windspeed</th>\n",
       "      <th>winddir</th>\n",
       "      <th>...</th>\n",
       "      <th>visibility</th>\n",
       "      <th>solarradiation</th>\n",
       "      <th>solarenergy</th>\n",
       "      <th>uvindex</th>\n",
       "      <th>conditions</th>\n",
       "      <th>icon</th>\n",
       "      <th>severerisk</th>\n",
       "      <th>Region</th>\n",
       "      <th>Tornado</th>\n",
       "      <th>Temp_Difference</th>\n",
       "    </tr>\n",
       "  </thead>\n",
       "  <tbody>\n",
       "    <tr>\n",
       "      <th>0</th>\n",
       "      <td>2019-04-15</td>\n",
       "      <td>47.4</td>\n",
       "      <td>67.3</td>\n",
       "      <td>1.090</td>\n",
       "      <td>100.0</td>\n",
       "      <td>25.00</td>\n",
       "      <td>['rain']</td>\n",
       "      <td>45.5</td>\n",
       "      <td>32.1</td>\n",
       "      <td>259.8</td>\n",
       "      <td>...</td>\n",
       "      <td>9.2</td>\n",
       "      <td>227.0</td>\n",
       "      <td>19.5</td>\n",
       "      <td>8.0</td>\n",
       "      <td>Rain, Partially cloudy</td>\n",
       "      <td>rain</td>\n",
       "      <td>NaN</td>\n",
       "      <td>NORTHEAST</td>\n",
       "      <td>1</td>\n",
       "      <td>24.2</td>\n",
       "    </tr>\n",
       "    <tr>\n",
       "      <th>1</th>\n",
       "      <td>2023-04-22</td>\n",
       "      <td>53.3</td>\n",
       "      <td>74.4</td>\n",
       "      <td>1.123</td>\n",
       "      <td>100.0</td>\n",
       "      <td>33.33</td>\n",
       "      <td>['rain']</td>\n",
       "      <td>49.4</td>\n",
       "      <td>18.9</td>\n",
       "      <td>141.3</td>\n",
       "      <td>...</td>\n",
       "      <td>8.8</td>\n",
       "      <td>108.0</td>\n",
       "      <td>9.1</td>\n",
       "      <td>6.0</td>\n",
       "      <td>Rain, Partially cloudy</td>\n",
       "      <td>rain</td>\n",
       "      <td>10.0</td>\n",
       "      <td>NORTHEAST</td>\n",
       "      <td>1</td>\n",
       "      <td>19.5</td>\n",
       "    </tr>\n",
       "    <tr>\n",
       "      <th>2</th>\n",
       "      <td>2019-05-28</td>\n",
       "      <td>62.8</td>\n",
       "      <td>71.6</td>\n",
       "      <td>0.302</td>\n",
       "      <td>100.0</td>\n",
       "      <td>33.33</td>\n",
       "      <td>['rain']</td>\n",
       "      <td>51.0</td>\n",
       "      <td>12.6</td>\n",
       "      <td>236.4</td>\n",
       "      <td>...</td>\n",
       "      <td>9.9</td>\n",
       "      <td>199.3</td>\n",
       "      <td>17.3</td>\n",
       "      <td>7.0</td>\n",
       "      <td>Rain, Partially cloudy</td>\n",
       "      <td>rain</td>\n",
       "      <td>NaN</td>\n",
       "      <td>NORTHEAST</td>\n",
       "      <td>1</td>\n",
       "      <td>23.8</td>\n",
       "    </tr>\n",
       "    <tr>\n",
       "      <th>3</th>\n",
       "      <td>2019-05-30</td>\n",
       "      <td>67.7</td>\n",
       "      <td>69.3</td>\n",
       "      <td>0.000</td>\n",
       "      <td>0.0</td>\n",
       "      <td>0.00</td>\n",
       "      <td>NaN</td>\n",
       "      <td>34.9</td>\n",
       "      <td>16.1</td>\n",
       "      <td>214.8</td>\n",
       "      <td>...</td>\n",
       "      <td>9.0</td>\n",
       "      <td>168.7</td>\n",
       "      <td>14.5</td>\n",
       "      <td>9.0</td>\n",
       "      <td>Partially cloudy</td>\n",
       "      <td>partly-cloudy-day</td>\n",
       "      <td>NaN</td>\n",
       "      <td>NORTHEAST</td>\n",
       "      <td>1</td>\n",
       "      <td>13.2</td>\n",
       "    </tr>\n",
       "    <tr>\n",
       "      <th>4</th>\n",
       "      <td>2021-06-21</td>\n",
       "      <td>68.3</td>\n",
       "      <td>66.9</td>\n",
       "      <td>0.002</td>\n",
       "      <td>100.0</td>\n",
       "      <td>4.17</td>\n",
       "      <td>['rain']</td>\n",
       "      <td>35.0</td>\n",
       "      <td>16.2</td>\n",
       "      <td>202.4</td>\n",
       "      <td>...</td>\n",
       "      <td>9.6</td>\n",
       "      <td>118.3</td>\n",
       "      <td>10.1</td>\n",
       "      <td>7.0</td>\n",
       "      <td>Rain, Partially cloudy</td>\n",
       "      <td>rain</td>\n",
       "      <td>NaN</td>\n",
       "      <td>NORTHEAST</td>\n",
       "      <td>1</td>\n",
       "      <td>18.6</td>\n",
       "    </tr>\n",
       "  </tbody>\n",
       "</table>\n",
       "<p>5 rows × 22 columns</p>\n",
       "</div>"
      ],
      "text/plain": [
       "     datetime   dew  humidity  precip  precipprob  precipcover preciptype  \\\n",
       "0  2019-04-15  47.4      67.3   1.090       100.0        25.00   ['rain']   \n",
       "1  2023-04-22  53.3      74.4   1.123       100.0        33.33   ['rain']   \n",
       "2  2019-05-28  62.8      71.6   0.302       100.0        33.33   ['rain']   \n",
       "3  2019-05-30  67.7      69.3   0.000         0.0         0.00        NaN   \n",
       "4  2021-06-21  68.3      66.9   0.002       100.0         4.17   ['rain']   \n",
       "\n",
       "   windgust  windspeed  winddir  ...  visibility  solarradiation  solarenergy  \\\n",
       "0      45.5       32.1    259.8  ...         9.2           227.0         19.5   \n",
       "1      49.4       18.9    141.3  ...         8.8           108.0          9.1   \n",
       "2      51.0       12.6    236.4  ...         9.9           199.3         17.3   \n",
       "3      34.9       16.1    214.8  ...         9.0           168.7         14.5   \n",
       "4      35.0       16.2    202.4  ...         9.6           118.3         10.1   \n",
       "\n",
       "   uvindex              conditions               icon severerisk     Region  \\\n",
       "0      8.0  Rain, Partially cloudy               rain        NaN  NORTHEAST   \n",
       "1      6.0  Rain, Partially cloudy               rain       10.0  NORTHEAST   \n",
       "2      7.0  Rain, Partially cloudy               rain        NaN  NORTHEAST   \n",
       "3      9.0        Partially cloudy  partly-cloudy-day        NaN  NORTHEAST   \n",
       "4      7.0  Rain, Partially cloudy               rain        NaN  NORTHEAST   \n",
       "\n",
       "   Tornado Temp_Difference  \n",
       "0        1            24.2  \n",
       "1        1            19.5  \n",
       "2        1            23.8  \n",
       "3        1            13.2  \n",
       "4        1            18.6  \n",
       "\n",
       "[5 rows x 22 columns]"
      ]
     },
     "execution_count": 103,
     "metadata": {},
     "output_type": "execute_result"
    }
   ],
   "source": [
    "tornado_weather_data = tornado_weather_data.drop(columns=['tempmin', 'tempmax'])\n",
    "tornado_weather_data.head()"
   ]
  },
  {
   "cell_type": "markdown",
   "metadata": {},
   "source": [
    "Until I have all datapoints for tornado and non tornado days, leave the columns alone before identifying which ones have the largest correlation/influence"
   ]
  },
  {
   "cell_type": "code",
   "execution_count": 34,
   "metadata": {},
   "outputs": [],
   "source": [
    "### fetch weather for non tornado days ###"
   ]
  },
  {
   "cell_type": "code",
   "execution_count": 35,
   "metadata": {},
   "outputs": [
    {
     "data": {
      "text/plain": [
       "91300"
      ]
     },
     "execution_count": 35,
     "metadata": {},
     "output_type": "execute_result"
    }
   ],
   "source": [
    "from itertools import product \n",
    "states = [\n",
    "    'ALABAMA', 'ALASKA', 'ARIZONA', 'ARKANSAS', 'CALIFORNIA', 'COLORADO', 'CONNECTICUT', 'DELAWARE', 'FLORIDA', 'GEORGIA',\n",
    "    'HAWAII', 'IDAHO', 'ILLINOIS', 'INDIANA', 'IOWA', 'KANSAS', 'KENTUCKY', 'LOUISIANA', 'MAINE', 'MARYLAND',\n",
    "    'MASSACHUSETTS', 'MICHIGAN', 'MINNESOTA', 'MISSISSIPPI', 'MISSOURI', 'MONTANA', 'NEBRASKA', 'NEVADA', 'NEW HAMPSHIRE', 'NEW JERSEY',\n",
    "    'NEW MEXICO', 'NEW YORK', 'NORTH CAROLINA', 'NORTH DAKOTA', 'OHIO', 'OKLAHOMA', 'OREGON', 'PENNSYLVANIA', 'RHODE ISLAND', 'SOUTH CAROLINA',\n",
    "    'SOUTH DAKOTA', 'TENNESSEE', 'TEXAS', 'UTAH', 'VERMONT', 'VIRGINIA', 'WASHINGTON', 'WEST VIRGINIA', 'WISCONSIN', 'WYOMING'\n",
    "]\n",
    "\n",
    "date_range = pd.date_range(start='2019-01-01', end='2023-12-31')\n",
    "\n",
    "combinations = list(product(states, date_range))\n",
    "\n",
    "df = pd.DataFrame(combinations, columns=['state', 'date'])\n",
    "\n",
    "df = df.sort_values(['state', 'date']).reset_index(drop=True)\n",
    "\n",
    "df.head()\n",
    "len(df)"
   ]
  },
  {
   "cell_type": "code",
   "execution_count": 36,
   "metadata": {},
   "outputs": [],
   "source": [
    "df['Region'] = df['state'].map(state_to_region)"
   ]
  },
  {
   "cell_type": "code",
   "execution_count": 37,
   "metadata": {},
   "outputs": [],
   "source": [
    "tornado_df['BEGIN_DATE'] = pd.to_datetime(tornado_df['BEGIN_DATE_TIME']).dt.date\n",
    "tornado_dates = tornado_df['BEGIN_DATE'].unique()\n",
    "df_no_tornados = df[~df['date'].isin(tornado_dates)]\n",
    "df_no_tornados = df_no_tornados.reset_index(drop=True)"
   ]
  },
  {
   "cell_type": "code",
   "execution_count": 38,
   "metadata": {},
   "outputs": [
    {
     "data": {
      "text/plain": [
       "47900"
      ]
     },
     "execution_count": 38,
     "metadata": {},
     "output_type": "execute_result"
    }
   ],
   "source": [
    "len(df_no_tornados)"
   ]
  },
  {
   "cell_type": "code",
   "execution_count": 39,
   "metadata": {},
   "outputs": [],
   "source": [
    "df_no_tornados['MONTH_NAME'] = df_no_tornados['date'].dt.strftime('%B')\n"
   ]
  },
  {
   "cell_type": "code",
   "execution_count": 40,
   "metadata": {},
   "outputs": [
    {
     "data": {
      "text/html": [
       "<div>\n",
       "<style scoped>\n",
       "    .dataframe tbody tr th:only-of-type {\n",
       "        vertical-align: middle;\n",
       "    }\n",
       "\n",
       "    .dataframe tbody tr th {\n",
       "        vertical-align: top;\n",
       "    }\n",
       "\n",
       "    .dataframe thead th {\n",
       "        text-align: right;\n",
       "    }\n",
       "</style>\n",
       "<table border=\"1\" class=\"dataframe\">\n",
       "  <thead>\n",
       "    <tr style=\"text-align: right;\">\n",
       "      <th></th>\n",
       "      <th>state</th>\n",
       "      <th>date</th>\n",
       "      <th>Region</th>\n",
       "      <th>MONTH_NAME</th>\n",
       "    </tr>\n",
       "  </thead>\n",
       "  <tbody>\n",
       "    <tr>\n",
       "      <th>0</th>\n",
       "      <td>ALABAMA</td>\n",
       "      <td>2019-01-01</td>\n",
       "      <td>SOUTHEAST</td>\n",
       "      <td>January</td>\n",
       "    </tr>\n",
       "    <tr>\n",
       "      <th>1</th>\n",
       "      <td>ALABAMA</td>\n",
       "      <td>2019-01-02</td>\n",
       "      <td>SOUTHEAST</td>\n",
       "      <td>January</td>\n",
       "    </tr>\n",
       "    <tr>\n",
       "      <th>2</th>\n",
       "      <td>ALABAMA</td>\n",
       "      <td>2019-01-03</td>\n",
       "      <td>SOUTHEAST</td>\n",
       "      <td>January</td>\n",
       "    </tr>\n",
       "    <tr>\n",
       "      <th>3</th>\n",
       "      <td>ALABAMA</td>\n",
       "      <td>2019-01-05</td>\n",
       "      <td>SOUTHEAST</td>\n",
       "      <td>January</td>\n",
       "    </tr>\n",
       "    <tr>\n",
       "      <th>4</th>\n",
       "      <td>ALABAMA</td>\n",
       "      <td>2019-01-07</td>\n",
       "      <td>SOUTHEAST</td>\n",
       "      <td>January</td>\n",
       "    </tr>\n",
       "  </tbody>\n",
       "</table>\n",
       "</div>"
      ],
      "text/plain": [
       "     state       date     Region MONTH_NAME\n",
       "0  ALABAMA 2019-01-01  SOUTHEAST    January\n",
       "1  ALABAMA 2019-01-02  SOUTHEAST    January\n",
       "2  ALABAMA 2019-01-03  SOUTHEAST    January\n",
       "3  ALABAMA 2019-01-05  SOUTHEAST    January\n",
       "4  ALABAMA 2019-01-07  SOUTHEAST    January"
      ]
     },
     "execution_count": 40,
     "metadata": {},
     "output_type": "execute_result"
    }
   ],
   "source": [
    "# df_no_tornados = df_no_tornados.drop(columns='month_num')\n",
    "df_no_tornados.head()"
   ]
  },
  {
   "cell_type": "code",
   "execution_count": null,
   "metadata": {},
   "outputs": [],
   "source": [
    "region_matrix = pd.crosstab(tornado_df['Region'], tornado_df['MONTH_NAME'])\n",
    "total_tornados = region_matrix.sum().sum()\n",
    "proportions_matrix = region_matrix / total_tornados\n",
    "\n",
    "proportion_series = proportions_matrix.stack()\n",
    "proportion_series.index.names = ['Region', 'MONTH_NAME']\n",
    "\n",
    "tornado_sample_size = 200\n",
    "non_tornado_sample_size = 800\n",
    "\n",
    "tornado_samples = (proportion_series * tornado_sample_size).round().astype(int)\n",
    "sampled_tornado_data = []\n",
    "sampled_non_tornado_data = []\n",
    "\n",
    "for (region, month), num_samples in tornado_samples.items():\n",
    "    if num_samples > 0:\n",
    "        subset = tornado_df[(tornado_df['Region'] == region) & (tornado_df['MONTH_NAME'] == month)]\n",
    "        if len(subset) < num_samples:\n",
    "            sampled_subset = resample(subset, n_samples=num_samples, replace=True)\n",
    "        else:\n",
    "            sampled_subset = subset.sample(n=num_samples, replace=False)\n",
    "        sampled_tornado_data.append(sampled_subset)\n",
    "\n",
    "sampled_tornado_df = pd.concat(sampled_tornado_data, ignore_index=True)\n",
    "\n",
    "# sampled_tornado_df.head(15)\n",
    "\n",
    "\n",
    "for region in tornado_df['Region'].unique():\n",
    "    for month in tornado_df['MONTH_NAME'].unique():\n",
    "        subset = df_no_tornados[(df_no_tornados['Region'] == region) & (df_no_tornados['MONTH_NAME'] == month)]\n",
    "        num_samples = int(non_tornado_sample_size * proportion_series.get((region, month), 0))\n",
    "        if num_samples > 0:\n",
    "            if len(subset) < num_samples:\n",
    "                sampled_subset = resample(subset, n_samples=num_samples, replace=True)\n",
    "            else:\n",
    "                sampled_subset = subset.sample(n=num_samples, replace=False)\n",
    "            sampled_non_tornado_data.append(sampled_subset)\n",
    "\n",
    "sampled_tornado_df = pd.concat(sampled_tornado_data, ignore_index=True)\n",
    "sampled_non_tornado_df = pd.concat(sampled_non_tornado_data, ignore_index=True)\n",
    "\n",
    "print(\"Sampled tornado days:\", len(sampled_tornado_df))\n",
    "print(\"Sampled non-tornado days:\", len(sampled_non_tornado_df))\n",
    "\n",
    "\n",
    "\n"
   ]
  },
  {
   "cell_type": "code",
   "execution_count": 146,
   "metadata": {},
   "outputs": [
    {
     "data": {
      "text/html": [
       "<div>\n",
       "<style scoped>\n",
       "    .dataframe tbody tr th:only-of-type {\n",
       "        vertical-align: middle;\n",
       "    }\n",
       "\n",
       "    .dataframe tbody tr th {\n",
       "        vertical-align: top;\n",
       "    }\n",
       "\n",
       "    .dataframe thead th {\n",
       "        text-align: right;\n",
       "    }\n",
       "</style>\n",
       "<table border=\"1\" class=\"dataframe\">\n",
       "  <thead>\n",
       "    <tr style=\"text-align: right;\">\n",
       "      <th>MONTH_NAME</th>\n",
       "      <th>April</th>\n",
       "      <th>August</th>\n",
       "      <th>December</th>\n",
       "      <th>February</th>\n",
       "      <th>January</th>\n",
       "      <th>July</th>\n",
       "      <th>June</th>\n",
       "      <th>March</th>\n",
       "      <th>May</th>\n",
       "      <th>November</th>\n",
       "      <th>October</th>\n",
       "      <th>September</th>\n",
       "    </tr>\n",
       "    <tr>\n",
       "      <th>Region</th>\n",
       "      <th></th>\n",
       "      <th></th>\n",
       "      <th></th>\n",
       "      <th></th>\n",
       "      <th></th>\n",
       "      <th></th>\n",
       "      <th></th>\n",
       "      <th></th>\n",
       "      <th></th>\n",
       "      <th></th>\n",
       "      <th></th>\n",
       "      <th></th>\n",
       "    </tr>\n",
       "  </thead>\n",
       "  <tbody>\n",
       "    <tr>\n",
       "      <th>NORTHEAST</th>\n",
       "      <td>7</td>\n",
       "      <td>14</td>\n",
       "      <td>0</td>\n",
       "      <td>0</td>\n",
       "      <td>0</td>\n",
       "      <td>10</td>\n",
       "      <td>5</td>\n",
       "      <td>0</td>\n",
       "      <td>6</td>\n",
       "      <td>2</td>\n",
       "      <td>2</td>\n",
       "      <td>6</td>\n",
       "    </tr>\n",
       "    <tr>\n",
       "      <th>NORTHERN ROCKIES AND PLAINS</th>\n",
       "      <td>2</td>\n",
       "      <td>12</td>\n",
       "      <td>0</td>\n",
       "      <td>0</td>\n",
       "      <td>0</td>\n",
       "      <td>16</td>\n",
       "      <td>20</td>\n",
       "      <td>0</td>\n",
       "      <td>14</td>\n",
       "      <td>0</td>\n",
       "      <td>2</td>\n",
       "      <td>2</td>\n",
       "    </tr>\n",
       "    <tr>\n",
       "      <th>NORTHWEST</th>\n",
       "      <td>0</td>\n",
       "      <td>0</td>\n",
       "      <td>0</td>\n",
       "      <td>0</td>\n",
       "      <td>0</td>\n",
       "      <td>0</td>\n",
       "      <td>2</td>\n",
       "      <td>0</td>\n",
       "      <td>3</td>\n",
       "      <td>0</td>\n",
       "      <td>2</td>\n",
       "      <td>0</td>\n",
       "    </tr>\n",
       "    <tr>\n",
       "      <th>OHIO VALLEY</th>\n",
       "      <td>15</td>\n",
       "      <td>14</td>\n",
       "      <td>6</td>\n",
       "      <td>4</td>\n",
       "      <td>6</td>\n",
       "      <td>12</td>\n",
       "      <td>22</td>\n",
       "      <td>18</td>\n",
       "      <td>27</td>\n",
       "      <td>0</td>\n",
       "      <td>7</td>\n",
       "      <td>4</td>\n",
       "    </tr>\n",
       "    <tr>\n",
       "      <th>SOUTH</th>\n",
       "      <td>32</td>\n",
       "      <td>12</td>\n",
       "      <td>9</td>\n",
       "      <td>5</td>\n",
       "      <td>9</td>\n",
       "      <td>11</td>\n",
       "      <td>27</td>\n",
       "      <td>25</td>\n",
       "      <td>56</td>\n",
       "      <td>8</td>\n",
       "      <td>11</td>\n",
       "      <td>4</td>\n",
       "    </tr>\n",
       "    <tr>\n",
       "      <th>SOUTHEAST</th>\n",
       "      <td>25</td>\n",
       "      <td>14</td>\n",
       "      <td>10</td>\n",
       "      <td>9</td>\n",
       "      <td>14</td>\n",
       "      <td>8</td>\n",
       "      <td>13</td>\n",
       "      <td>20</td>\n",
       "      <td>18</td>\n",
       "      <td>5</td>\n",
       "      <td>7</td>\n",
       "      <td>7</td>\n",
       "    </tr>\n",
       "    <tr>\n",
       "      <th>SOUTHWEST</th>\n",
       "      <td>0</td>\n",
       "      <td>6</td>\n",
       "      <td>0</td>\n",
       "      <td>0</td>\n",
       "      <td>0</td>\n",
       "      <td>12</td>\n",
       "      <td>13</td>\n",
       "      <td>2</td>\n",
       "      <td>12</td>\n",
       "      <td>0</td>\n",
       "      <td>1</td>\n",
       "      <td>3</td>\n",
       "    </tr>\n",
       "    <tr>\n",
       "      <th>UPPER MIDWEST</th>\n",
       "      <td>3</td>\n",
       "      <td>15</td>\n",
       "      <td>1</td>\n",
       "      <td>0</td>\n",
       "      <td>0</td>\n",
       "      <td>17</td>\n",
       "      <td>12</td>\n",
       "      <td>3</td>\n",
       "      <td>11</td>\n",
       "      <td>0</td>\n",
       "      <td>3</td>\n",
       "      <td>8</td>\n",
       "    </tr>\n",
       "    <tr>\n",
       "      <th>WEST</th>\n",
       "      <td>1</td>\n",
       "      <td>1</td>\n",
       "      <td>0</td>\n",
       "      <td>1</td>\n",
       "      <td>1</td>\n",
       "      <td>0</td>\n",
       "      <td>0</td>\n",
       "      <td>1</td>\n",
       "      <td>1</td>\n",
       "      <td>0</td>\n",
       "      <td>0</td>\n",
       "      <td>1</td>\n",
       "    </tr>\n",
       "  </tbody>\n",
       "</table>\n",
       "</div>"
      ],
      "text/plain": [
       "MONTH_NAME                   April  August  December  February  January  July  \\\n",
       "Region                                                                          \n",
       "NORTHEAST                        7      14         0         0        0    10   \n",
       "NORTHERN ROCKIES AND PLAINS      2      12         0         0        0    16   \n",
       "NORTHWEST                        0       0         0         0        0     0   \n",
       "OHIO VALLEY                     15      14         6         4        6    12   \n",
       "SOUTH                           32      12         9         5        9    11   \n",
       "SOUTHEAST                       25      14        10         9       14     8   \n",
       "SOUTHWEST                        0       6         0         0        0    12   \n",
       "UPPER MIDWEST                    3      15         1         0        0    17   \n",
       "WEST                             1       1         0         1        1     0   \n",
       "\n",
       "MONTH_NAME                   June  March  May  November  October  September  \n",
       "Region                                                                       \n",
       "NORTHEAST                       5      0    6         2        2          6  \n",
       "NORTHERN ROCKIES AND PLAINS    20      0   14         0        2          2  \n",
       "NORTHWEST                       2      0    3         0        2          0  \n",
       "OHIO VALLEY                    22     18   27         0        7          4  \n",
       "SOUTH                          27     25   56         8       11          4  \n",
       "SOUTHEAST                      13     20   18         5        7          7  \n",
       "SOUTHWEST                      13      2   12         0        1          3  \n",
       "UPPER MIDWEST                  12      3   11         0        3          8  \n",
       "WEST                            0      1    1         0        0          1  "
      ]
     },
     "execution_count": 146,
     "metadata": {},
     "output_type": "execute_result"
    }
   ],
   "source": [
    "no_tornado_matrix = create_matrix(sampled_non_tornado_df)\n",
    "no_tornado_matrix"
   ]
  },
  {
   "cell_type": "code",
   "execution_count": 147,
   "metadata": {},
   "outputs": [
    {
     "data": {
      "text/html": [
       "<div>\n",
       "<style scoped>\n",
       "    .dataframe tbody tr th:only-of-type {\n",
       "        vertical-align: middle;\n",
       "    }\n",
       "\n",
       "    .dataframe tbody tr th {\n",
       "        vertical-align: top;\n",
       "    }\n",
       "\n",
       "    .dataframe thead th {\n",
       "        text-align: right;\n",
       "    }\n",
       "</style>\n",
       "<table border=\"1\" class=\"dataframe\">\n",
       "  <thead>\n",
       "    <tr style=\"text-align: right;\">\n",
       "      <th>MONTH_NAME</th>\n",
       "      <th>January</th>\n",
       "      <th>February</th>\n",
       "      <th>March</th>\n",
       "      <th>April</th>\n",
       "      <th>May</th>\n",
       "      <th>June</th>\n",
       "      <th>July</th>\n",
       "      <th>August</th>\n",
       "      <th>September</th>\n",
       "      <th>October</th>\n",
       "      <th>November</th>\n",
       "      <th>December</th>\n",
       "    </tr>\n",
       "    <tr>\n",
       "      <th>Region</th>\n",
       "      <th></th>\n",
       "      <th></th>\n",
       "      <th></th>\n",
       "      <th></th>\n",
       "      <th></th>\n",
       "      <th></th>\n",
       "      <th></th>\n",
       "      <th></th>\n",
       "      <th></th>\n",
       "      <th></th>\n",
       "      <th></th>\n",
       "      <th></th>\n",
       "    </tr>\n",
       "  </thead>\n",
       "  <tbody>\n",
       "    <tr>\n",
       "      <th>NORTHEAST</th>\n",
       "      <td>0</td>\n",
       "      <td>0</td>\n",
       "      <td>0</td>\n",
       "      <td>2</td>\n",
       "      <td>2</td>\n",
       "      <td>1</td>\n",
       "      <td>3</td>\n",
       "      <td>4</td>\n",
       "      <td>2</td>\n",
       "      <td>1</td>\n",
       "      <td>1</td>\n",
       "      <td>0</td>\n",
       "    </tr>\n",
       "    <tr>\n",
       "      <th>NORTHERN ROCKIES AND PLAINS</th>\n",
       "      <td>0</td>\n",
       "      <td>0</td>\n",
       "      <td>0</td>\n",
       "      <td>1</td>\n",
       "      <td>4</td>\n",
       "      <td>5</td>\n",
       "      <td>4</td>\n",
       "      <td>3</td>\n",
       "      <td>1</td>\n",
       "      <td>1</td>\n",
       "      <td>0</td>\n",
       "      <td>0</td>\n",
       "    </tr>\n",
       "    <tr>\n",
       "      <th>NORTHWEST</th>\n",
       "      <td>0</td>\n",
       "      <td>0</td>\n",
       "      <td>0</td>\n",
       "      <td>0</td>\n",
       "      <td>1</td>\n",
       "      <td>1</td>\n",
       "      <td>0</td>\n",
       "      <td>0</td>\n",
       "      <td>0</td>\n",
       "      <td>1</td>\n",
       "      <td>0</td>\n",
       "      <td>0</td>\n",
       "    </tr>\n",
       "    <tr>\n",
       "      <th>OHIO VALLEY</th>\n",
       "      <td>2</td>\n",
       "      <td>1</td>\n",
       "      <td>5</td>\n",
       "      <td>4</td>\n",
       "      <td>7</td>\n",
       "      <td>6</td>\n",
       "      <td>3</td>\n",
       "      <td>4</td>\n",
       "      <td>1</td>\n",
       "      <td>2</td>\n",
       "      <td>0</td>\n",
       "      <td>2</td>\n",
       "    </tr>\n",
       "    <tr>\n",
       "      <th>SOUTH</th>\n",
       "      <td>2</td>\n",
       "      <td>1</td>\n",
       "      <td>6</td>\n",
       "      <td>8</td>\n",
       "      <td>14</td>\n",
       "      <td>7</td>\n",
       "      <td>3</td>\n",
       "      <td>3</td>\n",
       "      <td>1</td>\n",
       "      <td>3</td>\n",
       "      <td>2</td>\n",
       "      <td>2</td>\n",
       "    </tr>\n",
       "    <tr>\n",
       "      <th>SOUTHEAST</th>\n",
       "      <td>4</td>\n",
       "      <td>2</td>\n",
       "      <td>5</td>\n",
       "      <td>6</td>\n",
       "      <td>5</td>\n",
       "      <td>3</td>\n",
       "      <td>2</td>\n",
       "      <td>4</td>\n",
       "      <td>2</td>\n",
       "      <td>2</td>\n",
       "      <td>1</td>\n",
       "      <td>3</td>\n",
       "    </tr>\n",
       "    <tr>\n",
       "      <th>SOUTHWEST</th>\n",
       "      <td>0</td>\n",
       "      <td>0</td>\n",
       "      <td>1</td>\n",
       "      <td>0</td>\n",
       "      <td>3</td>\n",
       "      <td>3</td>\n",
       "      <td>3</td>\n",
       "      <td>2</td>\n",
       "      <td>1</td>\n",
       "      <td>0</td>\n",
       "      <td>0</td>\n",
       "      <td>0</td>\n",
       "    </tr>\n",
       "    <tr>\n",
       "      <th>UPPER MIDWEST</th>\n",
       "      <td>0</td>\n",
       "      <td>0</td>\n",
       "      <td>1</td>\n",
       "      <td>1</td>\n",
       "      <td>3</td>\n",
       "      <td>3</td>\n",
       "      <td>4</td>\n",
       "      <td>4</td>\n",
       "      <td>2</td>\n",
       "      <td>1</td>\n",
       "      <td>0</td>\n",
       "      <td>0</td>\n",
       "    </tr>\n",
       "  </tbody>\n",
       "</table>\n",
       "</div>"
      ],
      "text/plain": [
       "MONTH_NAME                   January  February  March  April  May  June  July  \\\n",
       "Region                                                                          \n",
       "NORTHEAST                          0         0      0      2    2     1     3   \n",
       "NORTHERN ROCKIES AND PLAINS        0         0      0      1    4     5     4   \n",
       "NORTHWEST                          0         0      0      0    1     1     0   \n",
       "OHIO VALLEY                        2         1      5      4    7     6     3   \n",
       "SOUTH                              2         1      6      8   14     7     3   \n",
       "SOUTHEAST                          4         2      5      6    5     3     2   \n",
       "SOUTHWEST                          0         0      1      0    3     3     3   \n",
       "UPPER MIDWEST                      0         0      1      1    3     3     4   \n",
       "\n",
       "MONTH_NAME                   August  September  October  November  December  \n",
       "Region                                                                       \n",
       "NORTHEAST                         4          2        1         1         0  \n",
       "NORTHERN ROCKIES AND PLAINS       3          1        1         0         0  \n",
       "NORTHWEST                         0          0        1         0         0  \n",
       "OHIO VALLEY                       4          1        2         0         2  \n",
       "SOUTH                             3          1        3         2         2  \n",
       "SOUTHEAST                         4          2        2         1         3  \n",
       "SOUTHWEST                         2          1        0         0         0  \n",
       "UPPER MIDWEST                     4          2        1         0         0  "
      ]
     },
     "execution_count": 147,
     "metadata": {},
     "output_type": "execute_result"
    },
    {
     "ename": "",
     "evalue": "",
     "output_type": "error",
     "traceback": [
      "\u001b[1;31mThe Kernel crashed while executing code in the current cell or a previous cell. \n",
      "\u001b[1;31mPlease review the code in the cell(s) to identify a possible cause of the failure. \n",
      "\u001b[1;31mClick <a href='https://aka.ms/vscodeJupyterKernelCrash'>here</a> for more info. \n",
      "\u001b[1;31mView Jupyter <a href='command:jupyter.viewOutput'>log</a> for further details."
     ]
    }
   ],
   "source": [
    "new_tornado_matrix = create_matrix(sampled_tornado_df)\n",
    "new_tornado_matrix"
   ]
  },
  {
   "cell_type": "code",
   "execution_count": 42,
   "metadata": {},
   "outputs": [
    {
     "data": {
      "text/plain": [
       "Region     MONTH_NAME\n",
       "NORTHEAST  January       0\n",
       "           February      1\n",
       "           March         1\n",
       "           April         8\n",
       "           May           6\n",
       "                        ..\n",
       "WEST       August        1\n",
       "           September     1\n",
       "           October       0\n",
       "           November      1\n",
       "           December      1\n",
       "Length: 108, dtype: int32"
      ]
     },
     "execution_count": 42,
     "metadata": {},
     "output_type": "execute_result"
    }
   ],
   "source": [
    "# sample_size = 800\n",
    "\n",
    "# new_samples_for_combinations = (proportion_series *sample_size).round().astype(int)\n",
    "\n",
    "# new_samples_for_combinations"
   ]
  },
  {
   "cell_type": "code",
   "execution_count": 43,
   "metadata": {},
   "outputs": [],
   "source": [
    "# non_tornado_sampled_data = []\n",
    "# for (region, month), num_samples in new_samples_for_combinations.items():\n",
    "#     if num_samples > 0:\n",
    "#         subset = df_no_tornados[(df_no_tornados['Region'] == region) & (df_no_tornados['MONTH_NAME'] == month)]\n",
    "#         if len(subset) > 0:\n",
    "#             sampled_subset = subset.sample(n=min(num_samples, len(subset)), replace=True)\n",
    "#             non_tornado_sampled_data.append(sampled_subset)\n",
    "\n",
    "# non_tornado_final_sample = pd.concat(non_tornado_sampled_data, ignore_index=True)\n"
   ]
  },
  {
   "cell_type": "code",
   "execution_count": 145,
   "metadata": {},
   "outputs": [
    {
     "data": {
      "text/plain": [
       "799"
      ]
     },
     "execution_count": 145,
     "metadata": {},
     "output_type": "execute_result"
    }
   ],
   "source": [
    "# len(non_tornado_final_sample)"
   ]
  },
  {
   "cell_type": "code",
   "execution_count": 44,
   "metadata": {},
   "outputs": [
    {
     "data": {
      "text/html": [
       "<div>\n",
       "<style scoped>\n",
       "    .dataframe tbody tr th:only-of-type {\n",
       "        vertical-align: middle;\n",
       "    }\n",
       "\n",
       "    .dataframe tbody tr th {\n",
       "        vertical-align: top;\n",
       "    }\n",
       "\n",
       "    .dataframe thead th {\n",
       "        text-align: right;\n",
       "    }\n",
       "</style>\n",
       "<table border=\"1\" class=\"dataframe\">\n",
       "  <thead>\n",
       "    <tr style=\"text-align: right;\">\n",
       "      <th>MONTH_NAME</th>\n",
       "      <th>April</th>\n",
       "      <th>August</th>\n",
       "      <th>December</th>\n",
       "      <th>February</th>\n",
       "      <th>January</th>\n",
       "      <th>July</th>\n",
       "      <th>June</th>\n",
       "      <th>March</th>\n",
       "      <th>May</th>\n",
       "      <th>November</th>\n",
       "      <th>October</th>\n",
       "      <th>September</th>\n",
       "    </tr>\n",
       "    <tr>\n",
       "      <th>Region</th>\n",
       "      <th></th>\n",
       "      <th></th>\n",
       "      <th></th>\n",
       "      <th></th>\n",
       "      <th></th>\n",
       "      <th></th>\n",
       "      <th></th>\n",
       "      <th></th>\n",
       "      <th></th>\n",
       "      <th></th>\n",
       "      <th></th>\n",
       "      <th></th>\n",
       "    </tr>\n",
       "  </thead>\n",
       "  <tbody>\n",
       "    <tr>\n",
       "      <th>NORTHEAST</th>\n",
       "      <td>8</td>\n",
       "      <td>14</td>\n",
       "      <td>0</td>\n",
       "      <td>1</td>\n",
       "      <td>0</td>\n",
       "      <td>10</td>\n",
       "      <td>6</td>\n",
       "      <td>1</td>\n",
       "      <td>6</td>\n",
       "      <td>2</td>\n",
       "      <td>3</td>\n",
       "      <td>6</td>\n",
       "    </tr>\n",
       "    <tr>\n",
       "      <th>NORTHERN ROCKIES AND PLAINS</th>\n",
       "      <td>3</td>\n",
       "      <td>12</td>\n",
       "      <td>0</td>\n",
       "      <td>0</td>\n",
       "      <td>0</td>\n",
       "      <td>17</td>\n",
       "      <td>20</td>\n",
       "      <td>0</td>\n",
       "      <td>14</td>\n",
       "      <td>0</td>\n",
       "      <td>2</td>\n",
       "      <td>2</td>\n",
       "    </tr>\n",
       "    <tr>\n",
       "      <th>NORTHWEST</th>\n",
       "      <td>0</td>\n",
       "      <td>0</td>\n",
       "      <td>0</td>\n",
       "      <td>0</td>\n",
       "      <td>0</td>\n",
       "      <td>1</td>\n",
       "      <td>3</td>\n",
       "      <td>1</td>\n",
       "      <td>4</td>\n",
       "      <td>1</td>\n",
       "      <td>2</td>\n",
       "      <td>1</td>\n",
       "    </tr>\n",
       "    <tr>\n",
       "      <th>OHIO VALLEY</th>\n",
       "      <td>16</td>\n",
       "      <td>15</td>\n",
       "      <td>6</td>\n",
       "      <td>5</td>\n",
       "      <td>6</td>\n",
       "      <td>13</td>\n",
       "      <td>23</td>\n",
       "      <td>18</td>\n",
       "      <td>28</td>\n",
       "      <td>1</td>\n",
       "      <td>7</td>\n",
       "      <td>4</td>\n",
       "    </tr>\n",
       "    <tr>\n",
       "      <th>SOUTH</th>\n",
       "      <td>32</td>\n",
       "      <td>12</td>\n",
       "      <td>9</td>\n",
       "      <td>5</td>\n",
       "      <td>9</td>\n",
       "      <td>11</td>\n",
       "      <td>28</td>\n",
       "      <td>25</td>\n",
       "      <td>57</td>\n",
       "      <td>8</td>\n",
       "      <td>12</td>\n",
       "      <td>5</td>\n",
       "    </tr>\n",
       "    <tr>\n",
       "      <th>SOUTHEAST</th>\n",
       "      <td>26</td>\n",
       "      <td>14</td>\n",
       "      <td>11</td>\n",
       "      <td>9</td>\n",
       "      <td>14</td>\n",
       "      <td>8</td>\n",
       "      <td>14</td>\n",
       "      <td>20</td>\n",
       "      <td>19</td>\n",
       "      <td>5</td>\n",
       "      <td>8</td>\n",
       "      <td>7</td>\n",
       "    </tr>\n",
       "    <tr>\n",
       "      <th>SOUTHWEST</th>\n",
       "      <td>1</td>\n",
       "      <td>7</td>\n",
       "      <td>0</td>\n",
       "      <td>0</td>\n",
       "      <td>0</td>\n",
       "      <td>13</td>\n",
       "      <td>14</td>\n",
       "      <td>2</td>\n",
       "      <td>13</td>\n",
       "      <td>1</td>\n",
       "      <td>2</td>\n",
       "      <td>4</td>\n",
       "    </tr>\n",
       "    <tr>\n",
       "      <th>UPPER MIDWEST</th>\n",
       "      <td>4</td>\n",
       "      <td>16</td>\n",
       "      <td>1</td>\n",
       "      <td>0</td>\n",
       "      <td>0</td>\n",
       "      <td>18</td>\n",
       "      <td>12</td>\n",
       "      <td>3</td>\n",
       "      <td>12</td>\n",
       "      <td>0</td>\n",
       "      <td>3</td>\n",
       "      <td>8</td>\n",
       "    </tr>\n",
       "    <tr>\n",
       "      <th>WEST</th>\n",
       "      <td>2</td>\n",
       "      <td>1</td>\n",
       "      <td>1</td>\n",
       "      <td>2</td>\n",
       "      <td>2</td>\n",
       "      <td>0</td>\n",
       "      <td>1</td>\n",
       "      <td>2</td>\n",
       "      <td>2</td>\n",
       "      <td>1</td>\n",
       "      <td>0</td>\n",
       "      <td>1</td>\n",
       "    </tr>\n",
       "  </tbody>\n",
       "</table>\n",
       "</div>"
      ],
      "text/plain": [
       "MONTH_NAME                   April  August  December  February  January  July  \\\n",
       "Region                                                                          \n",
       "NORTHEAST                        8      14         0         1        0    10   \n",
       "NORTHERN ROCKIES AND PLAINS      3      12         0         0        0    17   \n",
       "NORTHWEST                        0       0         0         0        0     1   \n",
       "OHIO VALLEY                     16      15         6         5        6    13   \n",
       "SOUTH                           32      12         9         5        9    11   \n",
       "SOUTHEAST                       26      14        11         9       14     8   \n",
       "SOUTHWEST                        1       7         0         0        0    13   \n",
       "UPPER MIDWEST                    4      16         1         0        0    18   \n",
       "WEST                             2       1         1         2        2     0   \n",
       "\n",
       "MONTH_NAME                   June  March  May  November  October  September  \n",
       "Region                                                                       \n",
       "NORTHEAST                       6      1    6         2        3          6  \n",
       "NORTHERN ROCKIES AND PLAINS    20      0   14         0        2          2  \n",
       "NORTHWEST                       3      1    4         1        2          1  \n",
       "OHIO VALLEY                    23     18   28         1        7          4  \n",
       "SOUTH                          28     25   57         8       12          5  \n",
       "SOUTHEAST                      14     20   19         5        8          7  \n",
       "SOUTHWEST                      14      2   13         1        2          4  \n",
       "UPPER MIDWEST                  12      3   12         0        3          8  \n",
       "WEST                            1      2    2         1        0          1  "
      ]
     },
     "execution_count": 44,
     "metadata": {},
     "output_type": "execute_result"
    }
   ],
   "source": [
    "# non_tornado_final_matrix = create_matrix(non_tornado_final_sample)\n",
    "# non_tornado_final_matrix"
   ]
  },
  {
   "cell_type": "code",
   "execution_count": 45,
   "metadata": {},
   "outputs": [],
   "source": [
    "sampled_non_tornado_df.to_csv('./no_tornado_sample.csv')"
   ]
  },
  {
   "cell_type": "code",
   "execution_count": 46,
   "metadata": {},
   "outputs": [
    {
     "data": {
      "text/html": [
       "<div>\n",
       "<style scoped>\n",
       "    .dataframe tbody tr th:only-of-type {\n",
       "        vertical-align: middle;\n",
       "    }\n",
       "\n",
       "    .dataframe tbody tr th {\n",
       "        vertical-align: top;\n",
       "    }\n",
       "\n",
       "    .dataframe thead th {\n",
       "        text-align: right;\n",
       "    }\n",
       "</style>\n",
       "<table border=\"1\" class=\"dataframe\">\n",
       "  <thead>\n",
       "    <tr style=\"text-align: right;\">\n",
       "      <th></th>\n",
       "      <th>Unnamed: 0</th>\n",
       "      <th>datetime</th>\n",
       "      <th>datetimeEpoch</th>\n",
       "      <th>tempmax</th>\n",
       "      <th>tempmin</th>\n",
       "      <th>temp</th>\n",
       "      <th>feelslikemax</th>\n",
       "      <th>feelslikemin</th>\n",
       "      <th>feelslike</th>\n",
       "      <th>dew</th>\n",
       "      <th>...</th>\n",
       "      <th>sunrise</th>\n",
       "      <th>sunriseEpoch</th>\n",
       "      <th>sunset</th>\n",
       "      <th>sunsetEpoch</th>\n",
       "      <th>moonphase</th>\n",
       "      <th>conditions</th>\n",
       "      <th>description</th>\n",
       "      <th>icon</th>\n",
       "      <th>stations</th>\n",
       "      <th>source</th>\n",
       "    </tr>\n",
       "  </thead>\n",
       "  <tbody>\n",
       "    <tr>\n",
       "      <th>0</th>\n",
       "      <td>0</td>\n",
       "      <td>2022-02-04</td>\n",
       "      <td>1643950800</td>\n",
       "      <td>40.0</td>\n",
       "      <td>21.9</td>\n",
       "      <td>30.9</td>\n",
       "      <td>35.8</td>\n",
       "      <td>9.7</td>\n",
       "      <td>21.6</td>\n",
       "      <td>28.5</td>\n",
       "      <td>...</td>\n",
       "      <td>06:54:34</td>\n",
       "      <td>1643975674</td>\n",
       "      <td>17:02:20</td>\n",
       "      <td>1644012140</td>\n",
       "      <td>0.11</td>\n",
       "      <td>Snow, Rain, Overcast</td>\n",
       "      <td>Cloudy skies throughout the day with a chance ...</td>\n",
       "      <td>rain</td>\n",
       "      <td>['KOWD', 'AV085', '72509854704', 'KBED', '0518...</td>\n",
       "      <td>obs</td>\n",
       "    </tr>\n",
       "    <tr>\n",
       "      <th>1</th>\n",
       "      <td>1</td>\n",
       "      <td>2020-03-25</td>\n",
       "      <td>1585108800</td>\n",
       "      <td>41.2</td>\n",
       "      <td>18.0</td>\n",
       "      <td>29.7</td>\n",
       "      <td>36.7</td>\n",
       "      <td>13.2</td>\n",
       "      <td>26.6</td>\n",
       "      <td>21.8</td>\n",
       "      <td>...</td>\n",
       "      <td>06:43:16</td>\n",
       "      <td>1585132996</td>\n",
       "      <td>19:09:38</td>\n",
       "      <td>1585177778</td>\n",
       "      <td>0.04</td>\n",
       "      <td>Partially cloudy</td>\n",
       "      <td>Partly cloudy throughout the day.</td>\n",
       "      <td>partly-cloudy-day</td>\n",
       "      <td>['EMRV1', 'K1V4', '72614054742', 'VTW12', 'KMP...</td>\n",
       "      <td>obs</td>\n",
       "    </tr>\n",
       "    <tr>\n",
       "      <th>2</th>\n",
       "      <td>2</td>\n",
       "      <td>2020-04-06</td>\n",
       "      <td>1586145600</td>\n",
       "      <td>67.5</td>\n",
       "      <td>50.0</td>\n",
       "      <td>56.9</td>\n",
       "      <td>67.5</td>\n",
       "      <td>47.2</td>\n",
       "      <td>56.8</td>\n",
       "      <td>36.8</td>\n",
       "      <td>...</td>\n",
       "      <td>06:30:33</td>\n",
       "      <td>1586169033</td>\n",
       "      <td>19:26:39</td>\n",
       "      <td>1586215599</td>\n",
       "      <td>0.45</td>\n",
       "      <td>Rain, Partially cloudy</td>\n",
       "      <td>Clearing in the afternoon with early morning r...</td>\n",
       "      <td>rain</td>\n",
       "      <td>['72505394728', '72055399999', 'KLGA', 'KJRB',...</td>\n",
       "      <td>obs</td>\n",
       "    </tr>\n",
       "    <tr>\n",
       "      <th>3</th>\n",
       "      <td>3</td>\n",
       "      <td>2019-04-09</td>\n",
       "      <td>1554782400</td>\n",
       "      <td>30.8</td>\n",
       "      <td>25.1</td>\n",
       "      <td>28.2</td>\n",
       "      <td>29.9</td>\n",
       "      <td>13.7</td>\n",
       "      <td>21.1</td>\n",
       "      <td>26.3</td>\n",
       "      <td>...</td>\n",
       "      <td>06:06:14</td>\n",
       "      <td>1554804374</td>\n",
       "      <td>19:15:59</td>\n",
       "      <td>1554851759</td>\n",
       "      <td>0.15</td>\n",
       "      <td>Snow, Rain, Overcast</td>\n",
       "      <td>Cloudy skies throughout the day with late afte...</td>\n",
       "      <td>snow</td>\n",
       "      <td>['KWVL', 'KIWI', '72713594623', 'RA019', '7261...</td>\n",
       "      <td>obs</td>\n",
       "    </tr>\n",
       "    <tr>\n",
       "      <th>4</th>\n",
       "      <td>4</td>\n",
       "      <td>2020-04-02</td>\n",
       "      <td>1585800000</td>\n",
       "      <td>38.9</td>\n",
       "      <td>33.2</td>\n",
       "      <td>34.9</td>\n",
       "      <td>30.8</td>\n",
       "      <td>25.3</td>\n",
       "      <td>27.3</td>\n",
       "      <td>29.8</td>\n",
       "      <td>...</td>\n",
       "      <td>06:28:40</td>\n",
       "      <td>1585823320</td>\n",
       "      <td>19:19:29</td>\n",
       "      <td>1585869569</td>\n",
       "      <td>0.32</td>\n",
       "      <td>Snow, Rain, Partially cloudy</td>\n",
       "      <td>Partly cloudy throughout the day with rain or ...</td>\n",
       "      <td>rain</td>\n",
       "      <td>['EMRV1', 'K1V4', '72614054742', 'VTW12', 'KMP...</td>\n",
       "      <td>obs</td>\n",
       "    </tr>\n",
       "  </tbody>\n",
       "</table>\n",
       "<p>5 rows × 37 columns</p>\n",
       "</div>"
      ],
      "text/plain": [
       "   Unnamed: 0    datetime  datetimeEpoch  tempmax  tempmin  temp  \\\n",
       "0           0  2022-02-04     1643950800     40.0     21.9  30.9   \n",
       "1           1  2020-03-25     1585108800     41.2     18.0  29.7   \n",
       "2           2  2020-04-06     1586145600     67.5     50.0  56.9   \n",
       "3           3  2019-04-09     1554782400     30.8     25.1  28.2   \n",
       "4           4  2020-04-02     1585800000     38.9     33.2  34.9   \n",
       "\n",
       "   feelslikemax  feelslikemin  feelslike   dew  ...   sunrise  sunriseEpoch  \\\n",
       "0          35.8           9.7       21.6  28.5  ...  06:54:34    1643975674   \n",
       "1          36.7          13.2       26.6  21.8  ...  06:43:16    1585132996   \n",
       "2          67.5          47.2       56.8  36.8  ...  06:30:33    1586169033   \n",
       "3          29.9          13.7       21.1  26.3  ...  06:06:14    1554804374   \n",
       "4          30.8          25.3       27.3  29.8  ...  06:28:40    1585823320   \n",
       "\n",
       "     sunset  sunsetEpoch moonphase                    conditions  \\\n",
       "0  17:02:20   1644012140      0.11          Snow, Rain, Overcast   \n",
       "1  19:09:38   1585177778      0.04              Partially cloudy   \n",
       "2  19:26:39   1586215599      0.45        Rain, Partially cloudy   \n",
       "3  19:15:59   1554851759      0.15          Snow, Rain, Overcast   \n",
       "4  19:19:29   1585869569      0.32  Snow, Rain, Partially cloudy   \n",
       "\n",
       "                                         description               icon  \\\n",
       "0  Cloudy skies throughout the day with a chance ...               rain   \n",
       "1                  Partly cloudy throughout the day.  partly-cloudy-day   \n",
       "2  Clearing in the afternoon with early morning r...               rain   \n",
       "3  Cloudy skies throughout the day with late afte...               snow   \n",
       "4  Partly cloudy throughout the day with rain or ...               rain   \n",
       "\n",
       "                                            stations  source  \n",
       "0  ['KOWD', 'AV085', '72509854704', 'KBED', '0518...     obs  \n",
       "1  ['EMRV1', 'K1V4', '72614054742', 'VTW12', 'KMP...     obs  \n",
       "2  ['72505394728', '72055399999', 'KLGA', 'KJRB',...     obs  \n",
       "3  ['KWVL', 'KIWI', '72713594623', 'RA019', '7261...     obs  \n",
       "4  ['EMRV1', 'K1V4', '72614054742', 'VTW12', 'KMP...     obs  \n",
       "\n",
       "[5 rows x 37 columns]"
      ]
     },
     "execution_count": 46,
     "metadata": {},
     "output_type": "execute_result"
    }
   ],
   "source": [
    "no_tornado_days = pd.read_csv('no_tornado_weather_data.csv')\n",
    "no_tornado_days.head()"
   ]
  },
  {
   "cell_type": "code",
   "execution_count": 104,
   "metadata": {},
   "outputs": [
    {
     "ename": "KeyError",
     "evalue": "\"['Unnamed: 0', 'datetimeEpoch', 'sunrise', 'sunriseEpoch', 'sunset', 'sunsetEpoch', 'moonphase', 'description', 'stations', 'source', 'feelslikemin', 'feelslike', 'feelslikemax', 'snow', 'snowdepth', 'temp'] not found in axis\"",
     "output_type": "error",
     "traceback": [
      "\u001b[1;31m---------------------------------------------------------------------------\u001b[0m",
      "\u001b[1;31mKeyError\u001b[0m                                  Traceback (most recent call last)",
      "Cell \u001b[1;32mIn[104], line 1\u001b[0m\n\u001b[1;32m----> 1\u001b[0m no_tornado_days \u001b[38;5;241m=\u001b[39m \u001b[43mno_tornado_days\u001b[49m\u001b[38;5;241;43m.\u001b[39;49m\u001b[43mdrop\u001b[49m\u001b[43m(\u001b[49m\u001b[43mcolumns\u001b[49m\u001b[43m \u001b[49m\u001b[38;5;241;43m=\u001b[39;49m\u001b[43m \u001b[49m\u001b[43mcolumns_to_drop\u001b[49m\u001b[43m)\u001b[49m\n\u001b[0;32m      2\u001b[0m no_tornado_days[\u001b[38;5;124m'\u001b[39m\u001b[38;5;124mRegion\u001b[39m\u001b[38;5;124m'\u001b[39m] \u001b[38;5;241m=\u001b[39m non_tornado_final_sample[\u001b[38;5;124m'\u001b[39m\u001b[38;5;124mRegion\u001b[39m\u001b[38;5;124m'\u001b[39m]\n\u001b[0;32m      3\u001b[0m no_tornado_days[\u001b[38;5;124m'\u001b[39m\u001b[38;5;124mTornado\u001b[39m\u001b[38;5;124m'\u001b[39m] \u001b[38;5;241m=\u001b[39m \u001b[38;5;241m0\u001b[39m\n",
      "File \u001b[1;32mc:\\Users\\Jwarn\\anaconda3\\anaconda\\lib\\site-packages\\pandas\\util\\_decorators.py:331\u001b[0m, in \u001b[0;36mdeprecate_nonkeyword_arguments.<locals>.decorate.<locals>.wrapper\u001b[1;34m(*args, **kwargs)\u001b[0m\n\u001b[0;32m    325\u001b[0m \u001b[38;5;28;01mif\u001b[39;00m \u001b[38;5;28mlen\u001b[39m(args) \u001b[38;5;241m>\u001b[39m num_allow_args:\n\u001b[0;32m    326\u001b[0m     warnings\u001b[38;5;241m.\u001b[39mwarn(\n\u001b[0;32m    327\u001b[0m         msg\u001b[38;5;241m.\u001b[39mformat(arguments\u001b[38;5;241m=\u001b[39m_format_argument_list(allow_args)),\n\u001b[0;32m    328\u001b[0m         \u001b[38;5;167;01mFutureWarning\u001b[39;00m,\n\u001b[0;32m    329\u001b[0m         stacklevel\u001b[38;5;241m=\u001b[39mfind_stack_level(),\n\u001b[0;32m    330\u001b[0m     )\n\u001b[1;32m--> 331\u001b[0m \u001b[38;5;28;01mreturn\u001b[39;00m func(\u001b[38;5;241m*\u001b[39margs, \u001b[38;5;241m*\u001b[39m\u001b[38;5;241m*\u001b[39mkwargs)\n",
      "File \u001b[1;32mc:\\Users\\Jwarn\\anaconda3\\anaconda\\lib\\site-packages\\pandas\\core\\frame.py:5399\u001b[0m, in \u001b[0;36mDataFrame.drop\u001b[1;34m(self, labels, axis, index, columns, level, inplace, errors)\u001b[0m\n\u001b[0;32m   5251\u001b[0m \u001b[38;5;129m@deprecate_nonkeyword_arguments\u001b[39m(version\u001b[38;5;241m=\u001b[39m\u001b[38;5;28;01mNone\u001b[39;00m, allowed_args\u001b[38;5;241m=\u001b[39m[\u001b[38;5;124m\"\u001b[39m\u001b[38;5;124mself\u001b[39m\u001b[38;5;124m\"\u001b[39m, \u001b[38;5;124m\"\u001b[39m\u001b[38;5;124mlabels\u001b[39m\u001b[38;5;124m\"\u001b[39m])\n\u001b[0;32m   5252\u001b[0m \u001b[38;5;28;01mdef\u001b[39;00m \u001b[38;5;21mdrop\u001b[39m(  \u001b[38;5;66;03m# type: ignore[override]\u001b[39;00m\n\u001b[0;32m   5253\u001b[0m     \u001b[38;5;28mself\u001b[39m,\n\u001b[1;32m   (...)\u001b[0m\n\u001b[0;32m   5260\u001b[0m     errors: IgnoreRaise \u001b[38;5;241m=\u001b[39m \u001b[38;5;124m\"\u001b[39m\u001b[38;5;124mraise\u001b[39m\u001b[38;5;124m\"\u001b[39m,\n\u001b[0;32m   5261\u001b[0m ) \u001b[38;5;241m-\u001b[39m\u001b[38;5;241m>\u001b[39m DataFrame \u001b[38;5;241m|\u001b[39m \u001b[38;5;28;01mNone\u001b[39;00m:\n\u001b[0;32m   5262\u001b[0m     \u001b[38;5;124;03m\"\"\"\u001b[39;00m\n\u001b[0;32m   5263\u001b[0m \u001b[38;5;124;03m    Drop specified labels from rows or columns.\u001b[39;00m\n\u001b[0;32m   5264\u001b[0m \n\u001b[1;32m   (...)\u001b[0m\n\u001b[0;32m   5397\u001b[0m \u001b[38;5;124;03m            weight  1.0     0.8\u001b[39;00m\n\u001b[0;32m   5398\u001b[0m \u001b[38;5;124;03m    \"\"\"\u001b[39;00m\n\u001b[1;32m-> 5399\u001b[0m     \u001b[38;5;28;01mreturn\u001b[39;00m \u001b[38;5;28;43msuper\u001b[39;49m\u001b[43m(\u001b[49m\u001b[43m)\u001b[49m\u001b[38;5;241;43m.\u001b[39;49m\u001b[43mdrop\u001b[49m\u001b[43m(\u001b[49m\n\u001b[0;32m   5400\u001b[0m \u001b[43m        \u001b[49m\u001b[43mlabels\u001b[49m\u001b[38;5;241;43m=\u001b[39;49m\u001b[43mlabels\u001b[49m\u001b[43m,\u001b[49m\n\u001b[0;32m   5401\u001b[0m \u001b[43m        \u001b[49m\u001b[43maxis\u001b[49m\u001b[38;5;241;43m=\u001b[39;49m\u001b[43maxis\u001b[49m\u001b[43m,\u001b[49m\n\u001b[0;32m   5402\u001b[0m \u001b[43m        \u001b[49m\u001b[43mindex\u001b[49m\u001b[38;5;241;43m=\u001b[39;49m\u001b[43mindex\u001b[49m\u001b[43m,\u001b[49m\n\u001b[0;32m   5403\u001b[0m \u001b[43m        \u001b[49m\u001b[43mcolumns\u001b[49m\u001b[38;5;241;43m=\u001b[39;49m\u001b[43mcolumns\u001b[49m\u001b[43m,\u001b[49m\n\u001b[0;32m   5404\u001b[0m \u001b[43m        \u001b[49m\u001b[43mlevel\u001b[49m\u001b[38;5;241;43m=\u001b[39;49m\u001b[43mlevel\u001b[49m\u001b[43m,\u001b[49m\n\u001b[0;32m   5405\u001b[0m \u001b[43m        \u001b[49m\u001b[43minplace\u001b[49m\u001b[38;5;241;43m=\u001b[39;49m\u001b[43minplace\u001b[49m\u001b[43m,\u001b[49m\n\u001b[0;32m   5406\u001b[0m \u001b[43m        \u001b[49m\u001b[43merrors\u001b[49m\u001b[38;5;241;43m=\u001b[39;49m\u001b[43merrors\u001b[49m\u001b[43m,\u001b[49m\n\u001b[0;32m   5407\u001b[0m \u001b[43m    \u001b[49m\u001b[43m)\u001b[49m\n",
      "File \u001b[1;32mc:\\Users\\Jwarn\\anaconda3\\anaconda\\lib\\site-packages\\pandas\\util\\_decorators.py:331\u001b[0m, in \u001b[0;36mdeprecate_nonkeyword_arguments.<locals>.decorate.<locals>.wrapper\u001b[1;34m(*args, **kwargs)\u001b[0m\n\u001b[0;32m    325\u001b[0m \u001b[38;5;28;01mif\u001b[39;00m \u001b[38;5;28mlen\u001b[39m(args) \u001b[38;5;241m>\u001b[39m num_allow_args:\n\u001b[0;32m    326\u001b[0m     warnings\u001b[38;5;241m.\u001b[39mwarn(\n\u001b[0;32m    327\u001b[0m         msg\u001b[38;5;241m.\u001b[39mformat(arguments\u001b[38;5;241m=\u001b[39m_format_argument_list(allow_args)),\n\u001b[0;32m    328\u001b[0m         \u001b[38;5;167;01mFutureWarning\u001b[39;00m,\n\u001b[0;32m    329\u001b[0m         stacklevel\u001b[38;5;241m=\u001b[39mfind_stack_level(),\n\u001b[0;32m    330\u001b[0m     )\n\u001b[1;32m--> 331\u001b[0m \u001b[38;5;28;01mreturn\u001b[39;00m func(\u001b[38;5;241m*\u001b[39margs, \u001b[38;5;241m*\u001b[39m\u001b[38;5;241m*\u001b[39mkwargs)\n",
      "File \u001b[1;32mc:\\Users\\Jwarn\\anaconda3\\anaconda\\lib\\site-packages\\pandas\\core\\generic.py:4505\u001b[0m, in \u001b[0;36mNDFrame.drop\u001b[1;34m(self, labels, axis, index, columns, level, inplace, errors)\u001b[0m\n\u001b[0;32m   4503\u001b[0m \u001b[38;5;28;01mfor\u001b[39;00m axis, labels \u001b[38;5;129;01min\u001b[39;00m axes\u001b[38;5;241m.\u001b[39mitems():\n\u001b[0;32m   4504\u001b[0m     \u001b[38;5;28;01mif\u001b[39;00m labels \u001b[38;5;129;01mis\u001b[39;00m \u001b[38;5;129;01mnot\u001b[39;00m \u001b[38;5;28;01mNone\u001b[39;00m:\n\u001b[1;32m-> 4505\u001b[0m         obj \u001b[38;5;241m=\u001b[39m \u001b[43mobj\u001b[49m\u001b[38;5;241;43m.\u001b[39;49m\u001b[43m_drop_axis\u001b[49m\u001b[43m(\u001b[49m\u001b[43mlabels\u001b[49m\u001b[43m,\u001b[49m\u001b[43m \u001b[49m\u001b[43maxis\u001b[49m\u001b[43m,\u001b[49m\u001b[43m \u001b[49m\u001b[43mlevel\u001b[49m\u001b[38;5;241;43m=\u001b[39;49m\u001b[43mlevel\u001b[49m\u001b[43m,\u001b[49m\u001b[43m \u001b[49m\u001b[43merrors\u001b[49m\u001b[38;5;241;43m=\u001b[39;49m\u001b[43merrors\u001b[49m\u001b[43m)\u001b[49m\n\u001b[0;32m   4507\u001b[0m \u001b[38;5;28;01mif\u001b[39;00m inplace:\n\u001b[0;32m   4508\u001b[0m     \u001b[38;5;28mself\u001b[39m\u001b[38;5;241m.\u001b[39m_update_inplace(obj)\n",
      "File \u001b[1;32mc:\\Users\\Jwarn\\anaconda3\\anaconda\\lib\\site-packages\\pandas\\core\\generic.py:4546\u001b[0m, in \u001b[0;36mNDFrame._drop_axis\u001b[1;34m(self, labels, axis, level, errors, only_slice)\u001b[0m\n\u001b[0;32m   4544\u001b[0m         new_axis \u001b[38;5;241m=\u001b[39m axis\u001b[38;5;241m.\u001b[39mdrop(labels, level\u001b[38;5;241m=\u001b[39mlevel, errors\u001b[38;5;241m=\u001b[39merrors)\n\u001b[0;32m   4545\u001b[0m     \u001b[38;5;28;01melse\u001b[39;00m:\n\u001b[1;32m-> 4546\u001b[0m         new_axis \u001b[38;5;241m=\u001b[39m \u001b[43maxis\u001b[49m\u001b[38;5;241;43m.\u001b[39;49m\u001b[43mdrop\u001b[49m\u001b[43m(\u001b[49m\u001b[43mlabels\u001b[49m\u001b[43m,\u001b[49m\u001b[43m \u001b[49m\u001b[43merrors\u001b[49m\u001b[38;5;241;43m=\u001b[39;49m\u001b[43merrors\u001b[49m\u001b[43m)\u001b[49m\n\u001b[0;32m   4547\u001b[0m     indexer \u001b[38;5;241m=\u001b[39m axis\u001b[38;5;241m.\u001b[39mget_indexer(new_axis)\n\u001b[0;32m   4549\u001b[0m \u001b[38;5;66;03m# Case for non-unique axis\u001b[39;00m\n\u001b[0;32m   4550\u001b[0m \u001b[38;5;28;01melse\u001b[39;00m:\n",
      "File \u001b[1;32mc:\\Users\\Jwarn\\anaconda3\\anaconda\\lib\\site-packages\\pandas\\core\\indexes\\base.py:6934\u001b[0m, in \u001b[0;36mIndex.drop\u001b[1;34m(self, labels, errors)\u001b[0m\n\u001b[0;32m   6932\u001b[0m \u001b[38;5;28;01mif\u001b[39;00m mask\u001b[38;5;241m.\u001b[39many():\n\u001b[0;32m   6933\u001b[0m     \u001b[38;5;28;01mif\u001b[39;00m errors \u001b[38;5;241m!=\u001b[39m \u001b[38;5;124m\"\u001b[39m\u001b[38;5;124mignore\u001b[39m\u001b[38;5;124m\"\u001b[39m:\n\u001b[1;32m-> 6934\u001b[0m         \u001b[38;5;28;01mraise\u001b[39;00m \u001b[38;5;167;01mKeyError\u001b[39;00m(\u001b[38;5;124mf\u001b[39m\u001b[38;5;124m\"\u001b[39m\u001b[38;5;132;01m{\u001b[39;00m\u001b[38;5;28mlist\u001b[39m(labels[mask])\u001b[38;5;132;01m}\u001b[39;00m\u001b[38;5;124m not found in axis\u001b[39m\u001b[38;5;124m\"\u001b[39m)\n\u001b[0;32m   6935\u001b[0m     indexer \u001b[38;5;241m=\u001b[39m indexer[\u001b[38;5;241m~\u001b[39mmask]\n\u001b[0;32m   6936\u001b[0m \u001b[38;5;28;01mreturn\u001b[39;00m \u001b[38;5;28mself\u001b[39m\u001b[38;5;241m.\u001b[39mdelete(indexer)\n",
      "\u001b[1;31mKeyError\u001b[0m: \"['Unnamed: 0', 'datetimeEpoch', 'sunrise', 'sunriseEpoch', 'sunset', 'sunsetEpoch', 'moonphase', 'description', 'stations', 'source', 'feelslikemin', 'feelslike', 'feelslikemax', 'snow', 'snowdepth', 'temp'] not found in axis\""
     ]
    }
   ],
   "source": [
    "no_tornado_days = no_tornado_days.drop(columns = columns_to_drop)\n",
    "no_tornado_days['Region'] = non_tornado_final_sample['Region']\n",
    "no_tornado_days['Tornado'] = 0\n",
    "no_tornado_days['Temp_Difference'] = no_tornado_days['tempmax'] - no_tornado_days['tempmin']\n",
    "no_tornado_days.head()"
   ]
  },
  {
   "cell_type": "code",
   "execution_count": 48,
   "metadata": {},
   "outputs": [
    {
     "data": {
      "text/html": [
       "<div>\n",
       "<style scoped>\n",
       "    .dataframe tbody tr th:only-of-type {\n",
       "        vertical-align: middle;\n",
       "    }\n",
       "\n",
       "    .dataframe tbody tr th {\n",
       "        vertical-align: top;\n",
       "    }\n",
       "\n",
       "    .dataframe thead th {\n",
       "        text-align: right;\n",
       "    }\n",
       "</style>\n",
       "<table border=\"1\" class=\"dataframe\">\n",
       "  <thead>\n",
       "    <tr style=\"text-align: right;\">\n",
       "      <th></th>\n",
       "      <th>datetime</th>\n",
       "      <th>dew</th>\n",
       "      <th>humidity</th>\n",
       "      <th>precip</th>\n",
       "      <th>precipprob</th>\n",
       "      <th>precipcover</th>\n",
       "      <th>preciptype</th>\n",
       "      <th>windgust</th>\n",
       "      <th>windspeed</th>\n",
       "      <th>winddir</th>\n",
       "      <th>...</th>\n",
       "      <th>visibility</th>\n",
       "      <th>solarradiation</th>\n",
       "      <th>solarenergy</th>\n",
       "      <th>uvindex</th>\n",
       "      <th>severerisk</th>\n",
       "      <th>conditions</th>\n",
       "      <th>icon</th>\n",
       "      <th>Region</th>\n",
       "      <th>Tornado</th>\n",
       "      <th>Temp_Difference</th>\n",
       "    </tr>\n",
       "  </thead>\n",
       "  <tbody>\n",
       "    <tr>\n",
       "      <th>0</th>\n",
       "      <td>2022-02-04</td>\n",
       "      <td>28.5</td>\n",
       "      <td>90.9</td>\n",
       "      <td>1.696</td>\n",
       "      <td>100.0</td>\n",
       "      <td>100.00</td>\n",
       "      <td>['rain', 'snow']</td>\n",
       "      <td>23.7</td>\n",
       "      <td>19.5</td>\n",
       "      <td>9.7</td>\n",
       "      <td>...</td>\n",
       "      <td>2.6</td>\n",
       "      <td>10.4</td>\n",
       "      <td>0.9</td>\n",
       "      <td>1.0</td>\n",
       "      <td>10.0</td>\n",
       "      <td>Snow, Rain, Overcast</td>\n",
       "      <td>rain</td>\n",
       "      <td>NORTHEAST</td>\n",
       "      <td>0</td>\n",
       "      <td>18.1</td>\n",
       "    </tr>\n",
       "    <tr>\n",
       "      <th>1</th>\n",
       "      <td>2020-03-25</td>\n",
       "      <td>21.8</td>\n",
       "      <td>75.0</td>\n",
       "      <td>0.000</td>\n",
       "      <td>0.0</td>\n",
       "      <td>0.00</td>\n",
       "      <td>NaN</td>\n",
       "      <td>NaN</td>\n",
       "      <td>11.3</td>\n",
       "      <td>168.4</td>\n",
       "      <td>...</td>\n",
       "      <td>6.0</td>\n",
       "      <td>171.0</td>\n",
       "      <td>14.7</td>\n",
       "      <td>7.0</td>\n",
       "      <td>NaN</td>\n",
       "      <td>Partially cloudy</td>\n",
       "      <td>partly-cloudy-day</td>\n",
       "      <td>NORTHEAST</td>\n",
       "      <td>0</td>\n",
       "      <td>23.2</td>\n",
       "    </tr>\n",
       "    <tr>\n",
       "      <th>2</th>\n",
       "      <td>2020-04-06</td>\n",
       "      <td>36.8</td>\n",
       "      <td>52.7</td>\n",
       "      <td>0.005</td>\n",
       "      <td>100.0</td>\n",
       "      <td>12.50</td>\n",
       "      <td>['rain']</td>\n",
       "      <td>20.8</td>\n",
       "      <td>13.5</td>\n",
       "      <td>354.0</td>\n",
       "      <td>...</td>\n",
       "      <td>9.9</td>\n",
       "      <td>272.4</td>\n",
       "      <td>23.7</td>\n",
       "      <td>9.0</td>\n",
       "      <td>NaN</td>\n",
       "      <td>Rain, Partially cloudy</td>\n",
       "      <td>rain</td>\n",
       "      <td>NORTHEAST</td>\n",
       "      <td>0</td>\n",
       "      <td>17.5</td>\n",
       "    </tr>\n",
       "    <tr>\n",
       "      <th>3</th>\n",
       "      <td>2019-04-09</td>\n",
       "      <td>26.3</td>\n",
       "      <td>92.3</td>\n",
       "      <td>0.091</td>\n",
       "      <td>100.0</td>\n",
       "      <td>8.33</td>\n",
       "      <td>['rain', 'snow']</td>\n",
       "      <td>18.3</td>\n",
       "      <td>12.7</td>\n",
       "      <td>44.2</td>\n",
       "      <td>...</td>\n",
       "      <td>6.6</td>\n",
       "      <td>85.0</td>\n",
       "      <td>7.4</td>\n",
       "      <td>3.0</td>\n",
       "      <td>NaN</td>\n",
       "      <td>Snow, Rain, Overcast</td>\n",
       "      <td>snow</td>\n",
       "      <td>NORTHEAST</td>\n",
       "      <td>0</td>\n",
       "      <td>5.7</td>\n",
       "    </tr>\n",
       "    <tr>\n",
       "      <th>4</th>\n",
       "      <td>2020-04-02</td>\n",
       "      <td>29.8</td>\n",
       "      <td>81.9</td>\n",
       "      <td>0.213</td>\n",
       "      <td>100.0</td>\n",
       "      <td>33.33</td>\n",
       "      <td>['rain', 'snow']</td>\n",
       "      <td>26.1</td>\n",
       "      <td>15.8</td>\n",
       "      <td>326.9</td>\n",
       "      <td>...</td>\n",
       "      <td>8.5</td>\n",
       "      <td>98.4</td>\n",
       "      <td>8.4</td>\n",
       "      <td>4.0</td>\n",
       "      <td>NaN</td>\n",
       "      <td>Snow, Rain, Partially cloudy</td>\n",
       "      <td>rain</td>\n",
       "      <td>NORTHEAST</td>\n",
       "      <td>0</td>\n",
       "      <td>5.7</td>\n",
       "    </tr>\n",
       "  </tbody>\n",
       "</table>\n",
       "<p>5 rows × 22 columns</p>\n",
       "</div>"
      ],
      "text/plain": [
       "     datetime   dew  humidity  precip  precipprob  precipcover  \\\n",
       "0  2022-02-04  28.5      90.9   1.696       100.0       100.00   \n",
       "1  2020-03-25  21.8      75.0   0.000         0.0         0.00   \n",
       "2  2020-04-06  36.8      52.7   0.005       100.0        12.50   \n",
       "3  2019-04-09  26.3      92.3   0.091       100.0         8.33   \n",
       "4  2020-04-02  29.8      81.9   0.213       100.0        33.33   \n",
       "\n",
       "         preciptype  windgust  windspeed  winddir  ...  visibility  \\\n",
       "0  ['rain', 'snow']      23.7       19.5      9.7  ...         2.6   \n",
       "1               NaN       NaN       11.3    168.4  ...         6.0   \n",
       "2          ['rain']      20.8       13.5    354.0  ...         9.9   \n",
       "3  ['rain', 'snow']      18.3       12.7     44.2  ...         6.6   \n",
       "4  ['rain', 'snow']      26.1       15.8    326.9  ...         8.5   \n",
       "\n",
       "   solarradiation  solarenergy  uvindex  severerisk  \\\n",
       "0            10.4          0.9      1.0        10.0   \n",
       "1           171.0         14.7      7.0         NaN   \n",
       "2           272.4         23.7      9.0         NaN   \n",
       "3            85.0          7.4      3.0         NaN   \n",
       "4            98.4          8.4      4.0         NaN   \n",
       "\n",
       "                     conditions               icon     Region Tornado  \\\n",
       "0          Snow, Rain, Overcast               rain  NORTHEAST       0   \n",
       "1              Partially cloudy  partly-cloudy-day  NORTHEAST       0   \n",
       "2        Rain, Partially cloudy               rain  NORTHEAST       0   \n",
       "3          Snow, Rain, Overcast               snow  NORTHEAST       0   \n",
       "4  Snow, Rain, Partially cloudy               rain  NORTHEAST       0   \n",
       "\n",
       "  Temp_Difference  \n",
       "0            18.1  \n",
       "1            23.2  \n",
       "2            17.5  \n",
       "3             5.7  \n",
       "4             5.7  \n",
       "\n",
       "[5 rows x 22 columns]"
      ]
     },
     "execution_count": 48,
     "metadata": {},
     "output_type": "execute_result"
    }
   ],
   "source": [
    "no_tornado_days = no_tornado_days.drop(columns=['tempmin', 'tempmax'])\n",
    "no_tornado_days.head()"
   ]
  },
  {
   "cell_type": "code",
   "execution_count": 49,
   "metadata": {},
   "outputs": [],
   "source": [
    "### Create binary target column 1 for tornado and 0 for no tornado  in both the tornado days and none###"
   ]
  },
  {
   "cell_type": "code",
   "execution_count": 105,
   "metadata": {},
   "outputs": [
    {
     "data": {
      "text/plain": [
       "997"
      ]
     },
     "execution_count": 105,
     "metadata": {},
     "output_type": "execute_result"
    }
   ],
   "source": [
    "combined_weather_data = pd.concat([no_tornado_days, tornado_weather_data], axis = 0)\n",
    "\n",
    "len(combined_weather_data)"
   ]
  },
  {
   "cell_type": "code",
   "execution_count": 106,
   "metadata": {},
   "outputs": [
    {
     "data": {
      "text/html": [
       "<div>\n",
       "<style scoped>\n",
       "    .dataframe tbody tr th:only-of-type {\n",
       "        vertical-align: middle;\n",
       "    }\n",
       "\n",
       "    .dataframe tbody tr th {\n",
       "        vertical-align: top;\n",
       "    }\n",
       "\n",
       "    .dataframe thead th {\n",
       "        text-align: right;\n",
       "    }\n",
       "</style>\n",
       "<table border=\"1\" class=\"dataframe\">\n",
       "  <thead>\n",
       "    <tr style=\"text-align: right;\">\n",
       "      <th></th>\n",
       "      <th>datetime</th>\n",
       "      <th>dew</th>\n",
       "      <th>humidity</th>\n",
       "      <th>precip</th>\n",
       "      <th>precipprob</th>\n",
       "      <th>precipcover</th>\n",
       "      <th>preciptype</th>\n",
       "      <th>windgust</th>\n",
       "      <th>windspeed</th>\n",
       "      <th>winddir</th>\n",
       "      <th>...</th>\n",
       "      <th>visibility</th>\n",
       "      <th>solarradiation</th>\n",
       "      <th>solarenergy</th>\n",
       "      <th>uvindex</th>\n",
       "      <th>severerisk</th>\n",
       "      <th>conditions</th>\n",
       "      <th>icon</th>\n",
       "      <th>Region</th>\n",
       "      <th>Tornado</th>\n",
       "      <th>Temp_Difference</th>\n",
       "    </tr>\n",
       "  </thead>\n",
       "  <tbody>\n",
       "    <tr>\n",
       "      <th>502</th>\n",
       "      <td>2019-01-02</td>\n",
       "      <td>57.8</td>\n",
       "      <td>94.5</td>\n",
       "      <td>0.241</td>\n",
       "      <td>100.0</td>\n",
       "      <td>45.83</td>\n",
       "      <td>['rain']</td>\n",
       "      <td>NaN</td>\n",
       "      <td>7.0</td>\n",
       "      <td>17.8</td>\n",
       "      <td>...</td>\n",
       "      <td>8.2</td>\n",
       "      <td>14.3</td>\n",
       "      <td>1.1</td>\n",
       "      <td>1.0</td>\n",
       "      <td>NaN</td>\n",
       "      <td>Rain, Overcast</td>\n",
       "      <td>rain</td>\n",
       "      <td>SOUTHEAST</td>\n",
       "      <td>0</td>\n",
       "      <td>3.6</td>\n",
       "    </tr>\n",
       "    <tr>\n",
       "      <th>497</th>\n",
       "      <td>2019-01-09</td>\n",
       "      <td>23.8</td>\n",
       "      <td>41.2</td>\n",
       "      <td>0.000</td>\n",
       "      <td>0.0</td>\n",
       "      <td>0.00</td>\n",
       "      <td>NaN</td>\n",
       "      <td>31.1</td>\n",
       "      <td>20.4</td>\n",
       "      <td>311.0</td>\n",
       "      <td>...</td>\n",
       "      <td>9.9</td>\n",
       "      <td>190.5</td>\n",
       "      <td>16.4</td>\n",
       "      <td>7.0</td>\n",
       "      <td>NaN</td>\n",
       "      <td>Clear</td>\n",
       "      <td>clear-day</td>\n",
       "      <td>SOUTHEAST</td>\n",
       "      <td>0</td>\n",
       "      <td>16.8</td>\n",
       "    </tr>\n",
       "    <tr>\n",
       "      <th>288</th>\n",
       "      <td>2019-01-10</td>\n",
       "      <td>32.4</td>\n",
       "      <td>50.1</td>\n",
       "      <td>0.000</td>\n",
       "      <td>0.0</td>\n",
       "      <td>0.00</td>\n",
       "      <td>NaN</td>\n",
       "      <td>NaN</td>\n",
       "      <td>7.9</td>\n",
       "      <td>131.5</td>\n",
       "      <td>...</td>\n",
       "      <td>9.9</td>\n",
       "      <td>79.4</td>\n",
       "      <td>6.9</td>\n",
       "      <td>4.0</td>\n",
       "      <td>NaN</td>\n",
       "      <td>Partially cloudy</td>\n",
       "      <td>partly-cloudy-day</td>\n",
       "      <td>SOUTH</td>\n",
       "      <td>0</td>\n",
       "      <td>16.9</td>\n",
       "    </tr>\n",
       "    <tr>\n",
       "      <th>128</th>\n",
       "      <td>2019-01-19</td>\n",
       "      <td>61.8</td>\n",
       "      <td>91.4</td>\n",
       "      <td>0.415</td>\n",
       "      <td>100.0</td>\n",
       "      <td>20.83</td>\n",
       "      <td>['rain']</td>\n",
       "      <td>39.1</td>\n",
       "      <td>23.4</td>\n",
       "      <td>177.3</td>\n",
       "      <td>...</td>\n",
       "      <td>8.8</td>\n",
       "      <td>75.6</td>\n",
       "      <td>6.5</td>\n",
       "      <td>4.0</td>\n",
       "      <td>NaN</td>\n",
       "      <td>Rain, Overcast</td>\n",
       "      <td>rain</td>\n",
       "      <td>SOUTHEAST</td>\n",
       "      <td>1</td>\n",
       "      <td>8.3</td>\n",
       "    </tr>\n",
       "    <tr>\n",
       "      <th>496</th>\n",
       "      <td>2019-01-20</td>\n",
       "      <td>27.7</td>\n",
       "      <td>70.5</td>\n",
       "      <td>0.010</td>\n",
       "      <td>100.0</td>\n",
       "      <td>4.17</td>\n",
       "      <td>['rain']</td>\n",
       "      <td>30.8</td>\n",
       "      <td>22.1</td>\n",
       "      <td>307.4</td>\n",
       "      <td>...</td>\n",
       "      <td>9.7</td>\n",
       "      <td>34.6</td>\n",
       "      <td>2.9</td>\n",
       "      <td>2.0</td>\n",
       "      <td>NaN</td>\n",
       "      <td>Rain, Partially cloudy</td>\n",
       "      <td>rain</td>\n",
       "      <td>SOUTHEAST</td>\n",
       "      <td>0</td>\n",
       "      <td>13.4</td>\n",
       "    </tr>\n",
       "    <tr>\n",
       "      <th>503</th>\n",
       "      <td>2019-01-26</td>\n",
       "      <td>21.9</td>\n",
       "      <td>63.0</td>\n",
       "      <td>0.000</td>\n",
       "      <td>0.0</td>\n",
       "      <td>0.00</td>\n",
       "      <td>NaN</td>\n",
       "      <td>17.2</td>\n",
       "      <td>10.9</td>\n",
       "      <td>237.5</td>\n",
       "      <td>...</td>\n",
       "      <td>9.9</td>\n",
       "      <td>64.0</td>\n",
       "      <td>5.5</td>\n",
       "      <td>4.0</td>\n",
       "      <td>NaN</td>\n",
       "      <td>Clear</td>\n",
       "      <td>clear-day</td>\n",
       "      <td>SOUTHEAST</td>\n",
       "      <td>0</td>\n",
       "      <td>26.4</td>\n",
       "    </tr>\n",
       "    <tr>\n",
       "      <th>127</th>\n",
       "      <td>2019-01-27</td>\n",
       "      <td>34.7</td>\n",
       "      <td>62.6</td>\n",
       "      <td>0.000</td>\n",
       "      <td>0.0</td>\n",
       "      <td>0.00</td>\n",
       "      <td>NaN</td>\n",
       "      <td>NaN</td>\n",
       "      <td>8.7</td>\n",
       "      <td>13.9</td>\n",
       "      <td>...</td>\n",
       "      <td>9.9</td>\n",
       "      <td>44.0</td>\n",
       "      <td>3.8</td>\n",
       "      <td>2.0</td>\n",
       "      <td>NaN</td>\n",
       "      <td>Partially cloudy</td>\n",
       "      <td>partly-cloudy-day</td>\n",
       "      <td>SOUTHEAST</td>\n",
       "      <td>1</td>\n",
       "      <td>12.0</td>\n",
       "    </tr>\n",
       "    <tr>\n",
       "      <th>517</th>\n",
       "      <td>2019-02-03</td>\n",
       "      <td>37.3</td>\n",
       "      <td>74.2</td>\n",
       "      <td>0.000</td>\n",
       "      <td>0.0</td>\n",
       "      <td>0.00</td>\n",
       "      <td>NaN</td>\n",
       "      <td>NaN</td>\n",
       "      <td>2.8</td>\n",
       "      <td>90.5</td>\n",
       "      <td>...</td>\n",
       "      <td>9.8</td>\n",
       "      <td>57.5</td>\n",
       "      <td>5.0</td>\n",
       "      <td>3.0</td>\n",
       "      <td>NaN</td>\n",
       "      <td>Partially cloudy</td>\n",
       "      <td>partly-cloudy-day</td>\n",
       "      <td>SOUTHEAST</td>\n",
       "      <td>0</td>\n",
       "      <td>26.9</td>\n",
       "    </tr>\n",
       "    <tr>\n",
       "      <th>40</th>\n",
       "      <td>2019-02-07</td>\n",
       "      <td>49.8</td>\n",
       "      <td>95.0</td>\n",
       "      <td>0.764</td>\n",
       "      <td>100.0</td>\n",
       "      <td>54.17</td>\n",
       "      <td>['rain']</td>\n",
       "      <td>39.0</td>\n",
       "      <td>24.2</td>\n",
       "      <td>170.2</td>\n",
       "      <td>...</td>\n",
       "      <td>4.1</td>\n",
       "      <td>18.8</td>\n",
       "      <td>1.8</td>\n",
       "      <td>1.0</td>\n",
       "      <td>NaN</td>\n",
       "      <td>Rain, Overcast</td>\n",
       "      <td>rain</td>\n",
       "      <td>OHIO VALLEY</td>\n",
       "      <td>1</td>\n",
       "      <td>16.0</td>\n",
       "    </tr>\n",
       "    <tr>\n",
       "      <th>295</th>\n",
       "      <td>2019-02-13</td>\n",
       "      <td>27.4</td>\n",
       "      <td>45.8</td>\n",
       "      <td>0.000</td>\n",
       "      <td>0.0</td>\n",
       "      <td>0.00</td>\n",
       "      <td>NaN</td>\n",
       "      <td>41.3</td>\n",
       "      <td>26.8</td>\n",
       "      <td>189.5</td>\n",
       "      <td>...</td>\n",
       "      <td>9.8</td>\n",
       "      <td>91.5</td>\n",
       "      <td>7.9</td>\n",
       "      <td>4.0</td>\n",
       "      <td>NaN</td>\n",
       "      <td>Partially cloudy</td>\n",
       "      <td>partly-cloudy-day</td>\n",
       "      <td>SOUTH</td>\n",
       "      <td>0</td>\n",
       "      <td>25.4</td>\n",
       "    </tr>\n",
       "    <tr>\n",
       "      <th>148</th>\n",
       "      <td>2019-02-28</td>\n",
       "      <td>30.6</td>\n",
       "      <td>69.5</td>\n",
       "      <td>0.680</td>\n",
       "      <td>100.0</td>\n",
       "      <td>20.83</td>\n",
       "      <td>['rain', 'snow']</td>\n",
       "      <td>23.0</td>\n",
       "      <td>12.7</td>\n",
       "      <td>358.0</td>\n",
       "      <td>...</td>\n",
       "      <td>8.2</td>\n",
       "      <td>86.9</td>\n",
       "      <td>7.4</td>\n",
       "      <td>5.0</td>\n",
       "      <td>NaN</td>\n",
       "      <td>Snow, Rain, Partially cloudy</td>\n",
       "      <td>rain</td>\n",
       "      <td>OHIO VALLEY</td>\n",
       "      <td>0</td>\n",
       "      <td>19.0</td>\n",
       "    </tr>\n",
       "    <tr>\n",
       "      <th>136</th>\n",
       "      <td>2019-03-03</td>\n",
       "      <td>57.1</td>\n",
       "      <td>84.7</td>\n",
       "      <td>0.330</td>\n",
       "      <td>100.0</td>\n",
       "      <td>25.00</td>\n",
       "      <td>['rain']</td>\n",
       "      <td>33.2</td>\n",
       "      <td>10.5</td>\n",
       "      <td>207.7</td>\n",
       "      <td>...</td>\n",
       "      <td>8.8</td>\n",
       "      <td>73.0</td>\n",
       "      <td>6.3</td>\n",
       "      <td>4.0</td>\n",
       "      <td>NaN</td>\n",
       "      <td>Rain, Partially cloudy</td>\n",
       "      <td>rain</td>\n",
       "      <td>SOUTHEAST</td>\n",
       "      <td>1</td>\n",
       "      <td>18.6</td>\n",
       "    </tr>\n",
       "    <tr>\n",
       "      <th>533</th>\n",
       "      <td>2019-03-06</td>\n",
       "      <td>10.6</td>\n",
       "      <td>39.4</td>\n",
       "      <td>0.000</td>\n",
       "      <td>0.0</td>\n",
       "      <td>0.00</td>\n",
       "      <td>NaN</td>\n",
       "      <td>24.0</td>\n",
       "      <td>13.3</td>\n",
       "      <td>300.6</td>\n",
       "      <td>...</td>\n",
       "      <td>9.9</td>\n",
       "      <td>104.2</td>\n",
       "      <td>9.0</td>\n",
       "      <td>7.0</td>\n",
       "      <td>NaN</td>\n",
       "      <td>Clear</td>\n",
       "      <td>clear-day</td>\n",
       "      <td>SOUTHEAST</td>\n",
       "      <td>0</td>\n",
       "      <td>13.2</td>\n",
       "    </tr>\n",
       "    <tr>\n",
       "      <th>532</th>\n",
       "      <td>2019-03-06</td>\n",
       "      <td>17.9</td>\n",
       "      <td>45.0</td>\n",
       "      <td>0.000</td>\n",
       "      <td>0.0</td>\n",
       "      <td>0.00</td>\n",
       "      <td>NaN</td>\n",
       "      <td>16.1</td>\n",
       "      <td>9.2</td>\n",
       "      <td>323.4</td>\n",
       "      <td>...</td>\n",
       "      <td>9.9</td>\n",
       "      <td>231.1</td>\n",
       "      <td>20.0</td>\n",
       "      <td>8.0</td>\n",
       "      <td>NaN</td>\n",
       "      <td>Clear</td>\n",
       "      <td>clear-day</td>\n",
       "      <td>SOUTHEAST</td>\n",
       "      <td>0</td>\n",
       "      <td>25.0</td>\n",
       "    </tr>\n",
       "    <tr>\n",
       "      <th>526</th>\n",
       "      <td>2019-03-07</td>\n",
       "      <td>27.9</td>\n",
       "      <td>52.3</td>\n",
       "      <td>0.000</td>\n",
       "      <td>0.0</td>\n",
       "      <td>0.00</td>\n",
       "      <td>NaN</td>\n",
       "      <td>NaN</td>\n",
       "      <td>7.9</td>\n",
       "      <td>139.1</td>\n",
       "      <td>...</td>\n",
       "      <td>9.9</td>\n",
       "      <td>222.4</td>\n",
       "      <td>19.1</td>\n",
       "      <td>8.0</td>\n",
       "      <td>NaN</td>\n",
       "      <td>Partially cloudy</td>\n",
       "      <td>partly-cloudy-day</td>\n",
       "      <td>SOUTHEAST</td>\n",
       "      <td>0</td>\n",
       "      <td>30.4</td>\n",
       "    </tr>\n",
       "  </tbody>\n",
       "</table>\n",
       "<p>15 rows × 22 columns</p>\n",
       "</div>"
      ],
      "text/plain": [
       "       datetime   dew  humidity  precip  precipprob  precipcover  \\\n",
       "502  2019-01-02  57.8      94.5   0.241       100.0        45.83   \n",
       "497  2019-01-09  23.8      41.2   0.000         0.0         0.00   \n",
       "288  2019-01-10  32.4      50.1   0.000         0.0         0.00   \n",
       "128  2019-01-19  61.8      91.4   0.415       100.0        20.83   \n",
       "496  2019-01-20  27.7      70.5   0.010       100.0         4.17   \n",
       "503  2019-01-26  21.9      63.0   0.000         0.0         0.00   \n",
       "127  2019-01-27  34.7      62.6   0.000         0.0         0.00   \n",
       "517  2019-02-03  37.3      74.2   0.000         0.0         0.00   \n",
       "40   2019-02-07  49.8      95.0   0.764       100.0        54.17   \n",
       "295  2019-02-13  27.4      45.8   0.000         0.0         0.00   \n",
       "148  2019-02-28  30.6      69.5   0.680       100.0        20.83   \n",
       "136  2019-03-03  57.1      84.7   0.330       100.0        25.00   \n",
       "533  2019-03-06  10.6      39.4   0.000         0.0         0.00   \n",
       "532  2019-03-06  17.9      45.0   0.000         0.0         0.00   \n",
       "526  2019-03-07  27.9      52.3   0.000         0.0         0.00   \n",
       "\n",
       "           preciptype  windgust  windspeed  winddir  ...  visibility  \\\n",
       "502          ['rain']       NaN        7.0     17.8  ...         8.2   \n",
       "497               NaN      31.1       20.4    311.0  ...         9.9   \n",
       "288               NaN       NaN        7.9    131.5  ...         9.9   \n",
       "128          ['rain']      39.1       23.4    177.3  ...         8.8   \n",
       "496          ['rain']      30.8       22.1    307.4  ...         9.7   \n",
       "503               NaN      17.2       10.9    237.5  ...         9.9   \n",
       "127               NaN       NaN        8.7     13.9  ...         9.9   \n",
       "517               NaN       NaN        2.8     90.5  ...         9.8   \n",
       "40           ['rain']      39.0       24.2    170.2  ...         4.1   \n",
       "295               NaN      41.3       26.8    189.5  ...         9.8   \n",
       "148  ['rain', 'snow']      23.0       12.7    358.0  ...         8.2   \n",
       "136          ['rain']      33.2       10.5    207.7  ...         8.8   \n",
       "533               NaN      24.0       13.3    300.6  ...         9.9   \n",
       "532               NaN      16.1        9.2    323.4  ...         9.9   \n",
       "526               NaN       NaN        7.9    139.1  ...         9.9   \n",
       "\n",
       "     solarradiation  solarenergy  uvindex  severerisk  \\\n",
       "502            14.3          1.1      1.0         NaN   \n",
       "497           190.5         16.4      7.0         NaN   \n",
       "288            79.4          6.9      4.0         NaN   \n",
       "128            75.6          6.5      4.0         NaN   \n",
       "496            34.6          2.9      2.0         NaN   \n",
       "503            64.0          5.5      4.0         NaN   \n",
       "127            44.0          3.8      2.0         NaN   \n",
       "517            57.5          5.0      3.0         NaN   \n",
       "40             18.8          1.8      1.0         NaN   \n",
       "295            91.5          7.9      4.0         NaN   \n",
       "148            86.9          7.4      5.0         NaN   \n",
       "136            73.0          6.3      4.0         NaN   \n",
       "533           104.2          9.0      7.0         NaN   \n",
       "532           231.1         20.0      8.0         NaN   \n",
       "526           222.4         19.1      8.0         NaN   \n",
       "\n",
       "                       conditions               icon       Region Tornado  \\\n",
       "502                Rain, Overcast               rain    SOUTHEAST       0   \n",
       "497                         Clear          clear-day    SOUTHEAST       0   \n",
       "288              Partially cloudy  partly-cloudy-day        SOUTH       0   \n",
       "128                Rain, Overcast               rain    SOUTHEAST       1   \n",
       "496        Rain, Partially cloudy               rain    SOUTHEAST       0   \n",
       "503                         Clear          clear-day    SOUTHEAST       0   \n",
       "127              Partially cloudy  partly-cloudy-day    SOUTHEAST       1   \n",
       "517              Partially cloudy  partly-cloudy-day    SOUTHEAST       0   \n",
       "40                 Rain, Overcast               rain  OHIO VALLEY       1   \n",
       "295              Partially cloudy  partly-cloudy-day        SOUTH       0   \n",
       "148  Snow, Rain, Partially cloudy               rain  OHIO VALLEY       0   \n",
       "136        Rain, Partially cloudy               rain    SOUTHEAST       1   \n",
       "533                         Clear          clear-day    SOUTHEAST       0   \n",
       "532                         Clear          clear-day    SOUTHEAST       0   \n",
       "526              Partially cloudy  partly-cloudy-day    SOUTHEAST       0   \n",
       "\n",
       "    Temp_Difference  \n",
       "502             3.6  \n",
       "497            16.8  \n",
       "288            16.9  \n",
       "128             8.3  \n",
       "496            13.4  \n",
       "503            26.4  \n",
       "127            12.0  \n",
       "517            26.9  \n",
       "40             16.0  \n",
       "295            25.4  \n",
       "148            19.0  \n",
       "136            18.6  \n",
       "533            13.2  \n",
       "532            25.0  \n",
       "526            30.4  \n",
       "\n",
       "[15 rows x 22 columns]"
      ]
     },
     "execution_count": 106,
     "metadata": {},
     "output_type": "execute_result"
    }
   ],
   "source": [
    "weather_by_date = combined_weather_data.sort_values(by = 'datetime')\n",
    "weather_by_date.head(15)"
   ]
  },
  {
   "cell_type": "code",
   "execution_count": 107,
   "metadata": {},
   "outputs": [
    {
     "data": {
      "text/plain": [
       "datetime             0\n",
       "dew                  0\n",
       "humidity             0\n",
       "precip               0\n",
       "precipprob           0\n",
       "precipcover          0\n",
       "preciptype         616\n",
       "windgust            95\n",
       "windspeed            0\n",
       "winddir              0\n",
       "pressure             0\n",
       "cloudcover           0\n",
       "visibility           0\n",
       "solarradiation       0\n",
       "solarenergy          0\n",
       "uvindex              0\n",
       "severerisk         629\n",
       "conditions           0\n",
       "icon                 0\n",
       "Region               0\n",
       "Tornado              0\n",
       "Temp_Difference      0\n",
       "dtype: int64"
      ]
     },
     "execution_count": 107,
     "metadata": {},
     "output_type": "execute_result"
    }
   ],
   "source": [
    "weather_by_date.isna().sum()"
   ]
  },
  {
   "cell_type": "code",
   "execution_count": 108,
   "metadata": {},
   "outputs": [],
   "source": [
    "weather_by_date = weather_by_date.drop(columns = ['preciptype', 'severerisk', 'precipcover', 'conditions'])"
   ]
  },
  {
   "cell_type": "code",
   "execution_count": 109,
   "metadata": {},
   "outputs": [
    {
     "data": {
      "text/html": [
       "<div>\n",
       "<style scoped>\n",
       "    .dataframe tbody tr th:only-of-type {\n",
       "        vertical-align: middle;\n",
       "    }\n",
       "\n",
       "    .dataframe tbody tr th {\n",
       "        vertical-align: top;\n",
       "    }\n",
       "\n",
       "    .dataframe thead th {\n",
       "        text-align: right;\n",
       "    }\n",
       "</style>\n",
       "<table border=\"1\" class=\"dataframe\">\n",
       "  <thead>\n",
       "    <tr style=\"text-align: right;\">\n",
       "      <th></th>\n",
       "      <th>datetime</th>\n",
       "      <th>dew</th>\n",
       "      <th>humidity</th>\n",
       "      <th>precip</th>\n",
       "      <th>precipprob</th>\n",
       "      <th>windgust</th>\n",
       "      <th>windspeed</th>\n",
       "      <th>winddir</th>\n",
       "      <th>pressure</th>\n",
       "      <th>cloudcover</th>\n",
       "      <th>visibility</th>\n",
       "      <th>solarradiation</th>\n",
       "      <th>solarenergy</th>\n",
       "      <th>uvindex</th>\n",
       "      <th>icon</th>\n",
       "      <th>Region</th>\n",
       "      <th>Tornado</th>\n",
       "      <th>Temp_Difference</th>\n",
       "    </tr>\n",
       "  </thead>\n",
       "  <tbody>\n",
       "    <tr>\n",
       "      <th>502</th>\n",
       "      <td>2019-01-02</td>\n",
       "      <td>57.8</td>\n",
       "      <td>94.5</td>\n",
       "      <td>0.241</td>\n",
       "      <td>100.0</td>\n",
       "      <td>NaN</td>\n",
       "      <td>7.0</td>\n",
       "      <td>17.8</td>\n",
       "      <td>1019.7</td>\n",
       "      <td>98.7</td>\n",
       "      <td>8.2</td>\n",
       "      <td>14.3</td>\n",
       "      <td>1.1</td>\n",
       "      <td>1.0</td>\n",
       "      <td>rain</td>\n",
       "      <td>SOUTHEAST</td>\n",
       "      <td>0</td>\n",
       "      <td>3.6</td>\n",
       "    </tr>\n",
       "    <tr>\n",
       "      <th>497</th>\n",
       "      <td>2019-01-09</td>\n",
       "      <td>23.8</td>\n",
       "      <td>41.2</td>\n",
       "      <td>0.000</td>\n",
       "      <td>0.0</td>\n",
       "      <td>31.1</td>\n",
       "      <td>20.4</td>\n",
       "      <td>311.0</td>\n",
       "      <td>1020.4</td>\n",
       "      <td>3.4</td>\n",
       "      <td>9.9</td>\n",
       "      <td>190.5</td>\n",
       "      <td>16.4</td>\n",
       "      <td>7.0</td>\n",
       "      <td>clear-day</td>\n",
       "      <td>SOUTHEAST</td>\n",
       "      <td>0</td>\n",
       "      <td>16.8</td>\n",
       "    </tr>\n",
       "    <tr>\n",
       "      <th>288</th>\n",
       "      <td>2019-01-10</td>\n",
       "      <td>32.4</td>\n",
       "      <td>50.1</td>\n",
       "      <td>0.000</td>\n",
       "      <td>0.0</td>\n",
       "      <td>NaN</td>\n",
       "      <td>7.9</td>\n",
       "      <td>131.5</td>\n",
       "      <td>1026.1</td>\n",
       "      <td>65.0</td>\n",
       "      <td>9.9</td>\n",
       "      <td>79.4</td>\n",
       "      <td>6.9</td>\n",
       "      <td>4.0</td>\n",
       "      <td>partly-cloudy-day</td>\n",
       "      <td>SOUTH</td>\n",
       "      <td>0</td>\n",
       "      <td>16.9</td>\n",
       "    </tr>\n",
       "    <tr>\n",
       "      <th>128</th>\n",
       "      <td>2019-01-19</td>\n",
       "      <td>61.8</td>\n",
       "      <td>91.4</td>\n",
       "      <td>0.415</td>\n",
       "      <td>100.0</td>\n",
       "      <td>39.1</td>\n",
       "      <td>23.4</td>\n",
       "      <td>177.3</td>\n",
       "      <td>1012.0</td>\n",
       "      <td>90.6</td>\n",
       "      <td>8.8</td>\n",
       "      <td>75.6</td>\n",
       "      <td>6.5</td>\n",
       "      <td>4.0</td>\n",
       "      <td>rain</td>\n",
       "      <td>SOUTHEAST</td>\n",
       "      <td>1</td>\n",
       "      <td>8.3</td>\n",
       "    </tr>\n",
       "    <tr>\n",
       "      <th>496</th>\n",
       "      <td>2019-01-20</td>\n",
       "      <td>27.7</td>\n",
       "      <td>70.5</td>\n",
       "      <td>0.010</td>\n",
       "      <td>100.0</td>\n",
       "      <td>30.8</td>\n",
       "      <td>22.1</td>\n",
       "      <td>307.4</td>\n",
       "      <td>1019.7</td>\n",
       "      <td>66.3</td>\n",
       "      <td>9.7</td>\n",
       "      <td>34.6</td>\n",
       "      <td>2.9</td>\n",
       "      <td>2.0</td>\n",
       "      <td>rain</td>\n",
       "      <td>SOUTHEAST</td>\n",
       "      <td>0</td>\n",
       "      <td>13.4</td>\n",
       "    </tr>\n",
       "  </tbody>\n",
       "</table>\n",
       "</div>"
      ],
      "text/plain": [
       "       datetime   dew  humidity  precip  precipprob  windgust  windspeed  \\\n",
       "502  2019-01-02  57.8      94.5   0.241       100.0       NaN        7.0   \n",
       "497  2019-01-09  23.8      41.2   0.000         0.0      31.1       20.4   \n",
       "288  2019-01-10  32.4      50.1   0.000         0.0       NaN        7.9   \n",
       "128  2019-01-19  61.8      91.4   0.415       100.0      39.1       23.4   \n",
       "496  2019-01-20  27.7      70.5   0.010       100.0      30.8       22.1   \n",
       "\n",
       "     winddir  pressure  cloudcover  visibility  solarradiation  solarenergy  \\\n",
       "502     17.8    1019.7        98.7         8.2            14.3          1.1   \n",
       "497    311.0    1020.4         3.4         9.9           190.5         16.4   \n",
       "288    131.5    1026.1        65.0         9.9            79.4          6.9   \n",
       "128    177.3    1012.0        90.6         8.8            75.6          6.5   \n",
       "496    307.4    1019.7        66.3         9.7            34.6          2.9   \n",
       "\n",
       "     uvindex               icon     Region  Tornado  Temp_Difference  \n",
       "502      1.0               rain  SOUTHEAST        0              3.6  \n",
       "497      7.0          clear-day  SOUTHEAST        0             16.8  \n",
       "288      4.0  partly-cloudy-day      SOUTH        0             16.9  \n",
       "128      4.0               rain  SOUTHEAST        1              8.3  \n",
       "496      2.0               rain  SOUTHEAST        0             13.4  "
      ]
     },
     "execution_count": 109,
     "metadata": {},
     "output_type": "execute_result"
    }
   ],
   "source": [
    "weather_by_date.head()"
   ]
  },
  {
   "cell_type": "code",
   "execution_count": 110,
   "metadata": {},
   "outputs": [],
   "source": [
    "weather_by_date = weather_by_date.fillna(weather_by_date['windgust'].mean().round())"
   ]
  },
  {
   "cell_type": "code",
   "execution_count": 111,
   "metadata": {},
   "outputs": [
    {
     "data": {
      "text/html": [
       "<div>\n",
       "<style scoped>\n",
       "    .dataframe tbody tr th:only-of-type {\n",
       "        vertical-align: middle;\n",
       "    }\n",
       "\n",
       "    .dataframe tbody tr th {\n",
       "        vertical-align: top;\n",
       "    }\n",
       "\n",
       "    .dataframe thead th {\n",
       "        text-align: right;\n",
       "    }\n",
       "</style>\n",
       "<table border=\"1\" class=\"dataframe\">\n",
       "  <thead>\n",
       "    <tr style=\"text-align: right;\">\n",
       "      <th></th>\n",
       "      <th>datetime</th>\n",
       "      <th>dew</th>\n",
       "      <th>humidity</th>\n",
       "      <th>precip</th>\n",
       "      <th>precipprob</th>\n",
       "      <th>windgust</th>\n",
       "      <th>windspeed</th>\n",
       "      <th>winddir</th>\n",
       "      <th>pressure</th>\n",
       "      <th>cloudcover</th>\n",
       "      <th>visibility</th>\n",
       "      <th>solarradiation</th>\n",
       "      <th>solarenergy</th>\n",
       "      <th>uvindex</th>\n",
       "      <th>icon</th>\n",
       "      <th>Region</th>\n",
       "      <th>Tornado</th>\n",
       "      <th>Temp_Difference</th>\n",
       "    </tr>\n",
       "  </thead>\n",
       "  <tbody>\n",
       "    <tr>\n",
       "      <th>502</th>\n",
       "      <td>2019-01-02</td>\n",
       "      <td>57.8</td>\n",
       "      <td>94.5</td>\n",
       "      <td>0.241</td>\n",
       "      <td>100.0</td>\n",
       "      <td>26.0</td>\n",
       "      <td>7.0</td>\n",
       "      <td>17.8</td>\n",
       "      <td>1019.7</td>\n",
       "      <td>98.7</td>\n",
       "      <td>8.2</td>\n",
       "      <td>14.3</td>\n",
       "      <td>1.1</td>\n",
       "      <td>1.0</td>\n",
       "      <td>rain</td>\n",
       "      <td>SOUTHEAST</td>\n",
       "      <td>0</td>\n",
       "      <td>3.6</td>\n",
       "    </tr>\n",
       "    <tr>\n",
       "      <th>497</th>\n",
       "      <td>2019-01-09</td>\n",
       "      <td>23.8</td>\n",
       "      <td>41.2</td>\n",
       "      <td>0.000</td>\n",
       "      <td>0.0</td>\n",
       "      <td>31.1</td>\n",
       "      <td>20.4</td>\n",
       "      <td>311.0</td>\n",
       "      <td>1020.4</td>\n",
       "      <td>3.4</td>\n",
       "      <td>9.9</td>\n",
       "      <td>190.5</td>\n",
       "      <td>16.4</td>\n",
       "      <td>7.0</td>\n",
       "      <td>clear-day</td>\n",
       "      <td>SOUTHEAST</td>\n",
       "      <td>0</td>\n",
       "      <td>16.8</td>\n",
       "    </tr>\n",
       "    <tr>\n",
       "      <th>288</th>\n",
       "      <td>2019-01-10</td>\n",
       "      <td>32.4</td>\n",
       "      <td>50.1</td>\n",
       "      <td>0.000</td>\n",
       "      <td>0.0</td>\n",
       "      <td>26.0</td>\n",
       "      <td>7.9</td>\n",
       "      <td>131.5</td>\n",
       "      <td>1026.1</td>\n",
       "      <td>65.0</td>\n",
       "      <td>9.9</td>\n",
       "      <td>79.4</td>\n",
       "      <td>6.9</td>\n",
       "      <td>4.0</td>\n",
       "      <td>partly-cloudy-day</td>\n",
       "      <td>SOUTH</td>\n",
       "      <td>0</td>\n",
       "      <td>16.9</td>\n",
       "    </tr>\n",
       "    <tr>\n",
       "      <th>128</th>\n",
       "      <td>2019-01-19</td>\n",
       "      <td>61.8</td>\n",
       "      <td>91.4</td>\n",
       "      <td>0.415</td>\n",
       "      <td>100.0</td>\n",
       "      <td>39.1</td>\n",
       "      <td>23.4</td>\n",
       "      <td>177.3</td>\n",
       "      <td>1012.0</td>\n",
       "      <td>90.6</td>\n",
       "      <td>8.8</td>\n",
       "      <td>75.6</td>\n",
       "      <td>6.5</td>\n",
       "      <td>4.0</td>\n",
       "      <td>rain</td>\n",
       "      <td>SOUTHEAST</td>\n",
       "      <td>1</td>\n",
       "      <td>8.3</td>\n",
       "    </tr>\n",
       "    <tr>\n",
       "      <th>496</th>\n",
       "      <td>2019-01-20</td>\n",
       "      <td>27.7</td>\n",
       "      <td>70.5</td>\n",
       "      <td>0.010</td>\n",
       "      <td>100.0</td>\n",
       "      <td>30.8</td>\n",
       "      <td>22.1</td>\n",
       "      <td>307.4</td>\n",
       "      <td>1019.7</td>\n",
       "      <td>66.3</td>\n",
       "      <td>9.7</td>\n",
       "      <td>34.6</td>\n",
       "      <td>2.9</td>\n",
       "      <td>2.0</td>\n",
       "      <td>rain</td>\n",
       "      <td>SOUTHEAST</td>\n",
       "      <td>0</td>\n",
       "      <td>13.4</td>\n",
       "    </tr>\n",
       "  </tbody>\n",
       "</table>\n",
       "</div>"
      ],
      "text/plain": [
       "       datetime   dew  humidity  precip  precipprob  windgust  windspeed  \\\n",
       "502  2019-01-02  57.8      94.5   0.241       100.0      26.0        7.0   \n",
       "497  2019-01-09  23.8      41.2   0.000         0.0      31.1       20.4   \n",
       "288  2019-01-10  32.4      50.1   0.000         0.0      26.0        7.9   \n",
       "128  2019-01-19  61.8      91.4   0.415       100.0      39.1       23.4   \n",
       "496  2019-01-20  27.7      70.5   0.010       100.0      30.8       22.1   \n",
       "\n",
       "     winddir  pressure  cloudcover  visibility  solarradiation  solarenergy  \\\n",
       "502     17.8    1019.7        98.7         8.2            14.3          1.1   \n",
       "497    311.0    1020.4         3.4         9.9           190.5         16.4   \n",
       "288    131.5    1026.1        65.0         9.9            79.4          6.9   \n",
       "128    177.3    1012.0        90.6         8.8            75.6          6.5   \n",
       "496    307.4    1019.7        66.3         9.7            34.6          2.9   \n",
       "\n",
       "     uvindex               icon     Region  Tornado  Temp_Difference  \n",
       "502      1.0               rain  SOUTHEAST        0              3.6  \n",
       "497      7.0          clear-day  SOUTHEAST        0             16.8  \n",
       "288      4.0  partly-cloudy-day      SOUTH        0             16.9  \n",
       "128      4.0               rain  SOUTHEAST        1              8.3  \n",
       "496      2.0               rain  SOUTHEAST        0             13.4  "
      ]
     },
     "execution_count": 111,
     "metadata": {},
     "output_type": "execute_result"
    }
   ],
   "source": [
    "weather_by_date.head()"
   ]
  },
  {
   "cell_type": "code",
   "execution_count": 112,
   "metadata": {},
   "outputs": [
    {
     "data": {
      "text/plain": [
       "datetime            object\n",
       "dew                float64\n",
       "humidity           float64\n",
       "precip             float64\n",
       "precipprob         float64\n",
       "windgust           float64\n",
       "windspeed          float64\n",
       "winddir            float64\n",
       "pressure           float64\n",
       "cloudcover         float64\n",
       "visibility         float64\n",
       "solarradiation     float64\n",
       "solarenergy        float64\n",
       "uvindex            float64\n",
       "icon                object\n",
       "Region              object\n",
       "Tornado              int64\n",
       "Temp_Difference    float64\n",
       "dtype: object"
      ]
     },
     "execution_count": 112,
     "metadata": {},
     "output_type": "execute_result"
    }
   ],
   "source": [
    "weather_by_date.columns\n",
    "weather_by_date.dtypes"
   ]
  },
  {
   "cell_type": "code",
   "execution_count": 113,
   "metadata": {},
   "outputs": [
    {
     "data": {
      "text/html": [
       "<div>\n",
       "<style scoped>\n",
       "    .dataframe tbody tr th:only-of-type {\n",
       "        vertical-align: middle;\n",
       "    }\n",
       "\n",
       "    .dataframe tbody tr th {\n",
       "        vertical-align: top;\n",
       "    }\n",
       "\n",
       "    .dataframe thead th {\n",
       "        text-align: right;\n",
       "    }\n",
       "</style>\n",
       "<table border=\"1\" class=\"dataframe\">\n",
       "  <thead>\n",
       "    <tr style=\"text-align: right;\">\n",
       "      <th></th>\n",
       "      <th>dew</th>\n",
       "      <th>humidity</th>\n",
       "      <th>precip</th>\n",
       "      <th>precipprob</th>\n",
       "      <th>windgust</th>\n",
       "      <th>windspeed</th>\n",
       "      <th>winddir</th>\n",
       "      <th>pressure</th>\n",
       "      <th>cloudcover</th>\n",
       "      <th>visibility</th>\n",
       "      <th>solarradiation</th>\n",
       "      <th>solarenergy</th>\n",
       "      <th>uvindex</th>\n",
       "      <th>Temp_Difference</th>\n",
       "    </tr>\n",
       "  </thead>\n",
       "  <tbody>\n",
       "    <tr>\n",
       "      <th>dew</th>\n",
       "      <td>1.000000</td>\n",
       "      <td>0.529435</td>\n",
       "      <td>0.231854</td>\n",
       "      <td>0.299714</td>\n",
       "      <td>-0.002404</td>\n",
       "      <td>-0.108152</td>\n",
       "      <td>-0.190248</td>\n",
       "      <td>-0.336868</td>\n",
       "      <td>0.192583</td>\n",
       "      <td>-0.112430</td>\n",
       "      <td>0.027408</td>\n",
       "      <td>0.027537</td>\n",
       "      <td>0.075357</td>\n",
       "      <td>-0.292315</td>\n",
       "    </tr>\n",
       "    <tr>\n",
       "      <th>humidity</th>\n",
       "      <td>0.529435</td>\n",
       "      <td>1.000000</td>\n",
       "      <td>0.397775</td>\n",
       "      <td>0.501649</td>\n",
       "      <td>-0.019423</td>\n",
       "      <td>-0.134045</td>\n",
       "      <td>-0.192073</td>\n",
       "      <td>-0.047386</td>\n",
       "      <td>0.547657</td>\n",
       "      <td>-0.490211</td>\n",
       "      <td>-0.531920</td>\n",
       "      <td>-0.530735</td>\n",
       "      <td>-0.500495</td>\n",
       "      <td>-0.544362</td>\n",
       "    </tr>\n",
       "    <tr>\n",
       "      <th>precip</th>\n",
       "      <td>0.231854</td>\n",
       "      <td>0.397775</td>\n",
       "      <td>1.000000</td>\n",
       "      <td>0.459784</td>\n",
       "      <td>0.287357</td>\n",
       "      <td>0.171544</td>\n",
       "      <td>-0.105324</td>\n",
       "      <td>-0.216944</td>\n",
       "      <td>0.395393</td>\n",
       "      <td>-0.419333</td>\n",
       "      <td>-0.332976</td>\n",
       "      <td>-0.333539</td>\n",
       "      <td>-0.341102</td>\n",
       "      <td>-0.295504</td>\n",
       "    </tr>\n",
       "    <tr>\n",
       "      <th>precipprob</th>\n",
       "      <td>0.299714</td>\n",
       "      <td>0.501649</td>\n",
       "      <td>0.459784</td>\n",
       "      <td>1.000000</td>\n",
       "      <td>0.343444</td>\n",
       "      <td>0.230310</td>\n",
       "      <td>-0.065951</td>\n",
       "      <td>-0.284099</td>\n",
       "      <td>0.555408</td>\n",
       "      <td>-0.359168</td>\n",
       "      <td>-0.403536</td>\n",
       "      <td>-0.402715</td>\n",
       "      <td>-0.368521</td>\n",
       "      <td>-0.441912</td>\n",
       "    </tr>\n",
       "    <tr>\n",
       "      <th>windgust</th>\n",
       "      <td>-0.002404</td>\n",
       "      <td>-0.019423</td>\n",
       "      <td>0.287357</td>\n",
       "      <td>0.343444</td>\n",
       "      <td>1.000000</td>\n",
       "      <td>0.716876</td>\n",
       "      <td>0.080292</td>\n",
       "      <td>-0.392268</td>\n",
       "      <td>0.201039</td>\n",
       "      <td>-0.068924</td>\n",
       "      <td>-0.134850</td>\n",
       "      <td>-0.135022</td>\n",
       "      <td>-0.109283</td>\n",
       "      <td>-0.057340</td>\n",
       "    </tr>\n",
       "    <tr>\n",
       "      <th>windspeed</th>\n",
       "      <td>-0.108152</td>\n",
       "      <td>-0.134045</td>\n",
       "      <td>0.171544</td>\n",
       "      <td>0.230310</td>\n",
       "      <td>0.716876</td>\n",
       "      <td>1.000000</td>\n",
       "      <td>0.149034</td>\n",
       "      <td>-0.390675</td>\n",
       "      <td>0.134962</td>\n",
       "      <td>0.020106</td>\n",
       "      <td>-0.067892</td>\n",
       "      <td>-0.068237</td>\n",
       "      <td>-0.061295</td>\n",
       "      <td>-0.021649</td>\n",
       "    </tr>\n",
       "    <tr>\n",
       "      <th>winddir</th>\n",
       "      <td>-0.190248</td>\n",
       "      <td>-0.192073</td>\n",
       "      <td>-0.105324</td>\n",
       "      <td>-0.065951</td>\n",
       "      <td>0.080292</td>\n",
       "      <td>0.149034</td>\n",
       "      <td>1.000000</td>\n",
       "      <td>-0.104764</td>\n",
       "      <td>-0.155395</td>\n",
       "      <td>0.130921</td>\n",
       "      <td>0.111727</td>\n",
       "      <td>0.112182</td>\n",
       "      <td>0.083883</td>\n",
       "      <td>0.113759</td>\n",
       "    </tr>\n",
       "    <tr>\n",
       "      <th>pressure</th>\n",
       "      <td>-0.336868</td>\n",
       "      <td>-0.047386</td>\n",
       "      <td>-0.216944</td>\n",
       "      <td>-0.284099</td>\n",
       "      <td>-0.392268</td>\n",
       "      <td>-0.390675</td>\n",
       "      <td>-0.104764</td>\n",
       "      <td>1.000000</td>\n",
       "      <td>-0.221796</td>\n",
       "      <td>0.128989</td>\n",
       "      <td>0.014003</td>\n",
       "      <td>0.014599</td>\n",
       "      <td>0.036943</td>\n",
       "      <td>0.140373</td>\n",
       "    </tr>\n",
       "    <tr>\n",
       "      <th>cloudcover</th>\n",
       "      <td>0.192583</td>\n",
       "      <td>0.547657</td>\n",
       "      <td>0.395393</td>\n",
       "      <td>0.555408</td>\n",
       "      <td>0.201039</td>\n",
       "      <td>0.134962</td>\n",
       "      <td>-0.155395</td>\n",
       "      <td>-0.221796</td>\n",
       "      <td>1.000000</td>\n",
       "      <td>-0.448283</td>\n",
       "      <td>-0.585014</td>\n",
       "      <td>-0.584282</td>\n",
       "      <td>-0.569452</td>\n",
       "      <td>-0.651104</td>\n",
       "    </tr>\n",
       "    <tr>\n",
       "      <th>visibility</th>\n",
       "      <td>-0.112430</td>\n",
       "      <td>-0.490211</td>\n",
       "      <td>-0.419333</td>\n",
       "      <td>-0.359168</td>\n",
       "      <td>-0.068924</td>\n",
       "      <td>0.020106</td>\n",
       "      <td>0.130921</td>\n",
       "      <td>0.128989</td>\n",
       "      <td>-0.448283</td>\n",
       "      <td>1.000000</td>\n",
       "      <td>0.406373</td>\n",
       "      <td>0.407078</td>\n",
       "      <td>0.438512</td>\n",
       "      <td>0.352215</td>\n",
       "    </tr>\n",
       "    <tr>\n",
       "      <th>solarradiation</th>\n",
       "      <td>0.027408</td>\n",
       "      <td>-0.531920</td>\n",
       "      <td>-0.332976</td>\n",
       "      <td>-0.403536</td>\n",
       "      <td>-0.134850</td>\n",
       "      <td>-0.067892</td>\n",
       "      <td>0.111727</td>\n",
       "      <td>0.014003</td>\n",
       "      <td>-0.585014</td>\n",
       "      <td>0.406373</td>\n",
       "      <td>1.000000</td>\n",
       "      <td>0.999843</td>\n",
       "      <td>0.796255</td>\n",
       "      <td>0.461809</td>\n",
       "    </tr>\n",
       "    <tr>\n",
       "      <th>solarenergy</th>\n",
       "      <td>0.027537</td>\n",
       "      <td>-0.530735</td>\n",
       "      <td>-0.333539</td>\n",
       "      <td>-0.402715</td>\n",
       "      <td>-0.135022</td>\n",
       "      <td>-0.068237</td>\n",
       "      <td>0.112182</td>\n",
       "      <td>0.014599</td>\n",
       "      <td>-0.584282</td>\n",
       "      <td>0.407078</td>\n",
       "      <td>0.999843</td>\n",
       "      <td>1.000000</td>\n",
       "      <td>0.796381</td>\n",
       "      <td>0.460889</td>\n",
       "    </tr>\n",
       "    <tr>\n",
       "      <th>uvindex</th>\n",
       "      <td>0.075357</td>\n",
       "      <td>-0.500495</td>\n",
       "      <td>-0.341102</td>\n",
       "      <td>-0.368521</td>\n",
       "      <td>-0.109283</td>\n",
       "      <td>-0.061295</td>\n",
       "      <td>0.083883</td>\n",
       "      <td>0.036943</td>\n",
       "      <td>-0.569452</td>\n",
       "      <td>0.438512</td>\n",
       "      <td>0.796255</td>\n",
       "      <td>0.796381</td>\n",
       "      <td>1.000000</td>\n",
       "      <td>0.487009</td>\n",
       "    </tr>\n",
       "    <tr>\n",
       "      <th>Temp_Difference</th>\n",
       "      <td>-0.292315</td>\n",
       "      <td>-0.544362</td>\n",
       "      <td>-0.295504</td>\n",
       "      <td>-0.441912</td>\n",
       "      <td>-0.057340</td>\n",
       "      <td>-0.021649</td>\n",
       "      <td>0.113759</td>\n",
       "      <td>0.140373</td>\n",
       "      <td>-0.651104</td>\n",
       "      <td>0.352215</td>\n",
       "      <td>0.461809</td>\n",
       "      <td>0.460889</td>\n",
       "      <td>0.487009</td>\n",
       "      <td>1.000000</td>\n",
       "    </tr>\n",
       "  </tbody>\n",
       "</table>\n",
       "</div>"
      ],
      "text/plain": [
       "                      dew  humidity    precip  precipprob  windgust  \\\n",
       "dew              1.000000  0.529435  0.231854    0.299714 -0.002404   \n",
       "humidity         0.529435  1.000000  0.397775    0.501649 -0.019423   \n",
       "precip           0.231854  0.397775  1.000000    0.459784  0.287357   \n",
       "precipprob       0.299714  0.501649  0.459784    1.000000  0.343444   \n",
       "windgust        -0.002404 -0.019423  0.287357    0.343444  1.000000   \n",
       "windspeed       -0.108152 -0.134045  0.171544    0.230310  0.716876   \n",
       "winddir         -0.190248 -0.192073 -0.105324   -0.065951  0.080292   \n",
       "pressure        -0.336868 -0.047386 -0.216944   -0.284099 -0.392268   \n",
       "cloudcover       0.192583  0.547657  0.395393    0.555408  0.201039   \n",
       "visibility      -0.112430 -0.490211 -0.419333   -0.359168 -0.068924   \n",
       "solarradiation   0.027408 -0.531920 -0.332976   -0.403536 -0.134850   \n",
       "solarenergy      0.027537 -0.530735 -0.333539   -0.402715 -0.135022   \n",
       "uvindex          0.075357 -0.500495 -0.341102   -0.368521 -0.109283   \n",
       "Temp_Difference -0.292315 -0.544362 -0.295504   -0.441912 -0.057340   \n",
       "\n",
       "                 windspeed   winddir  pressure  cloudcover  visibility  \\\n",
       "dew              -0.108152 -0.190248 -0.336868    0.192583   -0.112430   \n",
       "humidity         -0.134045 -0.192073 -0.047386    0.547657   -0.490211   \n",
       "precip            0.171544 -0.105324 -0.216944    0.395393   -0.419333   \n",
       "precipprob        0.230310 -0.065951 -0.284099    0.555408   -0.359168   \n",
       "windgust          0.716876  0.080292 -0.392268    0.201039   -0.068924   \n",
       "windspeed         1.000000  0.149034 -0.390675    0.134962    0.020106   \n",
       "winddir           0.149034  1.000000 -0.104764   -0.155395    0.130921   \n",
       "pressure         -0.390675 -0.104764  1.000000   -0.221796    0.128989   \n",
       "cloudcover        0.134962 -0.155395 -0.221796    1.000000   -0.448283   \n",
       "visibility        0.020106  0.130921  0.128989   -0.448283    1.000000   \n",
       "solarradiation   -0.067892  0.111727  0.014003   -0.585014    0.406373   \n",
       "solarenergy      -0.068237  0.112182  0.014599   -0.584282    0.407078   \n",
       "uvindex          -0.061295  0.083883  0.036943   -0.569452    0.438512   \n",
       "Temp_Difference  -0.021649  0.113759  0.140373   -0.651104    0.352215   \n",
       "\n",
       "                 solarradiation  solarenergy   uvindex  Temp_Difference  \n",
       "dew                    0.027408     0.027537  0.075357        -0.292315  \n",
       "humidity              -0.531920    -0.530735 -0.500495        -0.544362  \n",
       "precip                -0.332976    -0.333539 -0.341102        -0.295504  \n",
       "precipprob            -0.403536    -0.402715 -0.368521        -0.441912  \n",
       "windgust              -0.134850    -0.135022 -0.109283        -0.057340  \n",
       "windspeed             -0.067892    -0.068237 -0.061295        -0.021649  \n",
       "winddir                0.111727     0.112182  0.083883         0.113759  \n",
       "pressure               0.014003     0.014599  0.036943         0.140373  \n",
       "cloudcover            -0.585014    -0.584282 -0.569452        -0.651104  \n",
       "visibility             0.406373     0.407078  0.438512         0.352215  \n",
       "solarradiation         1.000000     0.999843  0.796255         0.461809  \n",
       "solarenergy            0.999843     1.000000  0.796381         0.460889  \n",
       "uvindex                0.796255     0.796381  1.000000         0.487009  \n",
       "Temp_Difference        0.461809     0.460889  0.487009         1.000000  "
      ]
     },
     "execution_count": 113,
     "metadata": {},
     "output_type": "execute_result"
    }
   ],
   "source": [
    "import seaborn as sns\n",
    "from sklearn.feature_selection import mutual_info_classif\n",
    "\n",
    "\n",
    "\n",
    "numeric_columns = ['dew', 'humidity','precip','precipprob', 'windgust','windspeed', 'winddir', 'pressure', 'cloudcover','visibility', 'solarradiation',\n",
    "'solarenergy', 'uvindex', 'Temp_Difference']\n",
    "\n",
    "corr_matrix = weather_by_date[numeric_columns].corr()\n",
    "\n",
    "corr_matrix"
   ]
  },
  {
   "cell_type": "code",
   "execution_count": 114,
   "metadata": {},
   "outputs": [
    {
     "data": {
      "image/png": "[encoded data removed]",
      "text/plain": [
       "<Figure size 1200x1000 with 2 Axes>"
      ]
     },
     "metadata": {},
     "output_type": "display_data"
    }
   ],
   "source": [
    "import matplotlib.pyplot as plt\n",
    "plt.figure(figsize=(12, 10))\n",
    "sns.heatmap(corr_matrix, annot=True, cmap='coolwarm', linewidths=0.5)\n",
    "plt.title('Correlation Heatmap of Numeric Features')\n",
    "plt.show()"
   ]
  },
  {
   "cell_type": "code",
   "execution_count": 115,
   "metadata": {},
   "outputs": [
    {
     "data": {
      "image/png": "[encoded data removed]",
      "text/plain": [
       "<Figure size 1000x600 with 1 Axes>"
      ]
     },
     "metadata": {},
     "output_type": "display_data"
    }
   ],
   "source": [
    "from sklearn.ensemble import RandomForestClassifier\n",
    "X = weather_by_date.drop(['Tornado', 'datetime'], axis=1)  # Remove target and datetime\n",
    "y = weather_by_date['Tornado']\n",
    "X = pd.get_dummies(X, columns=['icon', 'Region'])\n",
    "\n",
    "rf = RandomForestClassifier(n_estimators=100, random_state=42)\n",
    "rf.fit(X, y)\n",
    "\n",
    "\n",
    "importance = rf.feature_importances_\n",
    "feature_importance = pd.DataFrame({'Feature': X.columns, 'Importance': importance})\n",
    "feature_importance = feature_importance.sort_values('Importance', ascending=False).reset_index(drop=True)\n",
    "\n",
    "plt.figure(figsize=(10, 6))\n",
    "sns.barplot(x='Importance', y='Feature', data=feature_importance.head(15))\n",
    "plt.title('Top 15 Features by Random Forest Feature Importance')\n",
    "plt.show()"
   ]
  },
  {
   "cell_type": "code",
   "execution_count": 116,
   "metadata": {},
   "outputs": [],
   "source": [
    "feature_selection = weather_by_date.drop(columns = ['solarradiation', 'Temp_Difference', 'solarenergy','visibility', 'precipprob', 'uvindex'])"
   ]
  },
  {
   "cell_type": "code",
   "execution_count": 117,
   "metadata": {},
   "outputs": [
    {
     "name": "stdout",
     "output_type": "stream",
     "text": [
      "              precision    recall  f1-score   support\n",
      "\n",
      "           0       0.89      0.94      0.91       154\n",
      "           1       0.74      0.63      0.68        46\n",
      "\n",
      "    accuracy                           0.86       200\n",
      "   macro avg       0.82      0.78      0.80       200\n",
      "weighted avg       0.86      0.86      0.86       200\n",
      "\n",
      "\n",
      "Confusion Matrix:\n",
      "[[144  10]\n",
      " [ 17  29]]\n"
     ]
    }
   ],
   "source": [
    "from sklearn.model_selection import train_test_split, cross_val_score\n",
    "from sklearn.preprocessing import StandardScaler\n",
    "from sklearn.ensemble import RandomForestClassifier\n",
    "from sklearn.metrics import classification_report, confusion_matrix\n",
    "from sklearn.impute import SimpleImputer\n",
    "from imblearn.over_sampling import SMOTE\n",
    "from sklearn.tree import DecisionTreeClassifier\n",
    "from sklearn.tree import plot_tree\n",
    "\n",
    "\n",
    "\n",
    "X = feature_selection.drop(['Tornado', 'datetime'], axis=1)\n",
    "y = feature_selection['Tornado']\n",
    "\n",
    "X = pd.get_dummies(X, columns=['Region', 'icon'])\n",
    "\n",
    "scaler = StandardScaler()\n",
    "X = pd.DataFrame(scaler.fit_transform(X), columns=X.columns)\n",
    "\n",
    "X_train, X_test, y_train, y_test = train_test_split(X, y, test_size=0.2, random_state=42)\n",
    "smote = SMOTE(random_state=42)\n",
    "X_train_resampled, y_train_resampled = smote.fit_resample(X_train, y_train)\n",
    "\n",
    "# class_weights = {0: 1, 1: 10}\n",
    "rf_model = RandomForestClassifier(random_state=42)\n",
    "\n",
    "rf_model.fit(X_train_resampled, y_train_resampled)\n",
    "\n",
    "y_pred = rf_model.predict(X_test)\n",
    "print(classification_report(y_test, y_pred))\n",
    "print(\"\\nConfusion Matrix:\")\n",
    "print(confusion_matrix(y_test, y_pred))\n"
   ]
  },
  {
   "cell_type": "code",
   "execution_count": 140,
   "metadata": {},
   "outputs": [
    {
     "name": "stdout",
     "output_type": "stream",
     "text": [
      "              precision    recall  f1-score   support\n",
      "\n",
      "           0       0.88      0.94      0.91       154\n",
      "           1       0.75      0.59      0.66        46\n",
      "\n",
      "    accuracy                           0.86       200\n",
      "   macro avg       0.82      0.76      0.79       200\n",
      "weighted avg       0.85      0.86      0.85       200\n",
      "\n",
      "\n",
      "Confusion Matrix:\n",
      "[[145   9]\n",
      " [ 19  27]]\n"
     ]
    }
   ],
   "source": [
    "from sklearn.model_selection import train_test_split, cross_val_score\n",
    "from sklearn.preprocessing import StandardScaler\n",
    "from sklearn.ensemble import RandomForestClassifier\n",
    "from sklearn.metrics import classification_report, confusion_matrix\n",
    "from sklearn.impute import SimpleImputer\n",
    "from imblearn.over_sampling import SMOTE\n",
    "from sklearn.tree import DecisionTreeClassifier\n",
    "from sklearn.tree import plot_tree\n",
    "\n",
    "\n",
    "\n",
    "X = weather_by_date.drop(['Tornado', 'datetime'], axis=1)\n",
    "y = weather_by_date['Tornado']\n",
    "\n",
    "X = pd.get_dummies(X, columns=['Region', 'icon'])\n",
    "\n",
    "scaler = StandardScaler()\n",
    "X = pd.DataFrame(scaler.fit_transform(X), columns=X.columns)\n",
    "\n",
    "X_train, X_test, y_train, y_test = train_test_split(X, y, test_size=0.2, random_state=42)\n",
    "smote = SMOTE(random_state=42)\n",
    "X_train_resampled, y_train_resampled = smote.fit_resample(X_train, y_train)\n",
    "\n",
    "# class_weights = {0: 1, 1: 10}\n",
    "rf_model = RandomForestClassifier(random_state=42)\n",
    "\n",
    "rf_model.fit(X_train_resampled, y_train_resampled)\n",
    "\n",
    "y_pred = rf_model.predict(X_test)\n",
    "print(classification_report(y_test, y_pred))\n",
    "print(\"\\nConfusion Matrix:\")\n",
    "print(confusion_matrix(y_test, y_pred))\n",
    "\n"
   ]
  },
  {
   "cell_type": "code",
   "execution_count": 119,
   "metadata": {},
   "outputs": [
    {
     "name": "stdout",
     "output_type": "stream",
     "text": [
      "Classification Report:\n",
      "              precision    recall  f1-score   support\n",
      "\n",
      "           0       0.89      0.90      0.89       154\n",
      "           1       0.64      0.63      0.64        46\n",
      "\n",
      "    accuracy                           0.83       200\n",
      "   macro avg       0.77      0.76      0.77       200\n",
      "weighted avg       0.83      0.83      0.83       200\n",
      "\n",
      "\n",
      "Confusion Matrix:\n",
      "[[138  16]\n",
      " [ 17  29]]\n"
     ]
    }
   ],
   "source": [
    "dt_classifier = DecisionTreeClassifier( random_state=42)\n",
    "dt_classifier.fit(X_train, y_train)\n",
    "\n",
    "y_pred = dt_classifier.predict(X_test)\n",
    "\n",
    "# Print the classification report and confusion matrix\n",
    "print(\"Classification Report:\")\n",
    "print(classification_report(y_test, y_pred))\n",
    "print(\"\\nConfusion Matrix:\")\n",
    "print(confusion_matrix(y_test, y_pred))"
   ]
  },
  {
   "cell_type": "code",
   "execution_count": 138,
   "metadata": {},
   "outputs": [
    {
     "name": "stdout",
     "output_type": "stream",
     "text": [
      "\n",
      "Cross-validation scores: [0.9        0.83       0.86934673 0.83919598 0.87939698]\n",
      "Mean CV score: 0.8635879396984926\n"
     ]
    }
   ],
   "source": [
    "cv_scores = cross_val_score(rf_model, X, y, cv=5)\n",
    "print(\"\\nCross-validation scores:\", cv_scores)\n",
    "print(\"Mean CV score:\", cv_scores.mean())"
   ]
  },
  {
   "cell_type": "code",
   "execution_count": 125,
   "metadata": {},
   "outputs": [
    {
     "name": "stdout",
     "output_type": "stream",
     "text": [
      "\n",
      "Logistic Regression Performance:\n",
      "              precision    recall  f1-score   support\n",
      "\n",
      "           0       0.92      0.79      0.85       154\n",
      "           1       0.52      0.76      0.62        46\n",
      "\n",
      "    accuracy                           0.79       200\n",
      "   macro avg       0.72      0.78      0.73       200\n",
      "weighted avg       0.83      0.79      0.80       200\n",
      "\n",
      "\n",
      "Confusion Matrix:\n",
      "[[138  16]\n",
      " [ 17  29]]\n",
      "\n",
      "Random Forest Performance:\n",
      "              precision    recall  f1-score   support\n",
      "\n",
      "           0       0.88      0.94      0.91       154\n",
      "           1       0.74      0.57      0.64        46\n",
      "\n",
      "    accuracy                           0.85       200\n",
      "   macro avg       0.81      0.75      0.78       200\n",
      "weighted avg       0.85      0.85      0.85       200\n",
      "\n",
      "\n",
      "Confusion Matrix:\n",
      "[[138  16]\n",
      " [ 17  29]]\n",
      "\n",
      "SVM Performance:\n",
      "              precision    recall  f1-score   support\n",
      "\n",
      "           0       0.90      0.84      0.87       154\n",
      "           1       0.57      0.70      0.63        46\n",
      "\n",
      "    accuracy                           0.81       200\n",
      "   macro avg       0.74      0.77      0.75       200\n",
      "weighted avg       0.83      0.81      0.82       200\n",
      "\n",
      "\n",
      "Confusion Matrix:\n",
      "[[138  16]\n",
      " [ 17  29]]\n"
     ]
    }
   ],
   "source": [
    "from sklearn.linear_model import LogisticRegression\n",
    "from sklearn.svm import SVC\n",
    "\n",
    "models = {\n",
    "    'Logistic Regression': LogisticRegression(),\n",
    "    'Random Forest': RandomForestClassifier(),\n",
    "    'SVM': SVC()\n",
    "}\n",
    "\n",
    "for name, model in models.items():\n",
    "    model.fit(X_train_resampled, y_train_resampled)\n",
    "    print(f\"\\n{name} Performance:\")\n",
    "    print(classification_report(y_test, model.predict(X_test)))\n",
    "\n",
    "    print(\"\\nConfusion Matrix:\")\n",
    "    print(confusion_matrix(y_test, y_pred))\n",
    "\n"
   ]
  },
  {
   "cell_type": "code",
   "execution_count": 137,
   "metadata": {},
   "outputs": [
    {
     "name": "stdout",
     "output_type": "stream",
     "text": [
      "\n",
      "Top 10 important features:\n",
      "       feature  importance\n",
      "7     pressure    0.153444\n",
      "0          dew    0.091230\n",
      "26   icon_rain    0.088496\n",
      "2       precip    0.086590\n",
      "3   precipprob    0.068459\n",
      "5    windspeed    0.059198\n",
      "6      winddir    0.058804\n",
      "9   visibility    0.047271\n",
      "8   cloudcover    0.047145\n",
      "1     humidity    0.046480\n"
     ]
    }
   ],
   "source": [
    "feature_importance = pd.DataFrame({'feature': X.columns, 'importance': rf_model.feature_importances_})\n",
    "feature_importance = feature_importance.sort_values('importance', ascending=False)\n",
    "print(\"\\nTop 10 important features:\")\n",
    "print(feature_importance.head(10))"
   ]
  },
  {
   "cell_type": "code",
   "execution_count": 129,
   "metadata": {},
   "outputs": [
    {
     "name": "stdout",
     "output_type": "stream",
     "text": [
      "Best parameters: {'n_estimators': 400, 'min_samples_split': 2, 'min_samples_leaf': 4, 'max_depth': 10}\n"
     ]
    }
   ],
   "source": [
    "from sklearn.model_selection import RandomizedSearchCV\n",
    "\n",
    "# Example for Random Forest\n",
    "param_dist = {\n",
    "    'n_estimators': [100, 200, 300, 400, 500],\n",
    "    'max_depth': [10, 20, 30, 40, 50, None],\n",
    "    'min_samples_split': [2, 5, 10],\n",
    "    'min_samples_leaf': [1, 2, 4]\n",
    "}\n",
    "\n",
    "rf_random = RandomizedSearchCV(estimator=rf_model, param_distributions=param_dist, n_iter=100, cv=3, random_state=42)\n",
    "rf_random.fit(X_train, y_train)\n",
    "\n",
    "print(\"Best parameters:\", rf_random.best_params_)\n"
   ]
  },
  {
   "cell_type": "code",
   "execution_count": 130,
   "metadata": {},
   "outputs": [
    {
     "name": "stdout",
     "output_type": "stream",
     "text": [
      "              precision    recall  f1-score   support\n",
      "\n",
      "           0       0.86      0.97      0.91       154\n",
      "           1       0.81      0.46      0.58        46\n",
      "\n",
      "    accuracy                           0.85       200\n",
      "   macro avg       0.83      0.71      0.75       200\n",
      "weighted avg       0.85      0.85      0.83       200\n",
      "\n",
      "\n",
      "Confusion Matrix:\n",
      "[[149   5]\n",
      " [ 25  21]]\n"
     ]
    }
   ],
   "source": [
    "y_pred = rf_random.predict(X_test)\n",
    "\n",
    "print(classification_report(y_test, y_pred))\n",
    "print(\"\\nConfusion Matrix:\")\n",
    "print(confusion_matrix(y_test, y_pred))"
   ]
  },
  {
   "cell_type": "code",
   "execution_count": 136,
   "metadata": {},
   "outputs": [
    {
     "data": {
      "image/png": "[encoded data removed]",
      "text/plain": [
       "<Figure size 800x600 with 1 Axes>"
      ]
     },
     "metadata": {},
     "output_type": "display_data"
    }
   ],
   "source": [
    "from sklearn.metrics import roc_curve, auc\n",
    "\n",
    "# ROC Curve\n",
    "fpr, tpr, thresholds = roc_curve(y_test, rf_model.predict_proba(X_test)[:,1])\n",
    "roc_auc = auc(fpr, tpr)\n",
    "\n",
    "plt.figure(figsize=(8, 6))\n",
    "plt.plot(fpr, tpr, color='darkorange', lw=2, label=f'ROC curve (AUC = {roc_auc:.2f})')\n",
    "plt.plot([0, 1], [0, 1], color='navy', lw=2, linestyle='--')\n",
    "plt.xlim([0.0, 1.0])\n",
    "plt.ylim([0.0, 1.05])\n",
    "plt.xlabel('False Positive Rate')\n",
    "plt.ylabel('True Positive Rate')\n",
    "plt.title('Receiver Operating Characteristic (ROC) Curve')\n",
    "plt.legend(loc=\"lower right\")\n",
    "plt.show()"
   ]
  },
  {
   "cell_type": "code",
   "execution_count": 134,
   "metadata": {},
   "outputs": [
    {
     "data": {
      "image/png": "[encoded data removed]",
      "text/plain": [
       "<Figure size 800x600 with 1 Axes>"
      ]
     },
     "metadata": {},
     "output_type": "display_data"
    }
   ],
   "source": [
    "# ROC Curve\n",
    "fpr, tpr, thresholds = roc_curve(y_test, rf_random.predict_proba(X_test)[:,1])\n",
    "roc_auc = auc(fpr, tpr)\n",
    "\n",
    "plt.figure(figsize=(8, 6))\n",
    "plt.plot(fpr, tpr, color='darkorange', lw=2, label=f'ROC curve (AUC = {roc_auc:.2f})')\n",
    "plt.plot([0, 1], [0, 1], color='navy', lw=2, linestyle='--')\n",
    "plt.xlim([0.0, 1.0])\n",
    "plt.ylim([0.0, 1.05])\n",
    "plt.xlabel('False Positive Rate')\n",
    "plt.ylabel('True Positive Rate')\n",
    "plt.title('Receiver Operating Characteristic (ROC) Curve')\n",
    "plt.legend(loc=\"lower right\")\n",
    "plt.show()"
   ]
  },
  {
   "cell_type": "code",
   "execution_count": null,
   "metadata": {},
   "outputs": [],
   "source": []
  }
 ],
 "metadata": {
  "kernelspec": {
   "display_name": "PythonData",
   "language": "python",
   "name": "pythondata"
  },
  "language_info": {
   "codemirror_mode": {
    "name": "ipython",
    "version": 3
   },
   "file_extension": ".py",
   "mimetype": "text/x-python",
   "name": "python",
   "nbconvert_exporter": "python",
   "pygments_lexer": "ipython3",
   "version": "3.9.13"
  }
 },
 "nbformat": 4,
 "nbformat_minor": 2
}
